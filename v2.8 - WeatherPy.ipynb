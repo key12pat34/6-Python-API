{
 "cells": [
  {
   "cell_type": "markdown",
   "metadata": {},
   "source": [
    "# WeatherPy\n",
    "----\n"
   ]
  },
  {
   "cell_type": "code",
   "execution_count": 1,
   "metadata": {
    "scrolled": true
   },
   "outputs": [],
   "source": [
    "# Dependencies\n",
    "\n",
    "import matplotlib.pyplot as plt\n",
    "import pandas as pd\n",
    "import numpy as np\n",
    "import requests\n",
    "import json\n",
    "import time\n",
    "from scipy.stats import linregress\n",
    "import scipy.stats as st\n",
    "import os\n",
    "\n",
    "\n",
    "# Incorporated citipy to determine city based on latitude and longitude\n",
    "from citipy import citipy\n",
    "\n",
    "\n",
    "# Range of latitudes and longitudes\n",
    "lat_range = (-90, 90)\n",
    "lng_range = (-180, 180)"
   ]
  },
  {
   "cell_type": "markdown",
   "metadata": {},
   "source": [
    "## Generate Cities List"
   ]
  },
  {
   "cell_type": "code",
   "execution_count": 2,
   "metadata": {},
   "outputs": [
    {
     "data": {
      "text/plain": [
       "584"
      ]
     },
     "execution_count": 2,
     "metadata": {},
     "output_type": "execute_result"
    }
   ],
   "source": [
    "################### NOTE #########################\n",
    "#####code provided by professor in this block\n",
    "##################################################\n",
    "\n",
    "# List for holding lat_lngs and cities values\n",
    "lat_lngs = []\n",
    "cities = []\n",
    "\n",
    "# Create a set of random lat and lng combinations\n",
    "lats = np.random.uniform(lat_range[0], lat_range[1], size=1500)\n",
    "lngs = np.random.uniform(lng_range[0], lng_range[1], size=1500)\n",
    "lat_lngs = zip(lats, lngs)\n",
    "\n",
    "# Identify nearest city for each lat, lng combination\n",
    "for lat_lng in lat_lngs:\n",
    "    city = citipy.nearest_city(lat_lng[0], lat_lng[1]).city_name\n",
    "    \n",
    "    # If the city is unique, then add it to a our cities list\n",
    "    if city not in cities:\n",
    "        cities.append(city)\n",
    "\n",
    "# Print the city count to confirm sufficient count\n",
    "len(cities)\n",
    "\n",
    "################### END BLOCK ####################\n",
    "##################################################"
   ]
  },
  {
   "cell_type": "code",
   "execution_count": 3,
   "metadata": {},
   "outputs": [
    {
     "data": {
      "text/html": [
       "<div>\n",
       "<style scoped>\n",
       "    .dataframe tbody tr th:only-of-type {\n",
       "        vertical-align: middle;\n",
       "    }\n",
       "\n",
       "    .dataframe tbody tr th {\n",
       "        vertical-align: top;\n",
       "    }\n",
       "\n",
       "    .dataframe thead th {\n",
       "        text-align: right;\n",
       "    }\n",
       "</style>\n",
       "<table border=\"1\" class=\"dataframe\">\n",
       "  <thead>\n",
       "    <tr style=\"text-align: right;\">\n",
       "      <th></th>\n",
       "      <th>City</th>\n",
       "    </tr>\n",
       "  </thead>\n",
       "  <tbody>\n",
       "    <tr>\n",
       "      <th>0</th>\n",
       "      <td>koumac</td>\n",
       "    </tr>\n",
       "    <tr>\n",
       "      <th>1</th>\n",
       "      <td>hasaki</td>\n",
       "    </tr>\n",
       "    <tr>\n",
       "      <th>2</th>\n",
       "      <td>cape town</td>\n",
       "    </tr>\n",
       "    <tr>\n",
       "      <th>3</th>\n",
       "      <td>te anau</td>\n",
       "    </tr>\n",
       "    <tr>\n",
       "      <th>4</th>\n",
       "      <td>porto seguro</td>\n",
       "    </tr>\n",
       "    <tr>\n",
       "      <th>...</th>\n",
       "      <td>...</td>\n",
       "    </tr>\n",
       "    <tr>\n",
       "      <th>579</th>\n",
       "      <td>coruripe</td>\n",
       "    </tr>\n",
       "    <tr>\n",
       "      <th>580</th>\n",
       "      <td>aswan</td>\n",
       "    </tr>\n",
       "    <tr>\n",
       "      <th>581</th>\n",
       "      <td>burriana</td>\n",
       "    </tr>\n",
       "    <tr>\n",
       "      <th>582</th>\n",
       "      <td>innisfail</td>\n",
       "    </tr>\n",
       "    <tr>\n",
       "      <th>583</th>\n",
       "      <td>porto velho</td>\n",
       "    </tr>\n",
       "  </tbody>\n",
       "</table>\n",
       "<p>584 rows × 1 columns</p>\n",
       "</div>"
      ],
      "text/plain": [
       "             City\n",
       "0          koumac\n",
       "1          hasaki\n",
       "2       cape town\n",
       "3         te anau\n",
       "4    porto seguro\n",
       "..            ...\n",
       "579      coruripe\n",
       "580         aswan\n",
       "581      burriana\n",
       "582     innisfail\n",
       "583   porto velho\n",
       "\n",
       "[584 rows x 1 columns]"
      ]
     },
     "execution_count": 3,
     "metadata": {},
     "output_type": "execute_result"
    }
   ],
   "source": [
    "#putting the cities from the api into a dataframe\n",
    "\n",
    "city_df = pd.DataFrame({'City' : cities})\n",
    "city_df"
   ]
  },
  {
   "cell_type": "markdown",
   "metadata": {},
   "source": [
    "### API Calls"
   ]
  },
  {
   "cell_type": "code",
   "execution_count": 4,
   "metadata": {},
   "outputs": [],
   "source": [
    "# API key\n",
    "from api_keys import weather_api_key\n",
    "\n",
    "#url\n",
    "base_url = 'https://api.openweathermap.org/data/2.5/weather?'"
   ]
  },
  {
   "cell_type": "code",
   "execution_count": 5,
   "metadata": {},
   "outputs": [
    {
     "name": "stdout",
     "output_type": "stream",
     "text": [
      "Beginning Data Retrieval\n",
      "-----------------------------\n",
      "Processing Record 1 of Set 1 | koumac\n",
      "Processing Record 2 of Set 1 | hasaki\n",
      "Processing Record 3 of Set 1 | cape town\n",
      "Processing Record 4 of Set 1 | te anau\n",
      "Processing Record 5 of Set 1 | porto seguro\n",
      "Processing Record 6 of Set 1 | aklavik\n",
      "Processing Record 7 of Set 1 | saskylakh\n",
      "Processing Record 8 of Set 1 | budhlada\n",
      "Processing Record 9 of Set 1 | provideniya\n",
      "Processing Record 10 of Set 1 | itarema\n",
      "Processing Record 11 of Set 1 | rikitea\n",
      "Processing Record 12 of Set 1 | khatanga\n",
      "City not found. Skipping..\n",
      "Processing Record 14 of Set 1 | lumphat\n",
      "Processing Record 15 of Set 1 | jamestown\n",
      "Processing Record 16 of Set 1 | luderitz\n",
      "Processing Record 17 of Set 1 | mangrol\n",
      "Processing Record 18 of Set 1 | busselton\n",
      "Processing Record 19 of Set 1 | ushuaia\n",
      "Processing Record 20 of Set 1 | kedrovyy\n",
      "Processing Record 21 of Set 1 | vaini\n",
      "Processing Record 22 of Set 1 | hermanus\n",
      "Processing Record 23 of Set 1 | mahebourg\n",
      "Processing Record 24 of Set 1 | kodiak\n",
      "City not found. Skipping..\n",
      "Processing Record 26 of Set 1 | hilo\n",
      "Processing Record 27 of Set 1 | dunedin\n",
      "Processing Record 28 of Set 1 | cabo san lucas\n",
      "Processing Record 29 of Set 1 | port elizabeth\n",
      "Processing Record 30 of Set 1 | westport\n",
      "Processing Record 31 of Set 1 | bone\n",
      "Processing Record 32 of Set 1 | kavieng\n",
      "Processing Record 33 of Set 1 | damaturu\n",
      "City not found. Skipping..\n",
      "City not found. Skipping..\n",
      "Processing Record 36 of Set 1 | mataura\n",
      "Processing Record 37 of Set 1 | saint-philippe\n",
      "Processing Record 38 of Set 1 | tuktoyaktuk\n",
      "Processing Record 39 of Set 1 | umm kaddadah\n",
      "City not found. Skipping..\n",
      "Processing Record 41 of Set 1 | punta arenas\n",
      "Processing Record 42 of Set 1 | hobart\n",
      "City not found. Skipping..\n",
      "Processing Record 44 of Set 1 | port alfred\n",
      "Processing Record 45 of Set 1 | upernavik\n",
      "Processing Record 46 of Set 1 | canarana\n",
      "Processing Record 47 of Set 1 | clarence town\n",
      "Processing Record 48 of Set 1 | severo-kurilsk\n",
      "Processing Record 49 of Set 1 | qaanaaq\n",
      "Processing Record 50 of Set 1 | bluff\n",
      "Processing Record 2 of Set 2 | sivaki\n",
      "Processing Record 3 of Set 2 | pemangkat\n",
      "Processing Record 4 of Set 2 | atuona\n",
      "Processing Record 5 of Set 2 | bairiki\n",
      "Processing Record 6 of Set 2 | thompson\n",
      "Processing Record 7 of Set 2 | polunochnoye\n",
      "Processing Record 8 of Set 2 | port hardy\n",
      "Processing Record 9 of Set 2 | garden city\n",
      "Processing Record 10 of Set 2 | mega\n",
      "Processing Record 11 of Set 2 | bumba\n",
      "Processing Record 12 of Set 2 | vanimo\n",
      "Processing Record 13 of Set 2 | labuhan\n",
      "Processing Record 14 of Set 2 | bengkulu\n",
      "Processing Record 15 of Set 2 | lata\n",
      "Processing Record 16 of Set 2 | kapaa\n",
      "Processing Record 17 of Set 2 | muisne\n",
      "Processing Record 18 of Set 2 | belmonte\n",
      "Processing Record 19 of Set 2 | faanui\n",
      "City not found. Skipping..\n",
      "Processing Record 21 of Set 2 | posadas\n",
      "Processing Record 22 of Set 2 | bethel\n",
      "Processing Record 23 of Set 2 | bambous virieux\n",
      "Processing Record 24 of Set 2 | lompoc\n",
      "Processing Record 25 of Set 2 | kavaratti\n",
      "Processing Record 26 of Set 2 | selfoss\n",
      "Processing Record 27 of Set 2 | namwala\n",
      "Processing Record 28 of Set 2 | nanortalik\n",
      "Processing Record 29 of Set 2 | noumea\n",
      "Processing Record 30 of Set 2 | arraial do cabo\n",
      "Processing Record 31 of Set 2 | hithadhoo\n",
      "City not found. Skipping..\n",
      "Processing Record 33 of Set 2 | grindavik\n",
      "Processing Record 34 of Set 2 | vasto\n",
      "Processing Record 35 of Set 2 | iqaluit\n",
      "Processing Record 36 of Set 2 | roald\n",
      "Processing Record 37 of Set 2 | sturgis\n",
      "City not found. Skipping..\n",
      "City not found. Skipping..\n",
      "Processing Record 40 of Set 2 | talnakh\n",
      "Processing Record 41 of Set 2 | merauke\n",
      "Processing Record 42 of Set 2 | bredasdorp\n",
      "Processing Record 43 of Set 2 | katsuura\n",
      "City not found. Skipping..\n",
      "Processing Record 45 of Set 2 | bathsheba\n",
      "Processing Record 46 of Set 2 | moree\n",
      "City not found. Skipping..\n",
      "Processing Record 48 of Set 2 | new norfolk\n",
      "Processing Record 49 of Set 2 | chokurdakh\n",
      "Processing Record 50 of Set 2 | bulgan\n",
      "Processing Record 2 of Set 3 | avera\n",
      "Processing Record 3 of Set 3 | rio gallegos\n",
      "Processing Record 4 of Set 3 | isangel\n",
      "Processing Record 5 of Set 3 | carnarvon\n",
      "Processing Record 6 of Set 3 | changji\n",
      "Processing Record 7 of Set 3 | nelson bay\n",
      "Processing Record 8 of Set 3 | karasuyama\n",
      "Processing Record 9 of Set 3 | butaritari\n",
      "Processing Record 10 of Set 3 | cape canaveral\n",
      "City not found. Skipping..\n",
      "Processing Record 12 of Set 3 | andrews\n",
      "Processing Record 13 of Set 3 | wagar\n",
      "Processing Record 14 of Set 3 | sturgeon bay\n",
      "Processing Record 15 of Set 3 | manggar\n",
      "Processing Record 16 of Set 3 | college\n",
      "Processing Record 17 of Set 3 | albany\n",
      "City not found. Skipping..\n",
      "Processing Record 19 of Set 3 | cherskiy\n",
      "Processing Record 20 of Set 3 | karpathos\n",
      "Processing Record 21 of Set 3 | bantou\n",
      "Processing Record 22 of Set 3 | nikolskoye\n",
      "Processing Record 23 of Set 3 | henties bay\n",
      "Processing Record 24 of Set 3 | san antonio\n",
      "Processing Record 25 of Set 3 | san jose\n",
      "Processing Record 26 of Set 3 | georgetown\n",
      "Processing Record 27 of Set 3 | la reforma\n",
      "Processing Record 28 of Set 3 | necochea\n",
      "Processing Record 29 of Set 3 | port-gentil\n",
      "City not found. Skipping..\n",
      "Processing Record 31 of Set 3 | ketchikan\n",
      "Processing Record 32 of Set 3 | rawlins\n",
      "Processing Record 33 of Set 3 | jaque\n",
      "City not found. Skipping..\n",
      "Processing Record 35 of Set 3 | tautira\n",
      "Processing Record 36 of Set 3 | tera\n",
      "Processing Record 37 of Set 3 | kaitangata\n",
      "Processing Record 38 of Set 3 | naron\n",
      "Processing Record 39 of Set 3 | kruisfontein\n",
      "Processing Record 40 of Set 3 | huntington beach\n",
      "Processing Record 41 of Set 3 | kharp\n",
      "Processing Record 42 of Set 3 | khani\n",
      "Processing Record 43 of Set 3 | brae\n",
      "Processing Record 44 of Set 3 | narsaq\n",
      "Processing Record 45 of Set 3 | sangar\n",
      "Processing Record 46 of Set 3 | puerto del rosario\n",
      "Processing Record 47 of Set 3 | esperance\n",
      "Processing Record 48 of Set 3 | vardo\n",
      "Processing Record 49 of Set 3 | vao\n",
      "Processing Record 50 of Set 3 | chase\n",
      "City not found. Skipping..\n",
      "Processing Record 3 of Set 4 | yellowknife\n",
      "Processing Record 4 of Set 4 | hambantota\n",
      "Processing Record 5 of Set 4 | dikson\n",
      "Processing Record 6 of Set 4 | la ronge\n",
      "Processing Record 7 of Set 4 | praia\n",
      "Processing Record 8 of Set 4 | tuatapere\n",
      "Processing Record 9 of Set 4 | san cristobal\n",
      "Processing Record 10 of Set 4 | jacareacanga\n",
      "City not found. Skipping..\n",
      "Processing Record 12 of Set 4 | chanika\n",
      "Processing Record 13 of Set 4 | mar del plata\n",
      "Processing Record 14 of Set 4 | norman wells\n",
      "Processing Record 15 of Set 4 | guerrero negro\n",
      "Processing Record 16 of Set 4 | chuy\n",
      "Processing Record 17 of Set 4 | barrow\n",
      "Processing Record 18 of Set 4 | kalmunai\n",
      "Processing Record 19 of Set 4 | klyuchi\n",
      "Processing Record 20 of Set 4 | yulara\n",
      "City not found. Skipping..\n",
      "Processing Record 22 of Set 4 | ughelli\n",
      "Processing Record 23 of Set 4 | san patricio\n",
      "Processing Record 24 of Set 4 | tasiilaq\n",
      "Processing Record 25 of Set 4 | palmer\n",
      "Processing Record 26 of Set 4 | saint george\n",
      "Processing Record 27 of Set 4 | bushehr\n",
      "City not found. Skipping..\n",
      "Processing Record 29 of Set 4 | conceicao do araguaia\n",
      "Processing Record 30 of Set 4 | charlestown\n",
      "Processing Record 31 of Set 4 | namibe\n",
      "Processing Record 32 of Set 4 | amurzet\n",
      "Processing Record 33 of Set 4 | trofors\n",
      "Processing Record 34 of Set 4 | caravelas\n",
      "Processing Record 35 of Set 4 | nagaur\n",
      "Processing Record 36 of Set 4 | nakama\n",
      "Processing Record 37 of Set 4 | airai\n",
      "Processing Record 38 of Set 4 | madingou\n",
      "Processing Record 39 of Set 4 | san policarpo\n",
      "Processing Record 40 of Set 4 | camacha\n",
      "Processing Record 41 of Set 4 | morgan city\n",
      "Processing Record 42 of Set 4 | ponta do sol\n",
      "Processing Record 43 of Set 4 | ucluelet\n",
      "Processing Record 44 of Set 4 | puerto ayora\n",
      "Processing Record 45 of Set 4 | avarua\n",
      "Processing Record 46 of Set 4 | dayong\n",
      "Processing Record 47 of Set 4 | urumqi\n",
      "City not found. Skipping..\n",
      "Processing Record 49 of Set 4 | xichang\n",
      "Processing Record 50 of Set 4 | kidal\n",
      "Processing Record 2 of Set 5 | geraldton\n",
      "Processing Record 3 of Set 5 | flinders\n",
      "Processing Record 4 of Set 5 | sao borja\n",
      "Processing Record 5 of Set 5 | rumonge\n",
      "Processing Record 6 of Set 5 | cam ranh\n",
      "Processing Record 7 of Set 5 | igrim\n",
      "Processing Record 8 of Set 5 | linjiang\n",
      "Processing Record 9 of Set 5 | san fernando\n",
      "Processing Record 10 of Set 5 | sao filipe\n"
     ]
    },
    {
     "name": "stdout",
     "output_type": "stream",
     "text": [
      "Processing Record 11 of Set 5 | buala\n",
      "Processing Record 12 of Set 5 | jaguaruna\n",
      "Processing Record 13 of Set 5 | omboue\n",
      "Processing Record 14 of Set 5 | waspan\n",
      "Processing Record 15 of Set 5 | sakakah\n",
      "City not found. Skipping..\n",
      "Processing Record 17 of Set 5 | stillwater\n",
      "Processing Record 18 of Set 5 | klaksvik\n",
      "Processing Record 19 of Set 5 | rawson\n",
      "Processing Record 20 of Set 5 | pevek\n",
      "Processing Record 21 of Set 5 | gambo\n",
      "Processing Record 22 of Set 5 | at-bashi\n",
      "Processing Record 23 of Set 5 | agadez\n",
      "Processing Record 24 of Set 5 | port alberni\n",
      "Processing Record 25 of Set 5 | tabou\n",
      "Processing Record 26 of Set 5 | wolow\n",
      "Processing Record 27 of Set 5 | general roca\n",
      "Processing Record 28 of Set 5 | walvis bay\n",
      "Processing Record 29 of Set 5 | sitka\n",
      "Processing Record 30 of Set 5 | dudinka\n",
      "Processing Record 31 of Set 5 | gold coast\n",
      "City not found. Skipping..\n",
      "Processing Record 33 of Set 5 | zhucheng\n",
      "Processing Record 34 of Set 5 | la sarre\n",
      "City not found. Skipping..\n",
      "Processing Record 36 of Set 5 | sarankhola\n",
      "City not found. Skipping..\n",
      "Processing Record 38 of Set 5 | pacific grove\n",
      "Processing Record 39 of Set 5 | padang\n",
      "Processing Record 40 of Set 5 | acapulco\n",
      "Processing Record 41 of Set 5 | souillac\n",
      "Processing Record 42 of Set 5 | ostrovnoy\n",
      "Processing Record 43 of Set 5 | east london\n",
      "Processing Record 44 of Set 5 | popondetta\n",
      "Processing Record 45 of Set 5 | castro\n",
      "Processing Record 46 of Set 5 | garowe\n",
      "Processing Record 47 of Set 5 | angoram\n",
      "Processing Record 48 of Set 5 | almazar\n",
      "Processing Record 49 of Set 5 | kununurra\n",
      "Processing Record 50 of Set 5 | magistralnyy\n",
      "Processing Record 2 of Set 6 | viedma\n",
      "Processing Record 3 of Set 6 | vanavara\n",
      "Processing Record 4 of Set 6 | flin flon\n",
      "Processing Record 5 of Set 6 | beringovskiy\n",
      "Processing Record 6 of Set 6 | ust-kuyga\n",
      "Processing Record 7 of Set 6 | cidreira\n",
      "Processing Record 8 of Set 6 | beloha\n",
      "Processing Record 9 of Set 6 | jhelum\n",
      "Processing Record 10 of Set 6 | adrar\n",
      "Processing Record 11 of Set 6 | taksimo\n",
      "Processing Record 12 of Set 6 | mount gambier\n",
      "Processing Record 13 of Set 6 | kupang\n",
      "Processing Record 14 of Set 6 | coquimbo\n",
      "City not found. Skipping..\n",
      "Processing Record 16 of Set 6 | havelock\n",
      "Processing Record 17 of Set 6 | taoudenni\n",
      "Processing Record 18 of Set 6 | inirida\n",
      "Processing Record 19 of Set 6 | dogondoutchi\n",
      "Processing Record 20 of Set 6 | xiashi\n",
      "Processing Record 21 of Set 6 | pisco\n",
      "Processing Record 22 of Set 6 | port hedland\n",
      "Processing Record 23 of Set 6 | vostok\n",
      "Processing Record 24 of Set 6 | shizukuishi\n",
      "Processing Record 25 of Set 6 | naze\n",
      "Processing Record 26 of Set 6 | nizhniy kuranakh\n",
      "Processing Record 27 of Set 6 | kabin buri\n",
      "Processing Record 28 of Set 6 | sarangani\n",
      "Processing Record 29 of Set 6 | loksa\n",
      "Processing Record 30 of Set 6 | takoradi\n",
      "Processing Record 31 of Set 6 | toamasina\n",
      "Processing Record 32 of Set 6 | sept-iles\n",
      "Processing Record 33 of Set 6 | solnechnyy\n",
      "Processing Record 34 of Set 6 | manado\n",
      "Processing Record 35 of Set 6 | magadan\n",
      "Processing Record 36 of Set 6 | ribeira grande\n",
      "Processing Record 37 of Set 6 | svay rieng\n",
      "Processing Record 38 of Set 6 | haines junction\n",
      "Processing Record 39 of Set 6 | cayenne\n",
      "Processing Record 40 of Set 6 | mayumba\n",
      "Processing Record 41 of Set 6 | comodoro rivadavia\n",
      "Processing Record 42 of Set 6 | olafsvik\n",
      "City not found. Skipping..\n",
      "Processing Record 44 of Set 6 | praia da vitoria\n",
      "Processing Record 45 of Set 6 | kurara\n",
      "Processing Record 46 of Set 6 | turukhansk\n",
      "Processing Record 47 of Set 6 | longyearbyen\n",
      "Processing Record 48 of Set 6 | pascagoula\n",
      "Processing Record 49 of Set 6 | bako\n",
      "Processing Record 50 of Set 6 | vicosa\n",
      "Processing Record 2 of Set 7 | chicama\n",
      "Processing Record 3 of Set 7 | broome\n",
      "Processing Record 4 of Set 7 | methoni\n",
      "Processing Record 5 of Set 7 | erenhot\n",
      "Processing Record 6 of Set 7 | diego de almagro\n",
      "Processing Record 7 of Set 7 | belaya gora\n",
      "Processing Record 8 of Set 7 | shamary\n",
      "Processing Record 9 of Set 7 | laguna\n",
      "Processing Record 10 of Set 7 | kawambwa\n",
      "Processing Record 11 of Set 7 | andreapol\n",
      "Processing Record 12 of Set 7 | cruzeiro do sul\n",
      "City not found. Skipping..\n",
      "Processing Record 14 of Set 7 | kahului\n",
      "Processing Record 15 of Set 7 | almaznyy\n",
      "Processing Record 16 of Set 7 | richards bay\n",
      "Processing Record 17 of Set 7 | bondo\n",
      "Processing Record 18 of Set 7 | paamiut\n",
      "Processing Record 19 of Set 7 | padilla\n",
      "Processing Record 20 of Set 7 | goderich\n",
      "Processing Record 21 of Set 7 | kitimat\n",
      "City not found. Skipping..\n",
      "Processing Record 23 of Set 7 | asau\n",
      "Processing Record 24 of Set 7 | hokitika\n",
      "Processing Record 25 of Set 7 | kurumkan\n",
      "Processing Record 26 of Set 7 | miranda\n",
      "Processing Record 27 of Set 7 | halifax\n",
      "Processing Record 28 of Set 7 | constitucion\n",
      "Processing Record 29 of Set 7 | kalevala\n",
      "Processing Record 30 of Set 7 | cap malheureux\n",
      "Processing Record 31 of Set 7 | port lincoln\n",
      "Processing Record 32 of Set 7 | kismayo\n",
      "Processing Record 33 of Set 7 | tiznit\n",
      "Processing Record 34 of Set 7 | hastinapur\n",
      "Processing Record 35 of Set 7 | aipe\n",
      "Processing Record 36 of Set 7 | ancud\n",
      "Processing Record 37 of Set 7 | poya\n",
      "Processing Record 38 of Set 7 | batagay\n",
      "Processing Record 39 of Set 7 | lebu\n",
      "City not found. Skipping..\n",
      "Processing Record 41 of Set 7 | saint anthony\n",
      "Processing Record 42 of Set 7 | etchojoa\n",
      "Processing Record 43 of Set 7 | tingo maria\n",
      "Processing Record 44 of Set 7 | birjand\n",
      "Processing Record 45 of Set 7 | darnah\n",
      "City not found. Skipping..\n",
      "Processing Record 47 of Set 7 | ulaangom\n",
      "City not found. Skipping..\n",
      "Processing Record 49 of Set 7 | ndele\n",
      "City not found. Skipping..\n",
      "Processing Record 2 of Set 8 | ponta delgada\n",
      "Processing Record 3 of Set 8 | enshi\n",
      "Processing Record 4 of Set 8 | saint-joseph\n",
      "Processing Record 5 of Set 8 | hirara\n",
      "Processing Record 6 of Set 8 | sungaipenuh\n",
      "Processing Record 7 of Set 8 | peniche\n",
      "Processing Record 8 of Set 8 | tadine\n",
      "Processing Record 9 of Set 8 | mirnyy\n",
      "Processing Record 10 of Set 8 | glasgow\n",
      "Processing Record 11 of Set 8 | meadow lake\n",
      "Processing Record 12 of Set 8 | rocha\n",
      "Processing Record 13 of Set 8 | los llanos de aridane\n",
      "Processing Record 14 of Set 8 | clyde river\n",
      "Processing Record 15 of Set 8 | zhigalovo\n",
      "Processing Record 16 of Set 8 | marsa matruh\n",
      "Processing Record 17 of Set 8 | xiongyue\n",
      "Processing Record 18 of Set 8 | escanaba\n",
      "Processing Record 19 of Set 8 | wenatchee\n",
      "Processing Record 20 of Set 8 | rabo de peixe\n",
      "Processing Record 21 of Set 8 | broken hill\n",
      "Processing Record 22 of Set 8 | lavrentiya\n",
      "Processing Record 23 of Set 8 | haapiti\n",
      "Processing Record 24 of Set 8 | khasan\n",
      "Processing Record 25 of Set 8 | alihe\n",
      "Processing Record 26 of Set 8 | ilulissat\n",
      "Processing Record 27 of Set 8 | buguruslan\n",
      "Processing Record 28 of Set 8 | la peca\n",
      "Processing Record 29 of Set 8 | camocim\n",
      "Processing Record 30 of Set 8 | nuuk\n",
      "City not found. Skipping..\n",
      "Processing Record 32 of Set 8 | boden\n",
      "Processing Record 33 of Set 8 | la cumbre\n",
      "City not found. Skipping..\n",
      "City not found. Skipping..\n",
      "Processing Record 36 of Set 8 | ust-nera\n",
      "Processing Record 37 of Set 8 | serenje\n",
      "Processing Record 38 of Set 8 | kontagora\n",
      "Processing Record 39 of Set 8 | galesong\n",
      "Processing Record 40 of Set 8 | wanaka\n",
      "Processing Record 41 of Set 8 | whitehorse\n",
      "Processing Record 42 of Set 8 | namatanai\n",
      "Processing Record 43 of Set 8 | kentau\n",
      "Processing Record 44 of Set 8 | sikonge\n",
      "Processing Record 45 of Set 8 | bauchi\n",
      "Processing Record 46 of Set 8 | kuala terengganu\n",
      "Processing Record 47 of Set 8 | maarianhamina\n",
      "Processing Record 48 of Set 8 | camden\n",
      "Processing Record 49 of Set 8 | hay river\n",
      "Processing Record 50 of Set 8 | freeport\n",
      "Processing Record 2 of Set 9 | kargasok\n",
      "Processing Record 3 of Set 9 | aldan\n",
      "Processing Record 4 of Set 9 | yerbogachen\n",
      "Processing Record 5 of Set 9 | malakal\n",
      "City not found. Skipping..\n",
      "Processing Record 7 of Set 9 | grand-santi\n",
      "Processing Record 8 of Set 9 | homer\n",
      "Processing Record 9 of Set 9 | gat\n",
      "Processing Record 10 of Set 9 | iracoubo\n",
      "Processing Record 11 of Set 9 | san lorenzo\n",
      "Processing Record 12 of Set 9 | codrington\n",
      "Processing Record 13 of Set 9 | ambilobe\n",
      "Processing Record 14 of Set 9 | zonalnaya stantsiya\n",
      "Processing Record 15 of Set 9 | jeremie\n",
      "Processing Record 16 of Set 9 | rafraf\n",
      "Processing Record 17 of Set 9 | waipawa\n",
      "Processing Record 18 of Set 9 | sinnamary\n",
      "Processing Record 19 of Set 9 | cacapava do sul\n"
     ]
    },
    {
     "name": "stdout",
     "output_type": "stream",
     "text": [
      "Processing Record 20 of Set 9 | meulaboh\n",
      "Processing Record 21 of Set 9 | bonavista\n",
      "Processing Record 22 of Set 9 | pimentel\n",
      "Processing Record 23 of Set 9 | baleno\n",
      "Processing Record 24 of Set 9 | tashtagol\n",
      "Processing Record 25 of Set 9 | kabalo\n",
      "Processing Record 26 of Set 9 | saint-pierre\n",
      "Processing Record 27 of Set 9 | rothenbach\n",
      "Processing Record 28 of Set 9 | port blair\n",
      "Processing Record 29 of Set 9 | fukue\n",
      "Processing Record 30 of Set 9 | lagos\n",
      "Processing Record 31 of Set 9 | roma\n",
      "Processing Record 32 of Set 9 | saldanha\n",
      "Processing Record 33 of Set 9 | rundu\n",
      "Processing Record 34 of Set 9 | coihaique\n",
      "Processing Record 35 of Set 9 | alugan\n",
      "City not found. Skipping..\n",
      "Processing Record 37 of Set 9 | hunterville\n",
      "City not found. Skipping..\n",
      "Processing Record 39 of Set 9 | koygorodok\n",
      "Processing Record 40 of Set 9 | boende\n",
      "City not found. Skipping..\n",
      "Processing Record 42 of Set 9 | adet\n",
      "Processing Record 43 of Set 9 | pictou\n",
      "Processing Record 44 of Set 9 | matara\n",
      "Processing Record 45 of Set 9 | belluno\n",
      "Processing Record 46 of Set 9 | stornoway\n",
      "Processing Record 47 of Set 9 | victoria\n",
      "Processing Record 48 of Set 9 | basco\n",
      "Processing Record 49 of Set 9 | tilichiki\n",
      "Processing Record 50 of Set 9 | raga\n",
      "Processing Record 2 of Set 10 | burnie\n",
      "Processing Record 3 of Set 10 | filingue\n",
      "Processing Record 4 of Set 10 | bima\n",
      "Processing Record 5 of Set 10 | leh\n",
      "Processing Record 6 of Set 10 | panaba\n",
      "Processing Record 7 of Set 10 | lagoa\n",
      "Processing Record 8 of Set 10 | salinopolis\n",
      "Processing Record 9 of Set 10 | touros\n",
      "Processing Record 10 of Set 10 | muros\n",
      "Processing Record 11 of Set 10 | carballo\n",
      "Processing Record 12 of Set 10 | cuiaba\n",
      "Processing Record 13 of Set 10 | pangnirtung\n",
      "Processing Record 14 of Set 10 | antalaha\n",
      "Processing Record 15 of Set 10 | ugoofaaru\n",
      "Processing Record 16 of Set 10 | san nicola\n",
      "Processing Record 17 of Set 10 | hun\n",
      "Processing Record 18 of Set 10 | xining\n",
      "Processing Record 19 of Set 10 | bridgeton\n",
      "Processing Record 20 of Set 10 | fria\n",
      "Processing Record 21 of Set 10 | kashi\n",
      "City not found. Skipping..\n",
      "Processing Record 23 of Set 10 | shimoda\n",
      "Processing Record 24 of Set 10 | margate\n",
      "City not found. Skipping..\n",
      "City not found. Skipping..\n",
      "City not found. Skipping..\n",
      "Processing Record 28 of Set 10 | manavalakurichi\n",
      "Processing Record 29 of Set 10 | ahipara\n",
      "City not found. Skipping..\n",
      "Processing Record 31 of Set 10 | petropavlovsk-kamchatskiy\n",
      "Processing Record 32 of Set 10 | lima\n",
      "Processing Record 33 of Set 10 | ilo\n",
      "Processing Record 34 of Set 10 | nouadhibou\n",
      "Processing Record 35 of Set 10 | oksovskiy\n",
      "Processing Record 36 of Set 10 | eloy\n",
      "City not found. Skipping..\n",
      "Processing Record 38 of Set 10 | barra do garcas\n",
      "Processing Record 39 of Set 10 | odienne\n",
      "Processing Record 40 of Set 10 | okhotsk\n",
      "Processing Record 41 of Set 10 | montgomery\n",
      "City not found. Skipping..\n",
      "Processing Record 43 of Set 10 | vila velha\n",
      "Processing Record 44 of Set 10 | skjervoy\n",
      "Processing Record 45 of Set 10 | pozo colorado\n",
      "Processing Record 46 of Set 10 | verkhoyansk\n",
      "Processing Record 47 of Set 10 | ribas do rio pardo\n",
      "Processing Record 48 of Set 10 | eyl\n",
      "Processing Record 49 of Set 10 | yarmouth\n",
      "Processing Record 50 of Set 10 | sturgeon falls\n",
      "Processing Record 2 of Set 11 | mumford\n",
      "Processing Record 3 of Set 11 | oriximina\n",
      "Processing Record 4 of Set 11 | kholm\n",
      "Processing Record 5 of Set 11 | aqtobe\n",
      "Processing Record 6 of Set 11 | lingao\n",
      "Processing Record 7 of Set 11 | osmaniye\n",
      "Processing Record 8 of Set 11 | atambua\n",
      "Processing Record 9 of Set 11 | kharan\n",
      "Processing Record 10 of Set 11 | akyab\n",
      "Processing Record 11 of Set 11 | lappeenranta\n",
      "Processing Record 12 of Set 11 | tres arroyos\n",
      "Processing Record 13 of Set 11 | havre\n",
      "Processing Record 14 of Set 11 | collie\n",
      "City not found. Skipping..\n",
      "Processing Record 16 of Set 11 | cockburn town\n",
      "Processing Record 17 of Set 11 | ponnani\n",
      "Processing Record 18 of Set 11 | lernapat\n",
      "Processing Record 19 of Set 11 | srednekolymsk\n",
      "Processing Record 20 of Set 11 | salekhard\n",
      "Processing Record 21 of Set 11 | behbahan\n",
      "Processing Record 22 of Set 11 | siparia\n",
      "Processing Record 23 of Set 11 | san carlos de bariloche\n",
      "Processing Record 24 of Set 11 | yabelo\n",
      "Processing Record 25 of Set 11 | camapua\n",
      "Processing Record 26 of Set 11 | bay roberts\n",
      "Processing Record 27 of Set 11 | hofn\n",
      "Processing Record 28 of Set 11 | kasongo-lunda\n",
      "Processing Record 29 of Set 11 | trinidad\n",
      "Processing Record 30 of Set 11 | northam\n",
      "Processing Record 31 of Set 11 | coxim\n",
      "Processing Record 32 of Set 11 | bajil\n",
      "Processing Record 33 of Set 11 | bambanglipuro\n",
      "Processing Record 34 of Set 11 | porto novo\n",
      "Processing Record 35 of Set 11 | santiago de cuba\n",
      "Processing Record 36 of Set 11 | conde\n",
      "Processing Record 37 of Set 11 | ngunguru\n",
      "Processing Record 38 of Set 11 | tutoia\n",
      "Processing Record 39 of Set 11 | srandakan\n",
      "Processing Record 40 of Set 11 | derzhavinsk\n",
      "Processing Record 41 of Set 11 | jawhar\n",
      "City not found. Skipping..\n",
      "Processing Record 43 of Set 11 | husavik\n",
      "Processing Record 44 of Set 11 | havoysund\n",
      "Processing Record 45 of Set 11 | fairbanks\n",
      "Processing Record 46 of Set 11 | clarksville\n",
      "Processing Record 47 of Set 11 | lorengau\n",
      "Processing Record 48 of Set 11 | kerikeri\n",
      "Processing Record 49 of Set 11 | saint-augustin\n",
      "Processing Record 50 of Set 11 | whitianga\n",
      "Processing Record 2 of Set 12 | witu\n",
      "Processing Record 3 of Set 12 | najran\n",
      "Processing Record 4 of Set 12 | boca do acre\n",
      "Processing Record 5 of Set 12 | balkanabat\n",
      "Processing Record 6 of Set 12 | kiunga\n",
      "Processing Record 7 of Set 12 | parana\n",
      "Processing Record 8 of Set 12 | rawah\n",
      "Processing Record 9 of Set 12 | deogarh\n",
      "Processing Record 10 of Set 12 | quatre cocos\n",
      "Processing Record 11 of Set 12 | bedesa\n",
      "Processing Record 12 of Set 12 | dadri\n",
      "Processing Record 13 of Set 12 | jining\n",
      "Processing Record 14 of Set 12 | kirakira\n",
      "Processing Record 15 of Set 12 | gizo\n",
      "Processing Record 16 of Set 12 | sungairaya\n",
      "Processing Record 17 of Set 12 | edmundston\n",
      "Processing Record 18 of Set 12 | sola\n",
      "Processing Record 19 of Set 12 | roros\n",
      "Processing Record 20 of Set 12 | zyryanka\n",
      "Processing Record 21 of Set 12 | maniitsoq\n",
      "City not found. Skipping..\n",
      "Processing Record 23 of Set 12 | mnogovershinnyy\n",
      "Processing Record 24 of Set 12 | along\n",
      "Processing Record 25 of Set 12 | chandur\n",
      "Processing Record 26 of Set 12 | anadyr\n",
      "Processing Record 27 of Set 12 | capitan bado\n",
      "Processing Record 28 of Set 12 | muroto\n",
      "Processing Record 29 of Set 12 | yar-sale\n",
      "Processing Record 30 of Set 12 | rio grande\n",
      "Processing Record 31 of Set 12 | siloam springs\n",
      "Processing Record 32 of Set 12 | springhill\n",
      "Processing Record 33 of Set 12 | wiwili\n",
      "Processing Record 34 of Set 12 | rolla\n",
      "Processing Record 35 of Set 12 | japura\n",
      "Processing Record 36 of Set 12 | kayes\n",
      "Processing Record 37 of Set 12 | cedar lake\n",
      "Processing Record 38 of Set 12 | launceston\n",
      "Processing Record 39 of Set 12 | juba\n",
      "Processing Record 40 of Set 12 | grand gaube\n",
      "Processing Record 41 of Set 12 | coruripe\n",
      "Processing Record 42 of Set 12 | aswan\n",
      "Processing Record 43 of Set 12 | burriana\n",
      "Processing Record 44 of Set 12 | innisfail\n",
      "Processing Record 45 of Set 12 | porto velho\n",
      "End of Data Retrieval\n",
      "-----------------------------\n"
     ]
    }
   ],
   "source": [
    "city_name_list = []\n",
    "lng_list = []\n",
    "lat_list = []\n",
    "temp_list = []\n",
    "humidity_list = []\n",
    "cloud_list = []\n",
    "wind_list = []\n",
    "country_list = []\n",
    "date_list = []\n",
    "\n",
    "\n",
    "\n",
    "#record and set number initilization\n",
    "record_num = 1\n",
    "set_num = 1\n",
    "\n",
    "\n",
    "print('Beginning Data Retrieval')\n",
    "print('-----------------------------')\n",
    "\n",
    "\n",
    "for city in cities:\n",
    "   \n",
    "    #parameters\n",
    "    params ={'location': 'en', \n",
    "             'units' : 'imperial',\n",
    "             'q' : city,\n",
    "             'APPID': weather_api_key}\n",
    "      \n",
    "    #try statement to test for each city --> appending city values if found\n",
    "    try:\n",
    "        \n",
    "        # run a request using our params dictionary\n",
    "        response = requests.get(base_url, params=params)\n",
    "        data = response.json()     \n",
    "        \n",
    "        #appending city values ti\n",
    "        lng_list.append(data['coord']['lon'])\n",
    "        lat_list.append(data['coord']['lat'])\n",
    "        temp_list.append(data['main']['temp'])\n",
    "        humidity_list.append(data['main']['humidity'])\n",
    "        cloud_list.append(data['clouds']['all'])\n",
    "        wind_list.append(data['wind']['speed'])\n",
    "        city_name_list.append(data['name'])\n",
    "        date_list.append(data['dt']) \n",
    "        country_list.append(data['sys']['country']) \n",
    "        \n",
    "        print(f'Processing Record {record_num} of Set {set_num} | {city}')  \n",
    "    \n",
    "    except KeyError:\n",
    "        print(\"City not found. Skipping..\")\n",
    "    \n",
    "    # Setting Api call limt to 50 per set\n",
    "    if record_num == 50:\n",
    "            set_num += 1\n",
    "            record_num = 1\n",
    "    \n",
    "    record_num += 1\n",
    "        \n",
    "print('End of Data Retrieval')\n",
    "print('-----------------------------')\n",
    "    "
   ]
  },
  {
   "cell_type": "markdown",
   "metadata": {},
   "source": [
    "### Convert Raw Data to DataFrame\n"
   ]
  },
  {
   "cell_type": "code",
   "execution_count": 6,
   "metadata": {},
   "outputs": [
    {
     "data": {
      "text/html": [
       "<div>\n",
       "<style scoped>\n",
       "    .dataframe tbody tr th:only-of-type {\n",
       "        vertical-align: middle;\n",
       "    }\n",
       "\n",
       "    .dataframe tbody tr th {\n",
       "        vertical-align: top;\n",
       "    }\n",
       "\n",
       "    .dataframe thead th {\n",
       "        text-align: right;\n",
       "    }\n",
       "</style>\n",
       "<table border=\"1\" class=\"dataframe\">\n",
       "  <thead>\n",
       "    <tr style=\"text-align: right;\">\n",
       "      <th></th>\n",
       "      <th>City</th>\n",
       "      <th>Lat</th>\n",
       "      <th>Lng</th>\n",
       "      <th>Max Temp</th>\n",
       "      <th>Humidity</th>\n",
       "      <th>Cloudiness</th>\n",
       "      <th>Wind Speed</th>\n",
       "      <th>Country</th>\n",
       "      <th>Date</th>\n",
       "    </tr>\n",
       "  </thead>\n",
       "  <tbody>\n",
       "    <tr>\n",
       "      <th>0</th>\n",
       "      <td>Koumac</td>\n",
       "      <td>-20.57</td>\n",
       "      <td>164.28</td>\n",
       "      <td>73.26</td>\n",
       "      <td>80</td>\n",
       "      <td>99</td>\n",
       "      <td>3.96</td>\n",
       "      <td>NC</td>\n",
       "      <td>1603386702</td>\n",
       "    </tr>\n",
       "    <tr>\n",
       "      <th>1</th>\n",
       "      <td>Hasaki</td>\n",
       "      <td>35.73</td>\n",
       "      <td>140.83</td>\n",
       "      <td>60.87</td>\n",
       "      <td>100</td>\n",
       "      <td>75</td>\n",
       "      <td>6.93</td>\n",
       "      <td>JP</td>\n",
       "      <td>1603386725</td>\n",
       "    </tr>\n",
       "    <tr>\n",
       "      <th>2</th>\n",
       "      <td>Cape Town</td>\n",
       "      <td>-33.93</td>\n",
       "      <td>18.42</td>\n",
       "      <td>63.14</td>\n",
       "      <td>82</td>\n",
       "      <td>0</td>\n",
       "      <td>17.22</td>\n",
       "      <td>ZA</td>\n",
       "      <td>1603387027</td>\n",
       "    </tr>\n",
       "    <tr>\n",
       "      <th>3</th>\n",
       "      <td>Te Anau</td>\n",
       "      <td>-45.42</td>\n",
       "      <td>167.72</td>\n",
       "      <td>43.93</td>\n",
       "      <td>83</td>\n",
       "      <td>100</td>\n",
       "      <td>2.37</td>\n",
       "      <td>NZ</td>\n",
       "      <td>1603387257</td>\n",
       "    </tr>\n",
       "    <tr>\n",
       "      <th>4</th>\n",
       "      <td>Porto Seguro</td>\n",
       "      <td>-16.45</td>\n",
       "      <td>-39.06</td>\n",
       "      <td>82.40</td>\n",
       "      <td>65</td>\n",
       "      <td>75</td>\n",
       "      <td>12.75</td>\n",
       "      <td>BR</td>\n",
       "      <td>1603387257</td>\n",
       "    </tr>\n",
       "    <tr>\n",
       "      <th>...</th>\n",
       "      <td>...</td>\n",
       "      <td>...</td>\n",
       "      <td>...</td>\n",
       "      <td>...</td>\n",
       "      <td>...</td>\n",
       "      <td>...</td>\n",
       "      <td>...</td>\n",
       "      <td>...</td>\n",
       "      <td>...</td>\n",
       "    </tr>\n",
       "    <tr>\n",
       "      <th>529</th>\n",
       "      <td>Coruripe</td>\n",
       "      <td>-10.13</td>\n",
       "      <td>-36.18</td>\n",
       "      <td>83.61</td>\n",
       "      <td>64</td>\n",
       "      <td>13</td>\n",
       "      <td>12.08</td>\n",
       "      <td>BR</td>\n",
       "      <td>1603387385</td>\n",
       "    </tr>\n",
       "    <tr>\n",
       "      <th>530</th>\n",
       "      <td>Aswān</td>\n",
       "      <td>24.09</td>\n",
       "      <td>32.91</td>\n",
       "      <td>87.03</td>\n",
       "      <td>13</td>\n",
       "      <td>0</td>\n",
       "      <td>9.93</td>\n",
       "      <td>EG</td>\n",
       "      <td>1603387386</td>\n",
       "    </tr>\n",
       "    <tr>\n",
       "      <th>531</th>\n",
       "      <td>Burriana</td>\n",
       "      <td>39.89</td>\n",
       "      <td>-0.09</td>\n",
       "      <td>66.00</td>\n",
       "      <td>93</td>\n",
       "      <td>98</td>\n",
       "      <td>5.50</td>\n",
       "      <td>ES</td>\n",
       "      <td>1603387386</td>\n",
       "    </tr>\n",
       "    <tr>\n",
       "      <th>532</th>\n",
       "      <td>Innisfail</td>\n",
       "      <td>-17.53</td>\n",
       "      <td>146.03</td>\n",
       "      <td>68.99</td>\n",
       "      <td>89</td>\n",
       "      <td>53</td>\n",
       "      <td>3.04</td>\n",
       "      <td>AU</td>\n",
       "      <td>1603387386</td>\n",
       "    </tr>\n",
       "    <tr>\n",
       "      <th>533</th>\n",
       "      <td>Porto Velho</td>\n",
       "      <td>-8.76</td>\n",
       "      <td>-63.90</td>\n",
       "      <td>87.80</td>\n",
       "      <td>55</td>\n",
       "      <td>20</td>\n",
       "      <td>4.70</td>\n",
       "      <td>BR</td>\n",
       "      <td>1603387178</td>\n",
       "    </tr>\n",
       "  </tbody>\n",
       "</table>\n",
       "<p>534 rows × 9 columns</p>\n",
       "</div>"
      ],
      "text/plain": [
       "             City    Lat     Lng  Max Temp  Humidity  Cloudiness  Wind Speed  \\\n",
       "0          Koumac -20.57  164.28     73.26        80          99        3.96   \n",
       "1          Hasaki  35.73  140.83     60.87       100          75        6.93   \n",
       "2       Cape Town -33.93   18.42     63.14        82           0       17.22   \n",
       "3         Te Anau -45.42  167.72     43.93        83         100        2.37   \n",
       "4    Porto Seguro -16.45  -39.06     82.40        65          75       12.75   \n",
       "..            ...    ...     ...       ...       ...         ...         ...   \n",
       "529      Coruripe -10.13  -36.18     83.61        64          13       12.08   \n",
       "530         Aswān  24.09   32.91     87.03        13           0        9.93   \n",
       "531      Burriana  39.89   -0.09     66.00        93          98        5.50   \n",
       "532     Innisfail -17.53  146.03     68.99        89          53        3.04   \n",
       "533   Porto Velho  -8.76  -63.90     87.80        55          20        4.70   \n",
       "\n",
       "    Country        Date  \n",
       "0        NC  1603386702  \n",
       "1        JP  1603386725  \n",
       "2        ZA  1603387027  \n",
       "3        NZ  1603387257  \n",
       "4        BR  1603387257  \n",
       "..      ...         ...  \n",
       "529      BR  1603387385  \n",
       "530      EG  1603387386  \n",
       "531      ES  1603387386  \n",
       "532      AU  1603387386  \n",
       "533      BR  1603387178  \n",
       "\n",
       "[534 rows x 9 columns]"
      ]
     },
     "execution_count": 6,
     "metadata": {},
     "output_type": "execute_result"
    }
   ],
   "source": [
    "# set up additional columns to hold information\n",
    "weather_df = pd.DataFrame({'City' : city_name_list,\n",
    "                           'Lat' : lat_list,\n",
    "                           'Lng' : lng_list,\n",
    "                           'Max Temp' : temp_list,\n",
    "                           'Humidity' : humidity_list,\n",
    "                           'Cloudiness' : cloud_list,\n",
    "                           'Wind Speed' : wind_list,\n",
    "                           'Country' : country_list,\n",
    "                           'Date' : date_list})\n",
    "\n",
    "weather_df"
   ]
  },
  {
   "cell_type": "markdown",
   "metadata": {},
   "source": [
    "## Exporting to CSV File"
   ]
  },
  {
   "cell_type": "code",
   "execution_count": 7,
   "metadata": {},
   "outputs": [],
   "source": [
    "# Output File (CSV)\n",
    "weather_df.to_csv(\"output_data/weatherpy/cities.csv\", index=False, encoding='utf-8')"
   ]
  },
  {
   "cell_type": "markdown",
   "metadata": {},
   "source": [
    "## Inspect the data and remove the cities where the humidity > 100%.\n",
    "     Skip this step if there are no cities that have humidity > 100%. "
   ]
  },
  {
   "cell_type": "code",
   "execution_count": 8,
   "metadata": {},
   "outputs": [
    {
     "data": {
      "text/plain": [
       "City          534\n",
       "Lat           534\n",
       "Lng           534\n",
       "Max Temp      534\n",
       "Humidity      534\n",
       "Cloudiness    534\n",
       "Wind Speed    534\n",
       "Country       534\n",
       "Date          534\n",
       "dtype: int64"
      ]
     },
     "execution_count": 8,
     "metadata": {},
     "output_type": "execute_result"
    }
   ],
   "source": [
    "weather_df.count()"
   ]
  },
  {
   "cell_type": "code",
   "execution_count": 9,
   "metadata": {},
   "outputs": [
    {
     "name": "stdout",
     "output_type": "stream",
     "text": [
      "[0      False\n",
      "1      False\n",
      "2      False\n",
      "3      False\n",
      "4      False\n",
      "       ...  \n",
      "529    False\n",
      "530    False\n",
      "531    False\n",
      "532    False\n",
      "533    False\n",
      "Name: Humidity, Length: 534, dtype: bool]\n"
     ]
    }
   ],
   "source": [
    "print([weather_df['Humidity'] > 100])"
   ]
  },
  {
   "cell_type": "markdown",
   "metadata": {},
   "source": [
    "--> step skipped since no cities over 100% humidity"
   ]
  },
  {
   "cell_type": "code",
   "execution_count": 10,
   "metadata": {},
   "outputs": [
    {
     "data": {
      "text/html": [
       "<div>\n",
       "<style scoped>\n",
       "    .dataframe tbody tr th:only-of-type {\n",
       "        vertical-align: middle;\n",
       "    }\n",
       "\n",
       "    .dataframe tbody tr th {\n",
       "        vertical-align: top;\n",
       "    }\n",
       "\n",
       "    .dataframe thead th {\n",
       "        text-align: right;\n",
       "    }\n",
       "</style>\n",
       "<table border=\"1\" class=\"dataframe\">\n",
       "  <thead>\n",
       "    <tr style=\"text-align: right;\">\n",
       "      <th></th>\n",
       "      <th>Lat</th>\n",
       "      <th>Lng</th>\n",
       "      <th>Max Temp</th>\n",
       "      <th>Humidity</th>\n",
       "      <th>Cloudiness</th>\n",
       "      <th>Wind Speed</th>\n",
       "      <th>Date</th>\n",
       "    </tr>\n",
       "  </thead>\n",
       "  <tbody>\n",
       "    <tr>\n",
       "      <th>count</th>\n",
       "      <td>534.000000</td>\n",
       "      <td>534.000000</td>\n",
       "      <td>534.000000</td>\n",
       "      <td>534.000000</td>\n",
       "      <td>534.000000</td>\n",
       "      <td>534.000000</td>\n",
       "      <td>5.340000e+02</td>\n",
       "    </tr>\n",
       "    <tr>\n",
       "      <th>mean</th>\n",
       "      <td>17.670768</td>\n",
       "      <td>20.346423</td>\n",
       "      <td>62.127734</td>\n",
       "      <td>71.692884</td>\n",
       "      <td>51.758427</td>\n",
       "      <td>8.107921</td>\n",
       "      <td>1.603387e+09</td>\n",
       "    </tr>\n",
       "    <tr>\n",
       "      <th>std</th>\n",
       "      <td>34.128300</td>\n",
       "      <td>91.583975</td>\n",
       "      <td>22.180731</td>\n",
       "      <td>21.394079</td>\n",
       "      <td>38.579706</td>\n",
       "      <td>5.730516</td>\n",
       "      <td>1.282604e+02</td>\n",
       "    </tr>\n",
       "    <tr>\n",
       "      <th>min</th>\n",
       "      <td>-54.800000</td>\n",
       "      <td>-175.200000</td>\n",
       "      <td>1.670000</td>\n",
       "      <td>9.000000</td>\n",
       "      <td>0.000000</td>\n",
       "      <td>0.180000</td>\n",
       "      <td>1.603386e+09</td>\n",
       "    </tr>\n",
       "    <tr>\n",
       "      <th>25%</th>\n",
       "      <td>-9.065000</td>\n",
       "      <td>-59.340000</td>\n",
       "      <td>46.722500</td>\n",
       "      <td>64.000000</td>\n",
       "      <td>12.000000</td>\n",
       "      <td>3.830000</td>\n",
       "      <td>1.603387e+09</td>\n",
       "    </tr>\n",
       "    <tr>\n",
       "      <th>50%</th>\n",
       "      <td>20.085000</td>\n",
       "      <td>21.695000</td>\n",
       "      <td>67.900000</td>\n",
       "      <td>78.000000</td>\n",
       "      <td>55.500000</td>\n",
       "      <td>6.930000</td>\n",
       "      <td>1.603387e+09</td>\n",
       "    </tr>\n",
       "    <tr>\n",
       "      <th>75%</th>\n",
       "      <td>46.307500</td>\n",
       "      <td>103.432500</td>\n",
       "      <td>78.962500</td>\n",
       "      <td>87.000000</td>\n",
       "      <td>90.000000</td>\n",
       "      <td>10.822500</td>\n",
       "      <td>1.603387e+09</td>\n",
       "    </tr>\n",
       "    <tr>\n",
       "      <th>max</th>\n",
       "      <td>78.220000</td>\n",
       "      <td>179.320000</td>\n",
       "      <td>102.510000</td>\n",
       "      <td>100.000000</td>\n",
       "      <td>100.000000</td>\n",
       "      <td>36.840000</td>\n",
       "      <td>1.603387e+09</td>\n",
       "    </tr>\n",
       "  </tbody>\n",
       "</table>\n",
       "</div>"
      ],
      "text/plain": [
       "              Lat         Lng    Max Temp    Humidity  Cloudiness  Wind Speed  \\\n",
       "count  534.000000  534.000000  534.000000  534.000000  534.000000  534.000000   \n",
       "mean    17.670768   20.346423   62.127734   71.692884   51.758427    8.107921   \n",
       "std     34.128300   91.583975   22.180731   21.394079   38.579706    5.730516   \n",
       "min    -54.800000 -175.200000    1.670000    9.000000    0.000000    0.180000   \n",
       "25%     -9.065000  -59.340000   46.722500   64.000000   12.000000    3.830000   \n",
       "50%     20.085000   21.695000   67.900000   78.000000   55.500000    6.930000   \n",
       "75%     46.307500  103.432500   78.962500   87.000000   90.000000   10.822500   \n",
       "max     78.220000  179.320000  102.510000  100.000000  100.000000   36.840000   \n",
       "\n",
       "               Date  \n",
       "count  5.340000e+02  \n",
       "mean   1.603387e+09  \n",
       "std    1.282604e+02  \n",
       "min    1.603386e+09  \n",
       "25%    1.603387e+09  \n",
       "50%    1.603387e+09  \n",
       "75%    1.603387e+09  \n",
       "max    1.603387e+09  "
      ]
     },
     "execution_count": 10,
     "metadata": {},
     "output_type": "execute_result"
    }
   ],
   "source": [
    "weather_df[['Lat', 'Lng', 'Max Temp', 'Humidity', 'Cloudiness', 'Wind Speed', 'Country', 'Date']].describe()"
   ]
  },
  {
   "cell_type": "markdown",
   "metadata": {},
   "source": [
    "## Plotting the Data\n"
   ]
  },
  {
   "cell_type": "markdown",
   "metadata": {},
   "source": [
    "## Latitude vs. Temperature Plot"
   ]
  },
  {
   "cell_type": "code",
   "execution_count": 11,
   "metadata": {},
   "outputs": [
    {
     "data": {
      "image/png": "[encoded data removed]",
      "text/plain": [
       "<Figure size 432x288 with 1 Axes>"
      ]
     },
     "metadata": {
      "needs_background": "light"
     },
     "output_type": "display_data"
    },
    {
     "name": "stdout",
     "output_type": "stream",
     "text": [
      "This plot shows that the further you move away from the equator (Lat:0) the colder it gets\n"
     ]
    }
   ],
   "source": [
    "#Scatterplot\n",
    "plt.scatter(weather_df['Lat'], weather_df['Max Temp'], marker = \"o\")\n",
    "\n",
    "#labeling\n",
    "plt.title(f'City Latitude vs. Max Temperature ({time.strftime(\"%m-%d-%Y\")})')\n",
    "plt.xlabel('Latitude')\n",
    "plt.ylabel('Max Temperature (F)')\n",
    "plt.grid(True)\n",
    "\n",
    "#exporting plot as png\n",
    "plt.savefig(\"output_data/weatherpy/ fig 1 - Latitude_V_Temperature.png\")\n",
    "\n",
    "#printing\n",
    "plt.show()\n",
    "print('This plot shows that the further you move away from the equator (Lat:0) the colder it gets')"
   ]
  },
  {
   "cell_type": "markdown",
   "metadata": {},
   "source": [
    "# Using a function to plot remaining plots"
   ]
  },
  {
   "cell_type": "code",
   "execution_count": 12,
   "metadata": {},
   "outputs": [],
   "source": [
    "#using a function to plot scatter plots\n",
    "\n",
    "def plotting_data(x_axis, y_axis, x_lab, y_lab, title, savename):\n",
    "    \n",
    "    #scatterplot\n",
    "    plt.scatter(x_axis, y_axis, marker = \"o\")\n",
    "    plt.grid(True)\n",
    "\n",
    "    #labeling\n",
    "    plt.title(title)\n",
    "    plt.xlabel(x_lab)\n",
    "    plt.ylabel(y_lab)\n",
    "    \n",
    "    #sizing\n",
    "    plt.tight_layout\n",
    "    \n",
    "    \n",
    "    #exporting plot as png\n",
    "    plt.savefig(f\"output_data/weatherpy/{savename}.png\")\n",
    "    \n",
    "    #printing\n",
    "    plt.show()  \n",
    "    "
   ]
  },
  {
   "cell_type": "markdown",
   "metadata": {},
   "source": [
    "## Latitude vs. Humidity Plot"
   ]
  },
  {
   "cell_type": "code",
   "execution_count": 13,
   "metadata": {},
   "outputs": [
    {
     "data": {
      "image/png": "[encoded data removed]",
      "text/plain": [
       "<Figure size 432x288 with 1 Axes>"
      ]
     },
     "metadata": {
      "needs_background": "light"
     },
     "output_type": "display_data"
    },
    {
     "name": "stdout",
     "output_type": "stream",
     "text": [
      "This plot does not show a relationship pattern between latitude and humidity\n"
     ]
    }
   ],
   "source": [
    "#labeling\n",
    "x_lab = 'Latitude'\n",
    "y_lab = 'Humidity (%)'\n",
    "title = f'City Latitude vs. Humidity ({time.strftime(\"%m-%d-%Y\")})'\n",
    "\n",
    "#saving\n",
    "savename = 'fig 2 - Latitude_V_Humidity'\n",
    "\n",
    "#function\n",
    "plotting_data(weather_df['Lat'], weather_df['Humidity'], x_lab, y_lab, title, savename)\n",
    "\n",
    "print('This plot does not show a relationship pattern between latitude and humidity')"
   ]
  },
  {
   "cell_type": "markdown",
   "metadata": {},
   "source": [
    "## Latitude vs. Cloudiness Plot"
   ]
  },
  {
   "cell_type": "code",
   "execution_count": 14,
   "metadata": {},
   "outputs": [
    {
     "data": {
      "image/png": "[encoded data removed]",
      "text/plain": [
       "<Figure size 432x288 with 1 Axes>"
      ]
     },
     "metadata": {
      "needs_background": "light"
     },
     "output_type": "display_data"
    },
    {
     "name": "stdout",
     "output_type": "stream",
     "text": [
      "This plot does not show a relationship pattern between latitude and cloudiness\n"
     ]
    }
   ],
   "source": [
    "#labeling\n",
    "x_lab = 'Latitude'\n",
    "y_lab = 'Cloudiness (%)'\n",
    "title = f'City Latitude vs. Cloudiness ({time.strftime(\"%m-%d-%Y\")})'\n",
    "\n",
    "#saving\n",
    "savename = 'fig 3 - Latitude_V_Cloudiness'\n",
    "\n",
    "#function\n",
    "plotting_data(weather_df['Lat'], weather_df['Cloudiness'], x_lab, y_lab, title, savename)\n",
    "\n",
    "print('This plot does not show a relationship pattern between latitude and cloudiness')"
   ]
  },
  {
   "cell_type": "markdown",
   "metadata": {},
   "source": [
    "## Latitude vs. Wind Speed Plot"
   ]
  },
  {
   "cell_type": "code",
   "execution_count": 15,
   "metadata": {},
   "outputs": [
    {
     "data": {
      "image/png": "[encoded data removed]",
      "text/plain": [
       "<Figure size 432x288 with 1 Axes>"
      ]
     },
     "metadata": {
      "needs_background": "light"
     },
     "output_type": "display_data"
    },
    {
     "name": "stdout",
     "output_type": "stream",
     "text": [
      "This plot does not show a relationship pattern between latitude and cloudiness\n"
     ]
    }
   ],
   "source": [
    "#labeling\n",
    "x_lab = 'Latitude'\n",
    "y_lab = 'wind Speed (mph)'\n",
    "title = f'City Latitude vs. Wind Speed ({time.strftime(\"%m-%d-%Y\")})'\n",
    "\n",
    "#saving\n",
    "savename = 'fig 4 - Latitude_V_Wind_speed'\n",
    "\n",
    "#function\n",
    "plotting_data(weather_df['Lat'], weather_df['Wind Speed'], x_lab, y_lab, title, savename)\n",
    "\n",
    "print('This plot does not show a relationship pattern between latitude and cloudiness')"
   ]
  },
  {
   "cell_type": "markdown",
   "metadata": {},
   "source": [
    "## Linear Regression"
   ]
  },
  {
   "cell_type": "code",
   "execution_count": 16,
   "metadata": {},
   "outputs": [],
   "source": [
    "#finding Northern and southern cities based on Latitude\n",
    "northern_cities = weather_df.loc[weather_df['Lat'] > 0.00]\n",
    "southern_cities = weather_df.loc[weather_df['Lat'] < 0.00]\n",
    "\n",
    "#resetting their indexes\n",
    "northern_cities.reset_index(inplace = True)\n",
    "southern_cities.reset_index(inplace = True)\n"
   ]
  },
  {
   "cell_type": "markdown",
   "metadata": {},
   "source": [
    "####  Northern Hemisphere - Max Temp vs. Latitude Linear Regression"
   ]
  },
  {
   "cell_type": "code",
   "execution_count": 17,
   "metadata": {},
   "outputs": [
    {
     "name": "stdout",
     "output_type": "stream",
     "text": [
      "The r-Value is: -0.87689925029229\n"
     ]
    },
    {
     "data": {
      "image/png": "[encoded data removed]",
      "text/plain": [
       "<Figure size 432x288 with 1 Axes>"
      ]
     },
     "metadata": {
      "needs_background": "light"
     },
     "output_type": "display_data"
    },
    {
     "name": "stdout",
     "output_type": "stream",
     "text": [
      "Linear Regression = Negative Correlation\n",
      "As you move away from the Equator (Lat:0), the Temperature drops in the northern hemisphere cities.\n"
     ]
    }
   ],
   "source": [
    "#Scatterplot\n",
    "plt.scatter(northern_cities['Lat'], northern_cities['Max Temp'], marker = \"o\")\n",
    "\n",
    "#labeling\n",
    "plt.title(f'City Latitude vs. Max Temperature ({time.strftime(\"%m-%d-%Y\")})')\n",
    "plt.xlabel('Latitude')\n",
    "plt.ylabel('Max Temperature (F)')\n",
    "\n",
    "#linear Regression\n",
    "(slope, intercept, rvalue, pvalue, std_err) = linregress(northern_cities['Lat'], northern_cities['Max Temp'])\n",
    "\n",
    "#line formula --> y=mx+b\n",
    "reg_val = northern_cities['Lat'] * slope + intercept\n",
    "lineeq = f'y = {round(slope,2)}x + {round(intercept,2)}'\n",
    "\n",
    "#line plotting\n",
    "plt.plot(northern_cities['Lat'], reg_val, color='r')\n",
    "plt.annotate(lineeq, (5,20), color='red', fontsize=16)\n",
    "\n",
    "#exporting plot as png\n",
    "plt.savefig(\"output_data/weatherpy/fig 5 - LinearREG-Lat_V_Temp - North.png\")\n",
    "\n",
    "#printing\n",
    "print(f'The r-Value is: {rvalue}')\n",
    "plt.show()\n",
    "\n",
    "#conclusions\n",
    "print('Linear Regression = Negative Correlation')\n",
    "print('As you move away from the Equator (Lat:0), the Temperature drops in the northern hemisphere cities.')"
   ]
  },
  {
   "cell_type": "markdown",
   "metadata": {},
   "source": [
    "# Using a function to plot remaining plots"
   ]
  },
  {
   "cell_type": "code",
   "execution_count": 18,
   "metadata": {},
   "outputs": [],
   "source": [
    "#using a function to plot scatter plots with linear regression\n",
    "\n",
    "def line_reg_plotting(x_axis, y_axis, x_lab, y_lab, title, savename,linepos):\n",
    "    \n",
    "    #linear Regression\n",
    "    (slope, intercept, rvalue, pvalue, std_err) = linregress(x_axis, y_axis)\n",
    "    \n",
    "    #line formula --> y=mx+b\n",
    "    reg_val = x_axis * slope + intercept\n",
    "    lineeq = f'y = {round(slope,2)}x + {round(intercept,2)}'\n",
    "    \n",
    "    #scatterplot and lineplot\n",
    "    plt.scatter(x_axis, y_axis, marker = \"o\")\n",
    "    plt.plot(x_axis, reg_val, color='r')\n",
    "    plt.annotate(lineeq, linepos, color='red',fontsize = 16)\n",
    "    \n",
    "    \n",
    "    #labeling\n",
    "    plt.title(title)\n",
    "    plt.xlabel(x_lab)\n",
    "    plt.ylabel(y_lab)\n",
    "    \n",
    "    #exporting plot as png\n",
    "    plt.savefig(f\"output_data/weatherpy/{savename}.png\")\n",
    "    \n",
    "    #printing\n",
    "    print(f'The r-Value is: {rvalue}')\n",
    "    plt.show()  \n",
    "    \n"
   ]
  },
  {
   "cell_type": "markdown",
   "metadata": {},
   "source": [
    "####  Southern Hemisphere - Max Temp vs. Latitude Linear Regression"
   ]
  },
  {
   "cell_type": "code",
   "execution_count": 19,
   "metadata": {},
   "outputs": [
    {
     "name": "stdout",
     "output_type": "stream",
     "text": [
      "The r-Value is: 0.7014887271931793\n"
     ]
    },
    {
     "data": {
      "image/png": "[encoded data removed]",
      "text/plain": [
       "<Figure size 432x288 with 1 Axes>"
      ]
     },
     "metadata": {
      "needs_background": "light"
     },
     "output_type": "display_data"
    },
    {
     "name": "stdout",
     "output_type": "stream",
     "text": [
      "Linear Regression = Positive Correlation\n",
      "As you move towards the Equator (Lat:0), the temperature rises in the southern hemisphere cities.\n"
     ]
    }
   ],
   "source": [
    "#labeling\n",
    "x_lab = 'Latitude'\n",
    "y_lab = 'Max Temperature (F)'\n",
    "title = f'City Latitude vs. Max Temperature ({time.strftime(\"%m-%d-%Y\")})'\n",
    "\n",
    "#saving\n",
    "savename = 'fig 6 - LinearREG-Lat_V_Temp - South.png'\n",
    "\n",
    "#line equation position\n",
    "linepos = (-55,90)\n",
    "\n",
    "#function\n",
    "line_reg_plotting(southern_cities['Lat'], southern_cities['Max Temp'], x_lab, y_lab, title, savename,linepos)  \n",
    "\n",
    "#conclusions\n",
    "print('Linear Regression = Positive Correlation')\n",
    "print('As you move towards the Equator (Lat:0), the temperature rises in the southern hemisphere cities.')\n"
   ]
  },
  {
   "cell_type": "markdown",
   "metadata": {},
   "source": [
    "####  Northern Hemisphere - Humidity (%) vs. Latitude Linear Regression"
   ]
  },
  {
   "cell_type": "code",
   "execution_count": 20,
   "metadata": {},
   "outputs": [
    {
     "name": "stdout",
     "output_type": "stream",
     "text": [
      "The r-Value is: 0.3704836605162656\n"
     ]
    },
    {
     "data": {
      "image/png": "[encoded data removed]",
      "text/plain": [
       "<Figure size 432x288 with 1 Axes>"
      ]
     },
     "metadata": {
      "needs_background": "light"
     },
     "output_type": "display_data"
    },
    {
     "name": "stdout",
     "output_type": "stream",
     "text": [
      "Linear Regression = slightly positive Correlation\n",
      "No real correlation relationship can be inferred from this dataset\n"
     ]
    }
   ],
   "source": [
    "#labeling\n",
    "x_lab = 'Latitude'\n",
    "y_lab = 'Humidity'\n",
    "title = f'City Latitude vs. Humidity ({time.strftime(\"%m-%d-%Y\")})'\n",
    "\n",
    "#saving\n",
    "savename = 'fig 7 - LinearREG-Lat_V_Humid - North.png'\n",
    "\n",
    "#line equation position\n",
    "linepos = (40,10)\n",
    "\n",
    "#labeling #saving #line equation position #function\n",
    "line_reg_plotting(northern_cities['Lat'], northern_cities['Humidity'], x_lab, y_lab, title, savename, linepos)  \n",
    "    \n",
    "#conclusions\n",
    "print('Linear Regression = slightly positive Correlation')\n",
    "print('No real correlation relationship can be inferred from this dataset')"
   ]
  },
  {
   "cell_type": "markdown",
   "metadata": {},
   "source": [
    "####  Southern Hemisphere - Humidity (%) vs. Latitude Linear Regression"
   ]
  },
  {
   "cell_type": "code",
   "execution_count": 21,
   "metadata": {},
   "outputs": [
    {
     "name": "stdout",
     "output_type": "stream",
     "text": [
      "The r-Value is: -0.05518264527779133\n"
     ]
    },
    {
     "data": {
      "image/png": "[encoded data removed]",
      "text/plain": [
       "<Figure size 432x288 with 1 Axes>"
      ]
     },
     "metadata": {
      "needs_background": "light"
     },
     "output_type": "display_data"
    },
    {
     "name": "stdout",
     "output_type": "stream",
     "text": [
      "Linear Regression = slightly negative Correlation\n",
      "No real correlation relationship can be inferred from this dataset\n"
     ]
    }
   ],
   "source": [
    "#labeling\n",
    "x_lab = 'Latitude'\n",
    "y_lab = 'Humidity'\n",
    "title = f'City Latitude vs. Humidity ({time.strftime(\"%m-%d-%Y\")})'\n",
    "\n",
    "#saving\n",
    "savename = 'fig 8 - LinearREG-Lat_V_Humid - South.png'\n",
    "\n",
    "#line equation position\n",
    "linepos = (-55,10)\n",
    "\n",
    "#function\n",
    "line_reg_plotting(southern_cities['Lat'], southern_cities['Humidity'], x_lab, y_lab, title, savename, linepos)  \n",
    "\n",
    "#conclusions\n",
    "print('Linear Regression = slightly negative Correlation')\n",
    "print('No real correlation relationship can be inferred from this dataset')"
   ]
  },
  {
   "cell_type": "markdown",
   "metadata": {},
   "source": [
    "####  Northern Hemisphere - Cloudiness (%) vs. Latitude Linear Regression"
   ]
  },
  {
   "cell_type": "code",
   "execution_count": 22,
   "metadata": {},
   "outputs": [
    {
     "name": "stdout",
     "output_type": "stream",
     "text": [
      "The r-Value is: 0.14809285036152106\n"
     ]
    },
    {
     "data": {
      "image/png": "[encoded data removed]",
      "text/plain": [
       "<Figure size 432x288 with 1 Axes>"
      ]
     },
     "metadata": {
      "needs_background": "light"
     },
     "output_type": "display_data"
    },
    {
     "name": "stdout",
     "output_type": "stream",
     "text": [
      "Linear Regression = slightly positive Correlation\n",
      "No real correlation relationship can be inferred from this dataset\n"
     ]
    }
   ],
   "source": [
    "#labeling\n",
    "x_lab = 'Latitude'\n",
    "y_lab = 'Cloudiness'\n",
    "title = f'City Latitude vs. Cloudiness ({time.strftime(\"%m-%d-%Y\")})'\n",
    "\n",
    "#saving\n",
    "savename = 'fig 9 - LinearREG-Lat_V_Cloud - North.png'\n",
    "\n",
    "#line equation position\n",
    "linepos = (15,30)\n",
    "\n",
    "#function\n",
    "line_reg_plotting(northern_cities['Lat'], northern_cities['Cloudiness'], x_lab, y_lab, title, savename, linepos)  \n",
    "\n",
    "#conclusions\n",
    "print('Linear Regression = slightly positive Correlation')\n",
    "print('No real correlation relationship can be inferred from this dataset')"
   ]
  },
  {
   "cell_type": "markdown",
   "metadata": {},
   "source": [
    "####  Southern Hemisphere - Cloudiness (%) vs. Latitude Linear Regression"
   ]
  },
  {
   "cell_type": "code",
   "execution_count": 23,
   "metadata": {},
   "outputs": [
    {
     "name": "stdout",
     "output_type": "stream",
     "text": [
      "The r-Value is: 0.037270180249643\n"
     ]
    },
    {
     "data": {
      "image/png": "[encoded data removed]",
      "text/plain": [
       "<Figure size 432x288 with 1 Axes>"
      ]
     },
     "metadata": {
      "needs_background": "light"
     },
     "output_type": "display_data"
    },
    {
     "name": "stdout",
     "output_type": "stream",
     "text": [
      "Linear Regression = slightly positive Correlation\n",
      "No real correlation relationship can be inferred from this dataset\n"
     ]
    }
   ],
   "source": [
    "#labeling\n",
    "x_lab = 'Latitude'\n",
    "y_lab = 'Cloudiness'\n",
    "title = f'City Latitude vs. Cloudiness ({time.strftime(\"%m-%d-%Y\")})'\n",
    "\n",
    "#saving\n",
    "savename = 'fig 10 - LinearREG-Lat_V_Cloud - South.png'\n",
    "\n",
    "#line equation position\n",
    "linepos = (-55,30)\n",
    "\n",
    "#function\n",
    "line_reg_plotting(southern_cities['Lat'], southern_cities['Cloudiness'], x_lab, y_lab, title, savename, linepos)  \n",
    "\n",
    "#conclusions\n",
    "print('Linear Regression = slightly positive Correlation')\n",
    "print('No real correlation relationship can be inferred from this dataset')"
   ]
  },
  {
   "cell_type": "markdown",
   "metadata": {},
   "source": [
    "####  Northern Hemisphere - Wind Speed (mph) vs. Latitude Linear Regression"
   ]
  },
  {
   "cell_type": "code",
   "execution_count": 24,
   "metadata": {},
   "outputs": [
    {
     "name": "stdout",
     "output_type": "stream",
     "text": [
      "The r-Value is: 0.11650596565215941\n"
     ]
    },
    {
     "data": {
      "image/png": "[encoded data removed]",
      "text/plain": [
       "<Figure size 432x288 with 1 Axes>"
      ]
     },
     "metadata": {
      "needs_background": "light"
     },
     "output_type": "display_data"
    },
    {
     "name": "stdout",
     "output_type": "stream",
     "text": [
      "Linear Regression = slightly positive Correlation\n",
      "No real correlation relationship can be inferred from this dataset\n"
     ]
    }
   ],
   "source": [
    "#labeling\n",
    "x_lab = 'Latitude'\n",
    "y_lab = 'Wind Speed'\n",
    "title = f'City Latitude vs. Wind Speed ({time.strftime(\"%m-%d-%Y\")})'\n",
    "\n",
    "#saving\n",
    "savename = 'fig 11 - LinearREG-Lat_V_Wind - North.png'\n",
    "\n",
    "#line equation position\n",
    "linepos = (15,30)\n",
    "\n",
    "#function\n",
    "line_reg_plotting(northern_cities['Lat'], northern_cities['Wind Speed'], x_lab, y_lab, title, savename, linepos)  \n",
    "\n",
    "#conclusions\n",
    "print('Linear Regression = slightly positive Correlation')\n",
    "print('No real correlation relationship can be inferred from this dataset')"
   ]
  },
  {
   "cell_type": "markdown",
   "metadata": {},
   "source": [
    "####  Southern Hemisphere - Wind Speed (mph) vs. Latitude Linear Regression"
   ]
  },
  {
   "cell_type": "code",
   "execution_count": 25,
   "metadata": {},
   "outputs": [
    {
     "name": "stdout",
     "output_type": "stream",
     "text": [
      "The r-Value is: -0.020539580084899034\n"
     ]
    },
    {
     "data": {
      "image/png": "[encoded data removed]",
      "text/plain": [
       "<Figure size 432x288 with 1 Axes>"
      ]
     },
     "metadata": {
      "needs_background": "light"
     },
     "output_type": "display_data"
    },
    {
     "name": "stdout",
     "output_type": "stream",
     "text": [
      "Linear Regression = slightly negative Correlation\n",
      "No real correlation relationship can be inferred from this dataset\n"
     ]
    }
   ],
   "source": [
    "#labeling\n",
    "x_lab = 'Latitude'\n",
    "y_lab = 'Wind Speed'\n",
    "title = f'City Latitude vs. Wind Speed ({time.strftime(\"%m-%d-%Y\")})'\n",
    "\n",
    "#saving\n",
    "savename = 'fig 12 - LinearREG-Lat_V_Wind - North.png'\n",
    "\n",
    "#line equation position\n",
    "linepos = (-55,15)\n",
    "\n",
    "#function\n",
    "line_reg_plotting(southern_cities['Lat'], southern_cities['Wind Speed'], x_lab, y_lab, title, savename, linepos)  \n",
    "\n",
    "#conclusions\n",
    "print('Linear Regression = slightly negative Correlation')\n",
    "print('No real correlation relationship can be inferred from this dataset')"
   ]
  },
  {
   "cell_type": "markdown",
   "metadata": {},
   "source": [
    "#### Oservations:\n",
    "\n",
    "1. As you move away from the equator (Lat:0), temperature drops\n",
    "\n",
    "2. Wind Speeds increase slightly as you move away from the equator\n",
    "\n",
    "3. Almost little to no correlation between Latitude and Humidity/Cloudiness"
   ]
  }
 ],
 "metadata": {
  "anaconda-cloud": {},
  "kernel_info": {
   "name": "python3"
  },
  "kernelspec": {
   "display_name": "Python 3",
   "language": "python",
   "name": "python3"
  },
  "language_info": {
   "codemirror_mode": {
    "name": "ipython",
    "version": 3
   },
   "file_extension": ".py",
   "mimetype": "text/x-python",
   "name": "python",
   "nbconvert_exporter": "python",
   "pygments_lexer": "ipython3",
   "version": "3.8.3"
  },
  "latex_envs": {
   "LaTeX_envs_menu_present": true,
   "autoclose": false,
   "autocomplete": true,
   "bibliofile": "biblio.bib",
   "cite_by": "apalike",
   "current_citInitial": 1,
   "eqLabelWithNumbers": true,
   "eqNumInitial": 1,
   "hotkeys": {
    "equation": "Ctrl-E",
    "itemize": "Ctrl-I"
   },
   "labels_anchors": false,
   "latex_user_defs": false,
   "report_style_numbering": false,
   "user_envs_cfg": false
  },
  "nteract": {
   "version": "0.12.3"
  }
 },
 "nbformat": 4,
 "nbformat_minor": 2
}
