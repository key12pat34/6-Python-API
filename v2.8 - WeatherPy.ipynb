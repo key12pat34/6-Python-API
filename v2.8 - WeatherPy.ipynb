{
 "cells": [
  {
   "cell_type": "markdown",
   "metadata": {},
   "source": [
    "# WeatherPy\n",
    "----\n"
   ]
  },
  {
   "cell_type": "code",
   "execution_count": 1,
   "metadata": {
    "scrolled": true
   },
   "outputs": [],
   "source": [
    "# Dependencies\n",
    "\n",
    "import matplotlib.pyplot as plt\n",
    "import pandas as pd\n",
    "import numpy as np\n",
    "import requests\n",
    "import json\n",
    "import time\n",
    "from scipy.stats import linregress\n",
    "import scipy.stats as st\n",
    "import os\n",
    "\n",
    "\n",
    "# Incorporated citipy to determine city based on latitude and longitude\n",
    "from citipy import citipy\n",
    "\n",
    "\n",
    "# Range of latitudes and longitudes\n",
    "lat_range = (-90, 90)\n",
    "lng_range = (-180, 180)"
   ]
  },
  {
   "cell_type": "markdown",
   "metadata": {},
   "source": [
    "## Generate Cities List"
   ]
  },
  {
   "cell_type": "code",
   "execution_count": 2,
   "metadata": {},
   "outputs": [
    {
     "data": {
      "text/plain": [
       "614"
      ]
     },
     "execution_count": 2,
     "metadata": {},
     "output_type": "execute_result"
    }
   ],
   "source": [
    "################### NOTE #########################\n",
    "#####code provided by professor in this block\n",
    "##################################################\n",
    "\n",
    "# List for holding lat_lngs and cities values\n",
    "lat_lngs = []\n",
    "cities = []\n",
    "\n",
    "# Create a set of random lat and lng combinations\n",
    "lats = np.random.uniform(lat_range[0], lat_range[1], size=1500)\n",
    "lngs = np.random.uniform(lng_range[0], lng_range[1], size=1500)\n",
    "lat_lngs = zip(lats, lngs)\n",
    "\n",
    "# Identify nearest city for each lat, lng combination\n",
    "for lat_lng in lat_lngs:\n",
    "    city = citipy.nearest_city(lat_lng[0], lat_lng[1]).city_name\n",
    "    \n",
    "    # If the city is unique, then add it to a our cities list\n",
    "    if city not in cities:\n",
    "        cities.append(city)\n",
    "\n",
    "# Print the city count to confirm sufficient count\n",
    "len(cities)\n",
    "\n",
    "################### END BLOCK ####################\n",
    "##################################################"
   ]
  },
  {
   "cell_type": "code",
   "execution_count": 3,
   "metadata": {},
   "outputs": [
    {
     "data": {
      "text/html": [
       "<div>\n",
       "<style scoped>\n",
       "    .dataframe tbody tr th:only-of-type {\n",
       "        vertical-align: middle;\n",
       "    }\n",
       "\n",
       "    .dataframe tbody tr th {\n",
       "        vertical-align: top;\n",
       "    }\n",
       "\n",
       "    .dataframe thead th {\n",
       "        text-align: right;\n",
       "    }\n",
       "</style>\n",
       "<table border=\"1\" class=\"dataframe\">\n",
       "  <thead>\n",
       "    <tr style=\"text-align: right;\">\n",
       "      <th></th>\n",
       "      <th>City</th>\n",
       "    </tr>\n",
       "  </thead>\n",
       "  <tbody>\n",
       "    <tr>\n",
       "      <th>0</th>\n",
       "      <td>port shepstone</td>\n",
       "    </tr>\n",
       "    <tr>\n",
       "      <th>1</th>\n",
       "      <td>basco</td>\n",
       "    </tr>\n",
       "    <tr>\n",
       "      <th>2</th>\n",
       "      <td>hermanus</td>\n",
       "    </tr>\n",
       "    <tr>\n",
       "      <th>3</th>\n",
       "      <td>thinadhoo</td>\n",
       "    </tr>\n",
       "    <tr>\n",
       "      <th>4</th>\n",
       "      <td>grevena</td>\n",
       "    </tr>\n",
       "    <tr>\n",
       "      <th>...</th>\n",
       "      <td>...</td>\n",
       "    </tr>\n",
       "    <tr>\n",
       "      <th>609</th>\n",
       "      <td>tsienyane</td>\n",
       "    </tr>\n",
       "    <tr>\n",
       "      <th>610</th>\n",
       "      <td>strezhevoy</td>\n",
       "    </tr>\n",
       "    <tr>\n",
       "      <th>611</th>\n",
       "      <td>batagay</td>\n",
       "    </tr>\n",
       "    <tr>\n",
       "      <th>612</th>\n",
       "      <td>straumen</td>\n",
       "    </tr>\n",
       "    <tr>\n",
       "      <th>613</th>\n",
       "      <td>marale</td>\n",
       "    </tr>\n",
       "  </tbody>\n",
       "</table>\n",
       "<p>614 rows × 1 columns</p>\n",
       "</div>"
      ],
      "text/plain": [
       "               City\n",
       "0    port shepstone\n",
       "1             basco\n",
       "2          hermanus\n",
       "3         thinadhoo\n",
       "4           grevena\n",
       "..              ...\n",
       "609       tsienyane\n",
       "610      strezhevoy\n",
       "611         batagay\n",
       "612        straumen\n",
       "613          marale\n",
       "\n",
       "[614 rows x 1 columns]"
      ]
     },
     "execution_count": 3,
     "metadata": {},
     "output_type": "execute_result"
    }
   ],
   "source": [
    "#putting the cities from the api into a dataframe\n",
    "\n",
    "city_df = pd.DataFrame({'City' : cities})\n",
    "city_df"
   ]
  },
  {
   "cell_type": "markdown",
   "metadata": {},
   "source": [
    "### API Calls"
   ]
  },
  {
   "cell_type": "code",
   "execution_count": 4,
   "metadata": {},
   "outputs": [],
   "source": [
    "# API key\n",
    "from api_keys import weather_api_key\n",
    "\n",
    "#url\n",
    "base_url = 'https://api.openweathermap.org/data/2.5/weather?'"
   ]
  },
  {
   "cell_type": "code",
   "execution_count": 5,
   "metadata": {},
   "outputs": [
    {
     "name": "stdout",
     "output_type": "stream",
     "text": [
      "Beginning Data Retrieval\n",
      "-----------------------------\n",
      "Processing Record 1 of Set 1 | port shepstone\n",
      "Processing Record 2 of Set 1 | basco\n",
      "Processing Record 3 of Set 1 | hermanus\n",
      "Processing Record 4 of Set 1 | thinadhoo\n",
      "Processing Record 5 of Set 1 | grevena\n",
      "Processing Record 6 of Set 1 | albany\n",
      "Processing Record 7 of Set 1 | almonte\n",
      "Processing Record 8 of Set 1 | yellowknife\n",
      "Processing Record 9 of Set 1 | bugalagrande\n",
      "Processing Record 10 of Set 1 | maniitsoq\n",
      "Processing Record 11 of Set 1 | juegang\n",
      "Processing Record 12 of Set 1 | cape town\n",
      "Processing Record 13 of Set 1 | saint-augustin\n",
      "Processing Record 14 of Set 1 | severo-kurilsk\n",
      "Processing Record 15 of Set 1 | new norfolk\n",
      "Processing Record 16 of Set 1 | hami\n",
      "Processing Record 17 of Set 1 | nikolskoye\n",
      "Processing Record 18 of Set 1 | yzeure\n",
      "Processing Record 19 of Set 1 | dingle\n",
      "Processing Record 20 of Set 1 | abbeville\n",
      "Processing Record 21 of Set 1 | bengkulu\n",
      "Processing Record 22 of Set 1 | bilma\n",
      "Processing Record 23 of Set 1 | faanui\n",
      "Processing Record 24 of Set 1 | khatanga\n",
      "Processing Record 25 of Set 1 | rikitea\n",
      "Processing Record 26 of Set 1 | ushuaia\n",
      "Processing Record 27 of Set 1 | kaitangata\n",
      "Processing Record 28 of Set 1 | punta arenas\n",
      "Processing Record 29 of Set 1 | puerto ayora\n",
      "Processing Record 30 of Set 1 | springfield\n",
      "Processing Record 31 of Set 1 | avarua\n",
      "City not found. Skipping..\n",
      "Processing Record 33 of Set 1 | hithadhoo\n",
      "Processing Record 34 of Set 1 | mar del plata\n",
      "Processing Record 35 of Set 1 | port elizabeth\n",
      "Processing Record 36 of Set 1 | arcata\n",
      "City not found. Skipping..\n",
      "Processing Record 38 of Set 1 | yatou\n",
      "Processing Record 39 of Set 1 | noumea\n",
      "Processing Record 40 of Set 1 | hobart\n",
      "City not found. Skipping..\n",
      "Processing Record 42 of Set 1 | staryy nadym\n",
      "Processing Record 43 of Set 1 | sena madureira\n",
      "Processing Record 44 of Set 1 | tevaitoa\n",
      "Processing Record 45 of Set 1 | villa maria\n",
      "Processing Record 46 of Set 1 | mataura\n",
      "Processing Record 47 of Set 1 | shelburne\n",
      "City not found. Skipping..\n",
      "City not found. Skipping..\n",
      "Processing Record 50 of Set 1 | clyde river\n",
      "Processing Record 2 of Set 2 | sola\n",
      "Processing Record 3 of Set 2 | vaini\n",
      "Processing Record 4 of Set 2 | rojhan\n",
      "Processing Record 5 of Set 2 | luderitz\n",
      "Processing Record 6 of Set 2 | pitimbu\n",
      "Processing Record 7 of Set 2 | sohag\n",
      "Processing Record 8 of Set 2 | salinopolis\n",
      "Processing Record 9 of Set 2 | kiama\n",
      "Processing Record 10 of Set 2 | narsaq\n",
      "Processing Record 11 of Set 2 | bairiki\n",
      "Processing Record 12 of Set 2 | thompson\n",
      "Processing Record 13 of Set 2 | serowe\n",
      "Processing Record 14 of Set 2 | labrea\n",
      "Processing Record 15 of Set 2 | mount gambier\n",
      "Processing Record 16 of Set 2 | vao\n",
      "Processing Record 17 of Set 2 | port alfred\n",
      "Processing Record 18 of Set 2 | wajima\n",
      "Processing Record 19 of Set 2 | jalu\n",
      "Processing Record 20 of Set 2 | ponta do sol\n",
      "Processing Record 21 of Set 2 | paamiut\n",
      "Processing Record 22 of Set 2 | bukachacha\n",
      "Processing Record 23 of Set 2 | atuona\n",
      "Processing Record 24 of Set 2 | estelle\n",
      "Processing Record 25 of Set 2 | bathsheba\n",
      "Processing Record 26 of Set 2 | victoria\n",
      "Processing Record 27 of Set 2 | san quintin\n",
      "Processing Record 28 of Set 2 | jamestown\n",
      "City not found. Skipping..\n",
      "Processing Record 30 of Set 2 | castro\n",
      "Processing Record 31 of Set 2 | leningradskiy\n",
      "Processing Record 32 of Set 2 | pangnirtung\n",
      "City not found. Skipping..\n",
      "Processing Record 34 of Set 2 | bambous virieux\n",
      "Processing Record 35 of Set 2 | san patricio\n",
      "Processing Record 36 of Set 2 | grand gaube\n",
      "Processing Record 37 of Set 2 | butaritari\n",
      "Processing Record 38 of Set 2 | lavrentiya\n",
      "Processing Record 39 of Set 2 | kapaa\n",
      "Processing Record 40 of Set 2 | kieta\n",
      "City not found. Skipping..\n",
      "Processing Record 42 of Set 2 | shingu\n",
      "Processing Record 43 of Set 2 | salamiyah\n",
      "Processing Record 44 of Set 2 | iqaluit\n",
      "Processing Record 45 of Set 2 | gat\n",
      "City not found. Skipping..\n",
      "Processing Record 47 of Set 2 | sao filipe\n",
      "Processing Record 48 of Set 2 | nome\n",
      "Processing Record 49 of Set 2 | buchanan\n",
      "Processing Record 50 of Set 2 | cayenne\n",
      "Processing Record 2 of Set 3 | hilo\n",
      "Processing Record 3 of Set 3 | alta floresta\n",
      "Processing Record 4 of Set 3 | tselina\n",
      "Processing Record 5 of Set 3 | praya\n",
      "Processing Record 6 of Set 3 | hoima\n",
      "Processing Record 7 of Set 3 | atar\n",
      "Processing Record 8 of Set 3 | busselton\n",
      "Processing Record 9 of Set 3 | bac lieu\n",
      "Processing Record 10 of Set 3 | sur\n",
      "Processing Record 11 of Set 3 | bethel\n",
      "Processing Record 12 of Set 3 | kaeo\n",
      "Processing Record 13 of Set 3 | chimoio\n",
      "Processing Record 14 of Set 3 | tupi paulista\n",
      "Processing Record 15 of Set 3 | anadyr\n",
      "Processing Record 16 of Set 3 | castellarano\n",
      "Processing Record 17 of Set 3 | esperance\n",
      "Processing Record 18 of Set 3 | bluff\n",
      "Processing Record 19 of Set 3 | xihe\n",
      "Processing Record 20 of Set 3 | fairbanks\n",
      "Processing Record 21 of Set 3 | nara\n",
      "City not found. Skipping..\n",
      "Processing Record 23 of Set 3 | airai\n",
      "Processing Record 24 of Set 3 | whitehorse\n",
      "Processing Record 25 of Set 3 | inhambane\n",
      "City not found. Skipping..\n",
      "Processing Record 27 of Set 3 | buala\n",
      "Processing Record 28 of Set 3 | smithers\n",
      "Processing Record 29 of Set 3 | maningrida\n",
      "Processing Record 30 of Set 3 | albury\n",
      "Processing Record 31 of Set 3 | chapais\n",
      "Processing Record 32 of Set 3 | sal rei\n",
      "Processing Record 33 of Set 3 | arraial do cabo\n",
      "Processing Record 34 of Set 3 | chuy\n",
      "Processing Record 35 of Set 3 | constitucion\n",
      "Processing Record 36 of Set 3 | salinas\n",
      "Processing Record 37 of Set 3 | batouri\n",
      "Processing Record 38 of Set 3 | deputatskiy\n",
      "Processing Record 39 of Set 3 | akhtubinsk\n",
      "Processing Record 40 of Set 3 | leopold\n",
      "Processing Record 41 of Set 3 | andenes\n",
      "Processing Record 42 of Set 3 | sioux falls\n",
      "Processing Record 43 of Set 3 | hasaki\n",
      "Processing Record 44 of Set 3 | fortuna\n",
      "Processing Record 45 of Set 3 | pervomayskiy\n",
      "Processing Record 46 of Set 3 | kahului\n",
      "Processing Record 47 of Set 3 | barrow\n",
      "Processing Record 48 of Set 3 | tuatapere\n",
      "Processing Record 49 of Set 3 | bukama\n",
      "Processing Record 50 of Set 3 | rabo de peixe\n",
      "Processing Record 2 of Set 4 | altus\n",
      "Processing Record 3 of Set 4 | havre-saint-pierre\n",
      "Processing Record 4 of Set 4 | fort saint james\n",
      "Processing Record 5 of Set 4 | araci\n",
      "City not found. Skipping..\n",
      "Processing Record 7 of Set 4 | bilibino\n",
      "Processing Record 8 of Set 4 | plessisville\n",
      "Processing Record 9 of Set 4 | sinnamary\n",
      "Processing Record 10 of Set 4 | guerrero negro\n",
      "Processing Record 11 of Set 4 | maceio\n",
      "Processing Record 12 of Set 4 | sistranda\n",
      "Processing Record 13 of Set 4 | raga\n",
      "Processing Record 14 of Set 4 | gospic\n",
      "Processing Record 15 of Set 4 | qaanaaq\n",
      "Processing Record 16 of Set 4 | kalmunai\n",
      "Processing Record 17 of Set 4 | tiksi\n",
      "Processing Record 18 of Set 4 | beringovskiy\n",
      "Processing Record 19 of Set 4 | effium\n",
      "Processing Record 20 of Set 4 | sioux lookout\n",
      "City not found. Skipping..\n",
      "Processing Record 22 of Set 4 | harer\n",
      "City not found. Skipping..\n",
      "Processing Record 24 of Set 4 | college\n",
      "Processing Record 25 of Set 4 | pavlikeni\n",
      "Processing Record 26 of Set 4 | sovetskiy\n",
      "Processing Record 27 of Set 4 | lazaro cardenas\n",
      "Processing Record 28 of Set 4 | san felipe\n",
      "Processing Record 29 of Set 4 | mazagao\n",
      "Processing Record 30 of Set 4 | port blair\n",
      "City not found. Skipping..\n",
      "City not found. Skipping..\n",
      "Processing Record 33 of Set 4 | east london\n",
      "Processing Record 34 of Set 4 | portobelo\n",
      "Processing Record 35 of Set 4 | montelibano\n",
      "Processing Record 36 of Set 4 | nassau\n",
      "Processing Record 37 of Set 4 | margate\n",
      "City not found. Skipping..\n",
      "Processing Record 39 of Set 4 | coihaique\n",
      "Processing Record 40 of Set 4 | bonnyville\n",
      "Processing Record 41 of Set 4 | stornoway\n",
      "Processing Record 42 of Set 4 | codrington\n",
      "Processing Record 43 of Set 4 | alice town\n",
      "Processing Record 44 of Set 4 | puerto escondido\n",
      "Processing Record 45 of Set 4 | coquimbo\n",
      "Processing Record 46 of Set 4 | hokitika\n",
      "Processing Record 47 of Set 4 | vanavara\n",
      "Processing Record 48 of Set 4 | abha\n",
      "Processing Record 49 of Set 4 | ilo\n",
      "Processing Record 50 of Set 4 | ecoporanga\n",
      "Processing Record 2 of Set 5 | georgetown\n",
      "City not found. Skipping..\n",
      "Processing Record 4 of Set 5 | sipe sipe\n",
      "Processing Record 5 of Set 5 | makakilo city\n",
      "Processing Record 6 of Set 5 | bredasdorp\n",
      "Processing Record 7 of Set 5 | provideniya\n",
      "Processing Record 8 of Set 5 | jimenez\n"
     ]
    },
    {
     "name": "stdout",
     "output_type": "stream",
     "text": [
      "Processing Record 9 of Set 5 | talnakh\n",
      "Processing Record 10 of Set 5 | steamboat springs\n",
      "Processing Record 11 of Set 5 | prainha\n",
      "Processing Record 12 of Set 5 | kant\n",
      "Processing Record 13 of Set 5 | port said\n",
      "Processing Record 14 of Set 5 | souillac\n",
      "City not found. Skipping..\n",
      "Processing Record 16 of Set 5 | port antonio\n",
      "Processing Record 17 of Set 5 | oranjemund\n",
      "Processing Record 18 of Set 5 | kodiak\n",
      "Processing Record 19 of Set 5 | saskylakh\n",
      "Processing Record 20 of Set 5 | lorengau\n",
      "Processing Record 21 of Set 5 | broome\n",
      "Processing Record 22 of Set 5 | avera\n",
      "Processing Record 23 of Set 5 | barranca\n",
      "Processing Record 24 of Set 5 | hohhot\n",
      "Processing Record 25 of Set 5 | cidreira\n",
      "Processing Record 26 of Set 5 | sjovegan\n",
      "Processing Record 27 of Set 5 | saint george\n",
      "Processing Record 28 of Set 5 | vardo\n",
      "Processing Record 29 of Set 5 | dikson\n",
      "Processing Record 30 of Set 5 | chernigovka\n",
      "Processing Record 31 of Set 5 | mitchell\n",
      "Processing Record 32 of Set 5 | marakkanam\n",
      "Processing Record 33 of Set 5 | carnarvon\n",
      "City not found. Skipping..\n",
      "Processing Record 35 of Set 5 | torbay\n",
      "Processing Record 36 of Set 5 | pevek\n",
      "City not found. Skipping..\n",
      "Processing Record 38 of Set 5 | werda\n",
      "Processing Record 39 of Set 5 | todos santos\n",
      "Processing Record 40 of Set 5 | selma\n",
      "Processing Record 41 of Set 5 | cravo norte\n",
      "Processing Record 42 of Set 5 | vavoua\n",
      "Processing Record 43 of Set 5 | nanortalik\n",
      "City not found. Skipping..\n",
      "Processing Record 45 of Set 5 | klaksvik\n",
      "Processing Record 46 of Set 5 | ardahan\n",
      "Processing Record 47 of Set 5 | puro\n",
      "Processing Record 48 of Set 5 | kavaratti\n",
      "Processing Record 49 of Set 5 | palmer\n",
      "Processing Record 50 of Set 5 | chernyshevskiy\n",
      "Processing Record 2 of Set 6 | coaraci\n",
      "Processing Record 3 of Set 6 | upernavik\n",
      "Processing Record 4 of Set 6 | zaqatala\n",
      "Processing Record 5 of Set 6 | ribeira grande\n",
      "Processing Record 6 of Set 6 | tasiilaq\n",
      "Processing Record 7 of Set 6 | san cristobal\n",
      "Processing Record 8 of Set 6 | ust-nera\n",
      "Processing Record 9 of Set 6 | golubitskaya\n",
      "Processing Record 10 of Set 6 | port lincoln\n",
      "Processing Record 11 of Set 6 | tabou\n",
      "Processing Record 12 of Set 6 | luau\n",
      "Processing Record 13 of Set 6 | pasni\n",
      "Processing Record 14 of Set 6 | kim\n",
      "City not found. Skipping..\n",
      "Processing Record 16 of Set 6 | belfast\n",
      "Processing Record 17 of Set 6 | kurmanayevka\n",
      "City not found. Skipping..\n",
      "Processing Record 19 of Set 6 | general roca\n",
      "Processing Record 20 of Set 6 | yar-sale\n",
      "Processing Record 21 of Set 6 | saldanha\n",
      "Processing Record 22 of Set 6 | jiayuguan\n",
      "City not found. Skipping..\n",
      "Processing Record 24 of Set 6 | atasu\n",
      "Processing Record 25 of Set 6 | billings\n",
      "Processing Record 26 of Set 6 | chaplynka\n",
      "Processing Record 27 of Set 6 | iralaya\n",
      "Processing Record 28 of Set 6 | enshi\n",
      "Processing Record 29 of Set 6 | porto novo\n",
      "Processing Record 30 of Set 6 | puntarenas\n",
      "Processing Record 31 of Set 6 | belen\n",
      "Processing Record 32 of Set 6 | caruray\n",
      "Processing Record 33 of Set 6 | limoges\n",
      "Processing Record 34 of Set 6 | walvis bay\n",
      "Processing Record 35 of Set 6 | shenjiamen\n",
      "Processing Record 36 of Set 6 | baiyin\n",
      "Processing Record 37 of Set 6 | fort frances\n",
      "Processing Record 38 of Set 6 | termiz\n",
      "Processing Record 39 of Set 6 | santa maria\n",
      "Processing Record 40 of Set 6 | namibe\n",
      "Processing Record 41 of Set 6 | velasco ibarra\n",
      "Processing Record 42 of Set 6 | wilmington\n",
      "Processing Record 43 of Set 6 | marawi\n",
      "Processing Record 44 of Set 6 | maba\n",
      "Processing Record 45 of Set 6 | baruun-urt\n",
      "City not found. Skipping..\n",
      "Processing Record 47 of Set 6 | sitka\n",
      "Processing Record 48 of Set 6 | kilcormac\n",
      "Processing Record 49 of Set 6 | yenagoa\n",
      "City not found. Skipping..\n",
      "Processing Record 2 of Set 7 | mugur-aksy\n",
      "Processing Record 3 of Set 7 | yeppoon\n",
      "Processing Record 4 of Set 7 | sungairaya\n",
      "Processing Record 5 of Set 7 | tecoanapa\n",
      "Processing Record 6 of Set 7 | olive branch\n",
      "Processing Record 7 of Set 7 | sayyan\n",
      "Processing Record 8 of Set 7 | flin flon\n",
      "Processing Record 9 of Set 7 | elizabeth city\n",
      "Processing Record 10 of Set 7 | filadelfia\n",
      "Processing Record 11 of Set 7 | hammerfest\n",
      "Processing Record 12 of Set 7 | limbe\n",
      "Processing Record 13 of Set 7 | aksu\n",
      "Processing Record 14 of Set 7 | wasilla\n",
      "Processing Record 15 of Set 7 | lebu\n",
      "City not found. Skipping..\n",
      "Processing Record 17 of Set 7 | wuwei\n",
      "Processing Record 18 of Set 7 | cabo san lucas\n",
      "Processing Record 19 of Set 7 | port-gentil\n",
      "Processing Record 20 of Set 7 | lasa\n",
      "Processing Record 21 of Set 7 | ust-karsk\n",
      "Processing Record 22 of Set 7 | tura\n",
      "Processing Record 23 of Set 7 | mahebourg\n",
      "Processing Record 24 of Set 7 | emerald\n",
      "Processing Record 25 of Set 7 | cumberland\n",
      "Processing Record 26 of Set 7 | aras\n",
      "Processing Record 27 of Set 7 | westport\n",
      "Processing Record 28 of Set 7 | tuktoyaktuk\n",
      "Processing Record 29 of Set 7 | cibitoke\n",
      "Processing Record 30 of Set 7 | sungaipenuh\n",
      "Processing Record 31 of Set 7 | kruisfontein\n",
      "Processing Record 32 of Set 7 | aberdeen\n",
      "Processing Record 33 of Set 7 | vestmannaeyjar\n",
      "Processing Record 34 of Set 7 | benjamin constant\n",
      "Processing Record 35 of Set 7 | bagdarin\n",
      "City not found. Skipping..\n",
      "Processing Record 37 of Set 7 | waitati\n",
      "Processing Record 38 of Set 7 | acarau\n",
      "City not found. Skipping..\n",
      "Processing Record 40 of Set 7 | chiredzi\n",
      "Processing Record 41 of Set 7 | natitingou\n",
      "City not found. Skipping..\n",
      "Processing Record 43 of Set 7 | tonantins\n",
      "Processing Record 44 of Set 7 | agadir\n",
      "Processing Record 45 of Set 7 | chiang rai\n",
      "Processing Record 46 of Set 7 | krasnoselkup\n",
      "Processing Record 47 of Set 7 | maunabo\n",
      "Processing Record 48 of Set 7 | ovsyanka\n",
      "Processing Record 49 of Set 7 | isangel\n",
      "Processing Record 50 of Set 7 | gamba\n",
      "Processing Record 2 of Set 8 | longyearbyen\n",
      "Processing Record 3 of Set 8 | labuhan\n",
      "Processing Record 4 of Set 8 | adre\n",
      "Processing Record 5 of Set 8 | puerto baquerizo moreno\n",
      "Processing Record 6 of Set 8 | gusau\n",
      "Processing Record 7 of Set 8 | washougal\n",
      "Processing Record 8 of Set 8 | san vicente\n",
      "Processing Record 9 of Set 8 | along\n",
      "Processing Record 10 of Set 8 | saint-paul\n",
      "Processing Record 11 of Set 8 | harlingen\n",
      "Processing Record 12 of Set 8 | los llanos de aridane\n",
      "Processing Record 13 of Set 8 | qui nhon\n",
      "City not found. Skipping..\n",
      "Processing Record 15 of Set 8 | corn island\n",
      "Processing Record 16 of Set 8 | cherskiy\n",
      "Processing Record 17 of Set 8 | arvika\n",
      "Processing Record 18 of Set 8 | san andres\n",
      "Processing Record 19 of Set 8 | haines junction\n",
      "City not found. Skipping..\n",
      "Processing Record 21 of Set 8 | lompoc\n",
      "Processing Record 22 of Set 8 | flinders\n",
      "Processing Record 23 of Set 8 | port hardy\n",
      "Processing Record 24 of Set 8 | chokurdakh\n",
      "Processing Record 25 of Set 8 | laguna\n",
      "Processing Record 26 of Set 8 | mulege\n",
      "Processing Record 27 of Set 8 | marystown\n",
      "Processing Record 28 of Set 8 | meulaboh\n",
      "Processing Record 29 of Set 8 | tilichiki\n",
      "Processing Record 30 of Set 8 | sao joao da barra\n",
      "Processing Record 31 of Set 8 | ekhabi\n",
      "Processing Record 32 of Set 8 | kavieng\n",
      "Processing Record 33 of Set 8 | santa vitoria do palmar\n",
      "Processing Record 34 of Set 8 | bestobe\n",
      "Processing Record 35 of Set 8 | waipawa\n",
      "Processing Record 36 of Set 8 | florianopolis\n",
      "Processing Record 37 of Set 8 | vila franca do campo\n",
      "Processing Record 38 of Set 8 | oxbow\n",
      "Processing Record 39 of Set 8 | nuuk\n",
      "Processing Record 40 of Set 8 | inirida\n",
      "Processing Record 41 of Set 8 | anqing\n",
      "Processing Record 42 of Set 8 | sibolga\n",
      "Processing Record 43 of Set 8 | palauig\n",
      "Processing Record 44 of Set 8 | uvalde\n",
      "Processing Record 45 of Set 8 | alta\n",
      "Processing Record 46 of Set 8 | santa maria do suacui\n",
      "Processing Record 47 of Set 8 | albania\n",
      "Processing Record 48 of Set 8 | samarai\n",
      "Processing Record 49 of Set 8 | tiznit\n",
      "Processing Record 50 of Set 8 | pascagoula\n",
      "Processing Record 2 of Set 9 | aleksandrovskoye\n",
      "Processing Record 3 of Set 9 | lakes entrance\n",
      "Processing Record 4 of Set 9 | grand-santi\n",
      "Processing Record 5 of Set 9 | aswan\n",
      "Processing Record 6 of Set 9 | mgachi\n",
      "Processing Record 7 of Set 9 | cairo\n",
      "Processing Record 8 of Set 9 | pisco\n",
      "City not found. Skipping..\n",
      "Processing Record 10 of Set 9 | churapcha\n",
      "Processing Record 11 of Set 9 | san fernando\n",
      "Processing Record 12 of Set 9 | norman wells\n",
      "City not found. Skipping..\n",
      "Processing Record 14 of Set 9 | ulverstone\n",
      "Processing Record 15 of Set 9 | caraquet\n",
      "Processing Record 16 of Set 9 | george\n"
     ]
    },
    {
     "name": "stdout",
     "output_type": "stream",
     "text": [
      "City not found. Skipping..\n",
      "Processing Record 18 of Set 9 | cauquenes\n",
      "Processing Record 19 of Set 9 | tabas\n",
      "Processing Record 20 of Set 9 | urusha\n",
      "City not found. Skipping..\n",
      "Processing Record 22 of Set 9 | naantali\n",
      "Processing Record 23 of Set 9 | caernarfon\n",
      "Processing Record 24 of Set 9 | camacha\n",
      "Processing Record 25 of Set 9 | caramay\n",
      "Processing Record 26 of Set 9 | bud\n",
      "Processing Record 27 of Set 9 | heihe\n",
      "Processing Record 28 of Set 9 | bogorodskoye\n",
      "Processing Record 29 of Set 9 | dera bugti\n",
      "Processing Record 30 of Set 9 | barrhead\n",
      "Processing Record 31 of Set 9 | sao raimundo nonato\n",
      "Processing Record 32 of Set 9 | holeby\n",
      "Processing Record 33 of Set 9 | taguatinga\n",
      "City not found. Skipping..\n",
      "Processing Record 35 of Set 9 | nabire\n",
      "Processing Record 36 of Set 9 | zharkent\n",
      "Processing Record 37 of Set 9 | polovinnoye\n",
      "Processing Record 38 of Set 9 | indramayu\n",
      "Processing Record 39 of Set 9 | manjo\n",
      "Processing Record 40 of Set 9 | prince albert\n",
      "Processing Record 41 of Set 9 | kingman\n",
      "Processing Record 42 of Set 9 | haimen\n",
      "Processing Record 43 of Set 9 | monrovia\n",
      "Processing Record 44 of Set 9 | karlovac\n",
      "Processing Record 45 of Set 9 | virginia beach\n",
      "Processing Record 46 of Set 9 | badou\n",
      "Processing Record 47 of Set 9 | puerto del rosario\n",
      "Processing Record 48 of Set 9 | aksarayskiy\n",
      "Processing Record 49 of Set 9 | port macquarie\n",
      "City not found. Skipping..\n",
      "Processing Record 2 of Set 10 | chalus\n",
      "Processing Record 3 of Set 10 | mareeba\n",
      "Processing Record 4 of Set 10 | helong\n",
      "Processing Record 5 of Set 10 | alappuzha\n",
      "Processing Record 6 of Set 10 | christchurch\n",
      "Processing Record 7 of Set 10 | ahipara\n",
      "Processing Record 8 of Set 10 | hamilton\n",
      "City not found. Skipping..\n",
      "Processing Record 10 of Set 10 | truth or consequences\n",
      "Processing Record 11 of Set 10 | muros\n",
      "Processing Record 12 of Set 10 | cururupu\n",
      "Processing Record 13 of Set 10 | gandevi\n",
      "Processing Record 14 of Set 10 | zverinogolovskoye\n",
      "Processing Record 15 of Set 10 | gigmoto\n",
      "Processing Record 16 of Set 10 | boa vista\n",
      "Processing Record 17 of Set 10 | kargil\n",
      "Processing Record 18 of Set 10 | xichang\n",
      "Processing Record 19 of Set 10 | turukhansk\n",
      "Processing Record 20 of Set 10 | saint-philippe\n",
      "Processing Record 21 of Set 10 | khalabat\n",
      "Processing Record 22 of Set 10 | champerico\n",
      "Processing Record 23 of Set 10 | tiarei\n",
      "Processing Record 24 of Set 10 | formosa do rio preto\n",
      "Processing Record 25 of Set 10 | nakatsugawa\n",
      "Processing Record 26 of Set 10 | traverse city\n",
      "Processing Record 27 of Set 10 | aykhal\n",
      "Processing Record 28 of Set 10 | yucca valley\n",
      "Processing Record 29 of Set 10 | biak\n",
      "Processing Record 30 of Set 10 | anchorage\n",
      "Processing Record 31 of Set 10 | tarko-sale\n",
      "Processing Record 32 of Set 10 | carlsbad\n",
      "City not found. Skipping..\n",
      "Processing Record 34 of Set 10 | portland\n",
      "Processing Record 35 of Set 10 | lumby\n",
      "Processing Record 36 of Set 10 | acajutla\n",
      "Processing Record 37 of Set 10 | alamosa\n",
      "Processing Record 38 of Set 10 | wencheng\n",
      "Processing Record 39 of Set 10 | lindi\n",
      "Processing Record 40 of Set 10 | kununurra\n",
      "Processing Record 41 of Set 10 | charyshskoye\n",
      "Processing Record 42 of Set 10 | solnechnyy\n",
      "Processing Record 43 of Set 10 | emba\n",
      "Processing Record 44 of Set 10 | songea\n",
      "Processing Record 45 of Set 10 | la palma\n",
      "Processing Record 46 of Set 10 | weingarten\n",
      "Processing Record 47 of Set 10 | mercedes\n",
      "City not found. Skipping..\n",
      "Processing Record 49 of Set 10 | laurel\n",
      "Processing Record 50 of Set 10 | kirakira\n",
      "Processing Record 2 of Set 11 | sambava\n",
      "Processing Record 3 of Set 11 | keetmanshoop\n",
      "Processing Record 4 of Set 11 | alofi\n",
      "Processing Record 5 of Set 11 | adrar\n",
      "Processing Record 6 of Set 11 | praia da vitoria\n",
      "Processing Record 7 of Set 11 | paramonga\n",
      "Processing Record 8 of Set 11 | hambantota\n",
      "Processing Record 9 of Set 11 | carson city\n",
      "Processing Record 10 of Set 11 | palana\n",
      "Processing Record 11 of Set 11 | wanning\n",
      "Processing Record 12 of Set 11 | daru\n",
      "Processing Record 13 of Set 11 | vila do maio\n",
      "Processing Record 14 of Set 11 | ambon\n",
      "Processing Record 15 of Set 11 | brae\n",
      "Processing Record 16 of Set 11 | yokadouma\n",
      "Processing Record 17 of Set 11 | lagoa\n",
      "Processing Record 18 of Set 11 | lata\n",
      "Processing Record 19 of Set 11 | poum\n",
      "Processing Record 20 of Set 11 | nang rong\n",
      "City not found. Skipping..\n",
      "Processing Record 22 of Set 11 | oparino\n",
      "Processing Record 23 of Set 11 | zuenoula\n",
      "City not found. Skipping..\n",
      "Processing Record 25 of Set 11 | mazatlan\n",
      "Processing Record 26 of Set 11 | shache\n",
      "Processing Record 27 of Set 11 | tam ky\n",
      "Processing Record 28 of Set 11 | esil\n",
      "Processing Record 29 of Set 11 | komsomolskiy\n",
      "Processing Record 30 of Set 11 | calvinia\n",
      "Processing Record 31 of Set 11 | arman\n",
      "Processing Record 32 of Set 11 | roscommon\n",
      "Processing Record 33 of Set 11 | vostok\n",
      "Processing Record 34 of Set 11 | charters towers\n",
      "Processing Record 35 of Set 11 | asyut\n",
      "Processing Record 36 of Set 11 | fort walton beach\n",
      "Processing Record 37 of Set 11 | marinette\n",
      "Processing Record 38 of Set 11 | simpang\n",
      "Processing Record 39 of Set 11 | prilep\n",
      "Processing Record 40 of Set 11 | sabang\n",
      "City not found. Skipping..\n",
      "Processing Record 42 of Set 11 | nouakchott\n",
      "City not found. Skipping..\n",
      "Processing Record 44 of Set 11 | rosarito\n",
      "Processing Record 45 of Set 11 | saint-joseph\n",
      "Processing Record 46 of Set 11 | west wendover\n",
      "Processing Record 47 of Set 11 | hualmay\n",
      "Processing Record 48 of Set 11 | nicoya\n",
      "Processing Record 49 of Set 11 | kodinsk\n",
      "Processing Record 50 of Set 11 | mehamn\n",
      "Processing Record 2 of Set 12 | manyana\n",
      "Processing Record 3 of Set 12 | naze\n",
      "Processing Record 4 of Set 12 | istra\n",
      "City not found. Skipping..\n",
      "Processing Record 6 of Set 12 | lesosibirsk\n",
      "Processing Record 7 of Set 12 | naliya\n",
      "Processing Record 8 of Set 12 | katherine\n",
      "Processing Record 9 of Set 12 | guaratinga\n",
      "Processing Record 10 of Set 12 | chingirlau\n",
      "Processing Record 11 of Set 12 | alice springs\n",
      "Processing Record 12 of Set 12 | powell river\n",
      "Processing Record 13 of Set 12 | katsuura\n",
      "Processing Record 14 of Set 12 | bayburt\n",
      "Processing Record 15 of Set 12 | bonfim\n",
      "Processing Record 16 of Set 12 | manthani\n",
      "City not found. Skipping..\n",
      "Processing Record 18 of Set 12 | khasan\n",
      "Processing Record 19 of Set 12 | pedernales\n",
      "Processing Record 20 of Set 12 | salekhard\n",
      "Processing Record 21 of Set 12 | beloha\n",
      "Processing Record 22 of Set 12 | vredendal\n",
      "Processing Record 23 of Set 12 | ostrovnoy\n",
      "Processing Record 24 of Set 12 | lufkin\n",
      "City not found. Skipping..\n",
      "City not found. Skipping..\n",
      "Processing Record 27 of Set 12 | kananga\n",
      "Processing Record 28 of Set 12 | doha\n",
      "Processing Record 29 of Set 12 | krasnyy chikoy\n",
      "Processing Record 30 of Set 12 | anito\n",
      "Processing Record 31 of Set 12 | mackay\n",
      "Processing Record 32 of Set 12 | loutros\n",
      "Processing Record 33 of Set 12 | freeport\n",
      "Processing Record 34 of Set 12 | matara\n",
      "Processing Record 35 of Set 12 | bandarbeyla\n",
      "Processing Record 36 of Set 12 | morelia\n",
      "Processing Record 37 of Set 12 | murray bridge\n",
      "Processing Record 38 of Set 12 | sept-iles\n",
      "Processing Record 39 of Set 12 | wanaka\n",
      "Processing Record 40 of Set 12 | peoria\n",
      "Processing Record 41 of Set 12 | rio gallegos\n",
      "Processing Record 42 of Set 12 | tezu\n",
      "Processing Record 43 of Set 12 | punta alta\n",
      "Processing Record 44 of Set 12 | comodoro rivadavia\n",
      "Processing Record 45 of Set 12 | zhigansk\n",
      "Processing Record 46 of Set 12 | lichinga\n",
      "Processing Record 47 of Set 12 | nileshwar\n",
      "Processing Record 48 of Set 12 | coruripe\n",
      "Processing Record 49 of Set 12 | chern\n",
      "Processing Record 50 of Set 12 | tirano\n",
      "Processing Record 2 of Set 13 | kulunda\n",
      "Processing Record 3 of Set 13 | nador\n",
      "Processing Record 4 of Set 13 | pointe michel\n",
      "Processing Record 5 of Set 13 | lormont\n",
      "Processing Record 6 of Set 13 | batagay-alyta\n",
      "Processing Record 7 of Set 13 | marechal deodoro\n",
      "Processing Record 8 of Set 13 | nago\n",
      "Processing Record 9 of Set 13 | juterbog\n",
      "Processing Record 10 of Set 13 | te anau\n",
      "City not found. Skipping..\n",
      "Processing Record 12 of Set 13 | mwene-ditu\n",
      "Processing Record 13 of Set 13 | santa helena de goias\n",
      "Processing Record 14 of Set 13 | kenora\n",
      "Processing Record 15 of Set 13 | bambari\n",
      "Processing Record 16 of Set 13 | galeras\n",
      "Processing Record 17 of Set 13 | peniche\n",
      "Processing Record 18 of Set 13 | balad\n",
      "Processing Record 19 of Set 13 | beaverlodge\n",
      "Processing Record 20 of Set 13 | birnin kebbi\n",
      "Processing Record 21 of Set 13 | tooele\n",
      "City not found. Skipping..\n"
     ]
    },
    {
     "name": "stdout",
     "output_type": "stream",
     "text": [
      "Processing Record 23 of Set 13 | strezhevoy\n",
      "Processing Record 24 of Set 13 | batagay\n",
      "Processing Record 25 of Set 13 | straumen\n",
      "Processing Record 26 of Set 13 | marale\n",
      "End of Data Retrieval\n",
      "-----------------------------\n"
     ]
    }
   ],
   "source": [
    "#dataframe lists\n",
    "city_name_list = []\n",
    "lng_list = []\n",
    "lat_list = []\n",
    "temp_list = []\n",
    "humidity_list = []\n",
    "cloud_list = []\n",
    "wind_list = []\n",
    "country_list = []\n",
    "date_list = []\n",
    "\n",
    "\n",
    "\n",
    "#record and set number initilization\n",
    "record_num = 1\n",
    "set_num = 1\n",
    "\n",
    "\n",
    "print('Beginning Data Retrieval')\n",
    "print('-----------------------------')\n",
    "\n",
    "\n",
    "for city in cities:\n",
    "   \n",
    "    #parameters\n",
    "    params ={'location': 'en', \n",
    "             'units' : 'imperial',\n",
    "             'q' : city,\n",
    "             'APPID': weather_api_key}\n",
    "      \n",
    "    #try statement to test for each city --> appending city values if found\n",
    "    try:\n",
    "        \n",
    "        # run a request using our params dictionary\n",
    "        response = requests.get(base_url, params=params)\n",
    "        data = response.json()     \n",
    "        \n",
    "        #appending city values ti\n",
    "        lng_list.append(data['coord']['lon'])\n",
    "        lat_list.append(data['coord']['lat'])\n",
    "        temp_list.append(data['main']['temp'])\n",
    "        humidity_list.append(data['main']['humidity'])\n",
    "        cloud_list.append(data['clouds']['all'])\n",
    "        wind_list.append(data['wind']['speed'])\n",
    "        city_name_list.append(data['name'])\n",
    "        date_list.append(data['dt']) \n",
    "        country_list.append(data['sys']['country']) \n",
    "        \n",
    "        print(f'Processing Record {record_num} of Set {set_num} | {city}')  \n",
    "    \n",
    "    except KeyError:\n",
    "        print(\"City not found. Skipping..\")\n",
    "    \n",
    "    # Setting Api call limt to 50 per set\n",
    "    if record_num == 50:\n",
    "            set_num += 1\n",
    "            record_num = 1\n",
    "    \n",
    "    record_num += 1\n",
    "        \n",
    "print('End of Data Retrieval')\n",
    "print('-----------------------------')\n",
    "    "
   ]
  },
  {
   "cell_type": "markdown",
   "metadata": {},
   "source": [
    "### Convert Raw Data to DataFrame\n"
   ]
  },
  {
   "cell_type": "code",
   "execution_count": 6,
   "metadata": {},
   "outputs": [
    {
     "data": {
      "text/html": [
       "<div>\n",
       "<style scoped>\n",
       "    .dataframe tbody tr th:only-of-type {\n",
       "        vertical-align: middle;\n",
       "    }\n",
       "\n",
       "    .dataframe tbody tr th {\n",
       "        vertical-align: top;\n",
       "    }\n",
       "\n",
       "    .dataframe thead th {\n",
       "        text-align: right;\n",
       "    }\n",
       "</style>\n",
       "<table border=\"1\" class=\"dataframe\">\n",
       "  <thead>\n",
       "    <tr style=\"text-align: right;\">\n",
       "      <th></th>\n",
       "      <th>City</th>\n",
       "      <th>Lat</th>\n",
       "      <th>Lng</th>\n",
       "      <th>Max Temp</th>\n",
       "      <th>Humidity</th>\n",
       "      <th>Cloudiness</th>\n",
       "      <th>Wind Speed</th>\n",
       "      <th>Country</th>\n",
       "      <th>Date</th>\n",
       "    </tr>\n",
       "  </thead>\n",
       "  <tbody>\n",
       "    <tr>\n",
       "      <th>0</th>\n",
       "      <td>Port Shepstone</td>\n",
       "      <td>-30.74</td>\n",
       "      <td>30.45</td>\n",
       "      <td>69.76</td>\n",
       "      <td>83</td>\n",
       "      <td>99</td>\n",
       "      <td>11.14</td>\n",
       "      <td>ZA</td>\n",
       "      <td>1603846471</td>\n",
       "    </tr>\n",
       "    <tr>\n",
       "      <th>1</th>\n",
       "      <td>Basco</td>\n",
       "      <td>20.45</td>\n",
       "      <td>121.97</td>\n",
       "      <td>81.68</td>\n",
       "      <td>83</td>\n",
       "      <td>100</td>\n",
       "      <td>23.09</td>\n",
       "      <td>PH</td>\n",
       "      <td>1603846471</td>\n",
       "    </tr>\n",
       "    <tr>\n",
       "      <th>2</th>\n",
       "      <td>Hermanus</td>\n",
       "      <td>-34.42</td>\n",
       "      <td>19.23</td>\n",
       "      <td>60.01</td>\n",
       "      <td>92</td>\n",
       "      <td>100</td>\n",
       "      <td>1.01</td>\n",
       "      <td>ZA</td>\n",
       "      <td>1603846471</td>\n",
       "    </tr>\n",
       "    <tr>\n",
       "      <th>3</th>\n",
       "      <td>Thinadhoo</td>\n",
       "      <td>0.53</td>\n",
       "      <td>72.93</td>\n",
       "      <td>83.73</td>\n",
       "      <td>67</td>\n",
       "      <td>41</td>\n",
       "      <td>11.56</td>\n",
       "      <td>MV</td>\n",
       "      <td>1603846471</td>\n",
       "    </tr>\n",
       "    <tr>\n",
       "      <th>4</th>\n",
       "      <td>Grevená</td>\n",
       "      <td>40.08</td>\n",
       "      <td>21.43</td>\n",
       "      <td>46.56</td>\n",
       "      <td>81</td>\n",
       "      <td>100</td>\n",
       "      <td>4.70</td>\n",
       "      <td>GR</td>\n",
       "      <td>1603846471</td>\n",
       "    </tr>\n",
       "    <tr>\n",
       "      <th>...</th>\n",
       "      <td>...</td>\n",
       "      <td>...</td>\n",
       "      <td>...</td>\n",
       "      <td>...</td>\n",
       "      <td>...</td>\n",
       "      <td>...</td>\n",
       "      <td>...</td>\n",
       "      <td>...</td>\n",
       "      <td>...</td>\n",
       "    </tr>\n",
       "    <tr>\n",
       "      <th>557</th>\n",
       "      <td>Tooele</td>\n",
       "      <td>40.53</td>\n",
       "      <td>-112.30</td>\n",
       "      <td>41.36</td>\n",
       "      <td>48</td>\n",
       "      <td>1</td>\n",
       "      <td>3.36</td>\n",
       "      <td>US</td>\n",
       "      <td>1603846576</td>\n",
       "    </tr>\n",
       "    <tr>\n",
       "      <th>558</th>\n",
       "      <td>Strezhevoy</td>\n",
       "      <td>60.73</td>\n",
       "      <td>77.59</td>\n",
       "      <td>10.40</td>\n",
       "      <td>85</td>\n",
       "      <td>20</td>\n",
       "      <td>6.71</td>\n",
       "      <td>RU</td>\n",
       "      <td>1603846576</td>\n",
       "    </tr>\n",
       "    <tr>\n",
       "      <th>559</th>\n",
       "      <td>Batagay</td>\n",
       "      <td>67.63</td>\n",
       "      <td>134.63</td>\n",
       "      <td>5.65</td>\n",
       "      <td>93</td>\n",
       "      <td>90</td>\n",
       "      <td>1.90</td>\n",
       "      <td>RU</td>\n",
       "      <td>1603846577</td>\n",
       "    </tr>\n",
       "    <tr>\n",
       "      <th>560</th>\n",
       "      <td>Straumen</td>\n",
       "      <td>63.87</td>\n",
       "      <td>11.30</td>\n",
       "      <td>37.94</td>\n",
       "      <td>93</td>\n",
       "      <td>0</td>\n",
       "      <td>8.05</td>\n",
       "      <td>NO</td>\n",
       "      <td>1603846577</td>\n",
       "    </tr>\n",
       "    <tr>\n",
       "      <th>561</th>\n",
       "      <td>Marale</td>\n",
       "      <td>14.88</td>\n",
       "      <td>-87.15</td>\n",
       "      <td>71.04</td>\n",
       "      <td>87</td>\n",
       "      <td>100</td>\n",
       "      <td>2.53</td>\n",
       "      <td>HN</td>\n",
       "      <td>1603846577</td>\n",
       "    </tr>\n",
       "  </tbody>\n",
       "</table>\n",
       "<p>562 rows × 9 columns</p>\n",
       "</div>"
      ],
      "text/plain": [
       "               City    Lat     Lng  Max Temp  Humidity  Cloudiness  \\\n",
       "0    Port Shepstone -30.74   30.45     69.76        83          99   \n",
       "1             Basco  20.45  121.97     81.68        83         100   \n",
       "2          Hermanus -34.42   19.23     60.01        92         100   \n",
       "3         Thinadhoo   0.53   72.93     83.73        67          41   \n",
       "4           Grevená  40.08   21.43     46.56        81         100   \n",
       "..              ...    ...     ...       ...       ...         ...   \n",
       "557          Tooele  40.53 -112.30     41.36        48           1   \n",
       "558      Strezhevoy  60.73   77.59     10.40        85          20   \n",
       "559         Batagay  67.63  134.63      5.65        93          90   \n",
       "560        Straumen  63.87   11.30     37.94        93           0   \n",
       "561          Marale  14.88  -87.15     71.04        87         100   \n",
       "\n",
       "     Wind Speed Country        Date  \n",
       "0         11.14      ZA  1603846471  \n",
       "1         23.09      PH  1603846471  \n",
       "2          1.01      ZA  1603846471  \n",
       "3         11.56      MV  1603846471  \n",
       "4          4.70      GR  1603846471  \n",
       "..          ...     ...         ...  \n",
       "557        3.36      US  1603846576  \n",
       "558        6.71      RU  1603846576  \n",
       "559        1.90      RU  1603846577  \n",
       "560        8.05      NO  1603846577  \n",
       "561        2.53      HN  1603846577  \n",
       "\n",
       "[562 rows x 9 columns]"
      ]
     },
     "execution_count": 6,
     "metadata": {},
     "output_type": "execute_result"
    }
   ],
   "source": [
    "# set up additional columns to hold information\n",
    "weather_df = pd.DataFrame({'City' : city_name_list,\n",
    "                           'Lat' : lat_list,\n",
    "                           'Lng' : lng_list,\n",
    "                           'Max Temp' : temp_list,\n",
    "                           'Humidity' : humidity_list,\n",
    "                           'Cloudiness' : cloud_list,\n",
    "                           'Wind Speed' : wind_list,\n",
    "                           'Country' : country_list,\n",
    "                           'Date' : date_list})\n",
    "\n",
    "weather_df"
   ]
  },
  {
   "cell_type": "markdown",
   "metadata": {},
   "source": [
    "## Exporting to CSV File"
   ]
  },
  {
   "cell_type": "code",
   "execution_count": 7,
   "metadata": {},
   "outputs": [],
   "source": [
    "# Output File (CSV)\n",
    "weather_df.to_csv(\"output_data/weatherpy/cities.csv\", index=False, encoding='utf-8')"
   ]
  },
  {
   "cell_type": "markdown",
   "metadata": {},
   "source": [
    "## Inspect the data and remove the cities where the humidity > 100%.\n",
    "     Skip this step if there are no cities that have humidity > 100%. "
   ]
  },
  {
   "cell_type": "code",
   "execution_count": 8,
   "metadata": {},
   "outputs": [
    {
     "data": {
      "text/plain": [
       "City          562\n",
       "Lat           562\n",
       "Lng           562\n",
       "Max Temp      562\n",
       "Humidity      562\n",
       "Cloudiness    562\n",
       "Wind Speed    562\n",
       "Country       562\n",
       "Date          562\n",
       "dtype: int64"
      ]
     },
     "execution_count": 8,
     "metadata": {},
     "output_type": "execute_result"
    }
   ],
   "source": [
    "#checking dataframe count\n",
    "weather_df.count()"
   ]
  },
  {
   "cell_type": "code",
   "execution_count": 9,
   "metadata": {},
   "outputs": [
    {
     "name": "stdout",
     "output_type": "stream",
     "text": [
      "[0      False\n",
      "1      False\n",
      "2      False\n",
      "3      False\n",
      "4      False\n",
      "       ...  \n",
      "557    False\n",
      "558    False\n",
      "559    False\n",
      "560    False\n",
      "561    False\n",
      "Name: Humidity, Length: 562, dtype: bool]\n"
     ]
    }
   ],
   "source": [
    "#checking to see if any \"Humidity\" rows are greater than 100 \n",
    "print([weather_df['Humidity'] > 100])"
   ]
  },
  {
   "cell_type": "markdown",
   "metadata": {},
   "source": [
    "--> step skipped since no cities over 100% humidity"
   ]
  },
  {
   "cell_type": "code",
   "execution_count": 10,
   "metadata": {},
   "outputs": [
    {
     "data": {
      "text/html": [
       "<div>\n",
       "<style scoped>\n",
       "    .dataframe tbody tr th:only-of-type {\n",
       "        vertical-align: middle;\n",
       "    }\n",
       "\n",
       "    .dataframe tbody tr th {\n",
       "        vertical-align: top;\n",
       "    }\n",
       "\n",
       "    .dataframe thead th {\n",
       "        text-align: right;\n",
       "    }\n",
       "</style>\n",
       "<table border=\"1\" class=\"dataframe\">\n",
       "  <thead>\n",
       "    <tr style=\"text-align: right;\">\n",
       "      <th></th>\n",
       "      <th>Lat</th>\n",
       "      <th>Lng</th>\n",
       "      <th>Max Temp</th>\n",
       "      <th>Humidity</th>\n",
       "      <th>Cloudiness</th>\n",
       "      <th>Wind Speed</th>\n",
       "      <th>Date</th>\n",
       "    </tr>\n",
       "  </thead>\n",
       "  <tbody>\n",
       "    <tr>\n",
       "      <th>count</th>\n",
       "      <td>562.000000</td>\n",
       "      <td>562.000000</td>\n",
       "      <td>562.000000</td>\n",
       "      <td>562.000000</td>\n",
       "      <td>562.000000</td>\n",
       "      <td>562.000000</td>\n",
       "      <td>5.620000e+02</td>\n",
       "    </tr>\n",
       "    <tr>\n",
       "      <th>mean</th>\n",
       "      <td>20.319075</td>\n",
       "      <td>13.413149</td>\n",
       "      <td>57.056352</td>\n",
       "      <td>75.008897</td>\n",
       "      <td>54.051601</td>\n",
       "      <td>7.486228</td>\n",
       "      <td>1.603846e+09</td>\n",
       "    </tr>\n",
       "    <tr>\n",
       "      <th>std</th>\n",
       "      <td>32.888850</td>\n",
       "      <td>92.865562</td>\n",
       "      <td>21.624531</td>\n",
       "      <td>19.308037</td>\n",
       "      <td>41.806479</td>\n",
       "      <td>5.685240</td>\n",
       "      <td>9.119397e+01</td>\n",
       "    </tr>\n",
       "    <tr>\n",
       "      <th>min</th>\n",
       "      <td>-54.800000</td>\n",
       "      <td>-175.200000</td>\n",
       "      <td>-11.560000</td>\n",
       "      <td>1.000000</td>\n",
       "      <td>0.000000</td>\n",
       "      <td>0.110000</td>\n",
       "      <td>1.603846e+09</td>\n",
       "    </tr>\n",
       "    <tr>\n",
       "      <th>25%</th>\n",
       "      <td>-6.302500</td>\n",
       "      <td>-69.325000</td>\n",
       "      <td>41.790000</td>\n",
       "      <td>66.000000</td>\n",
       "      <td>1.000000</td>\n",
       "      <td>3.365000</td>\n",
       "      <td>1.603846e+09</td>\n",
       "    </tr>\n",
       "    <tr>\n",
       "      <th>50%</th>\n",
       "      <td>26.735000</td>\n",
       "      <td>15.880000</td>\n",
       "      <td>62.395000</td>\n",
       "      <td>80.000000</td>\n",
       "      <td>75.000000</td>\n",
       "      <td>5.820000</td>\n",
       "      <td>1.603847e+09</td>\n",
       "    </tr>\n",
       "    <tr>\n",
       "      <th>75%</th>\n",
       "      <td>46.552500</td>\n",
       "      <td>96.160000</td>\n",
       "      <td>74.925000</td>\n",
       "      <td>89.000000</td>\n",
       "      <td>97.000000</td>\n",
       "      <td>10.000000</td>\n",
       "      <td>1.603847e+09</td>\n",
       "    </tr>\n",
       "    <tr>\n",
       "      <th>max</th>\n",
       "      <td>78.220000</td>\n",
       "      <td>179.320000</td>\n",
       "      <td>90.840000</td>\n",
       "      <td>100.000000</td>\n",
       "      <td>100.000000</td>\n",
       "      <td>54.270000</td>\n",
       "      <td>1.603847e+09</td>\n",
       "    </tr>\n",
       "  </tbody>\n",
       "</table>\n",
       "</div>"
      ],
      "text/plain": [
       "              Lat         Lng    Max Temp    Humidity  Cloudiness  Wind Speed  \\\n",
       "count  562.000000  562.000000  562.000000  562.000000  562.000000  562.000000   \n",
       "mean    20.319075   13.413149   57.056352   75.008897   54.051601    7.486228   \n",
       "std     32.888850   92.865562   21.624531   19.308037   41.806479    5.685240   \n",
       "min    -54.800000 -175.200000  -11.560000    1.000000    0.000000    0.110000   \n",
       "25%     -6.302500  -69.325000   41.790000   66.000000    1.000000    3.365000   \n",
       "50%     26.735000   15.880000   62.395000   80.000000   75.000000    5.820000   \n",
       "75%     46.552500   96.160000   74.925000   89.000000   97.000000   10.000000   \n",
       "max     78.220000  179.320000   90.840000  100.000000  100.000000   54.270000   \n",
       "\n",
       "               Date  \n",
       "count  5.620000e+02  \n",
       "mean   1.603846e+09  \n",
       "std    9.119397e+01  \n",
       "min    1.603846e+09  \n",
       "25%    1.603846e+09  \n",
       "50%    1.603847e+09  \n",
       "75%    1.603847e+09  \n",
       "max    1.603847e+09  "
      ]
     },
     "execution_count": 10,
     "metadata": {},
     "output_type": "execute_result"
    }
   ],
   "source": [
    "#statics table\n",
    "weather_df[['Lat', 'Lng', 'Max Temp', 'Humidity', 'Cloudiness', 'Wind Speed', 'Country', 'Date']].describe()"
   ]
  },
  {
   "cell_type": "markdown",
   "metadata": {},
   "source": [
    "## Plotting the Data\n"
   ]
  },
  {
   "cell_type": "markdown",
   "metadata": {},
   "source": [
    "## Latitude vs. Temperature Plot"
   ]
  },
  {
   "cell_type": "code",
   "execution_count": 11,
   "metadata": {},
   "outputs": [
    {
     "data": {
      "image/png": "[encoded data removed]",
      "text/plain": [
       "<Figure size 432x288 with 1 Axes>"
      ]
     },
     "metadata": {
      "needs_background": "light"
     },
     "output_type": "display_data"
    },
    {
     "name": "stdout",
     "output_type": "stream",
     "text": [
      "This plot shows that the further you move away from the equator (Lat:0) the colder it gets\n"
     ]
    }
   ],
   "source": [
    "#Scatterplot\n",
    "plt.scatter(weather_df['Lat'], weather_df['Max Temp'], marker = \"o\")\n",
    "\n",
    "#labeling\n",
    "plt.title(f'City Latitude vs. Max Temperature ({time.strftime(\"%m-%d-%Y\")})')\n",
    "plt.xlabel('Latitude')\n",
    "plt.ylabel('Max Temperature (F)')\n",
    "plt.grid(True)\n",
    "\n",
    "#exporting plot as png\n",
    "plt.savefig(\"output_data/weatherpy/ fig 1 - Latitude_V_Temperature.png\")\n",
    "\n",
    "#printing\n",
    "plt.show()\n",
    "print('This plot shows that the further you move away from the equator (Lat:0) the colder it gets')"
   ]
  },
  {
   "cell_type": "markdown",
   "metadata": {},
   "source": [
    "# Using a function to plot remaining plots"
   ]
  },
  {
   "cell_type": "code",
   "execution_count": 12,
   "metadata": {},
   "outputs": [],
   "source": [
    "#using a function to plot scatter plots\n",
    "\n",
    "def plotting_data(x_axis, y_axis, x_lab, y_lab, title, savename):\n",
    "    \n",
    "    #scatterplot\n",
    "    plt.scatter(x_axis, y_axis, marker = \"o\")\n",
    "    plt.grid(True)\n",
    "\n",
    "    #labeling\n",
    "    plt.title(title)\n",
    "    plt.xlabel(x_lab)\n",
    "    plt.ylabel(y_lab)\n",
    "    \n",
    "    #sizing\n",
    "    plt.tight_layout\n",
    "    \n",
    "    \n",
    "    #exporting plot as png\n",
    "    plt.savefig(f\"output_data/weatherpy/{savename}.png\")\n",
    "    \n",
    "    #printing\n",
    "    plt.show()  \n",
    "    "
   ]
  },
  {
   "cell_type": "markdown",
   "metadata": {},
   "source": [
    "## Latitude vs. Humidity Plot"
   ]
  },
  {
   "cell_type": "code",
   "execution_count": 13,
   "metadata": {},
   "outputs": [
    {
     "data": {
      "image/png": "[encoded data removed]",
      "text/plain": [
       "<Figure size 432x288 with 1 Axes>"
      ]
     },
     "metadata": {
      "needs_background": "light"
     },
     "output_type": "display_data"
    },
    {
     "name": "stdout",
     "output_type": "stream",
     "text": [
      "This plot does not show a relationship pattern between latitude and humidity\n"
     ]
    }
   ],
   "source": [
    "#labeling\n",
    "x_lab = 'Latitude'\n",
    "y_lab = 'Humidity (%)'\n",
    "title = f'City Latitude vs. Humidity ({time.strftime(\"%m-%d-%Y\")})'\n",
    "\n",
    "#saving\n",
    "savename = 'fig 2 - Latitude_V_Humidity'\n",
    "\n",
    "#function\n",
    "plotting_data(weather_df['Lat'], weather_df['Humidity'], x_lab, y_lab, title, savename)\n",
    "\n",
    "print('This plot does not show a relationship pattern between latitude and humidity')"
   ]
  },
  {
   "cell_type": "markdown",
   "metadata": {},
   "source": [
    "## Latitude vs. Cloudiness Plot"
   ]
  },
  {
   "cell_type": "code",
   "execution_count": 14,
   "metadata": {},
   "outputs": [
    {
     "data": {
      "image/png": "[encoded data removed]",
      "text/plain": [
       "<Figure size 432x288 with 1 Axes>"
      ]
     },
     "metadata": {
      "needs_background": "light"
     },
     "output_type": "display_data"
    },
    {
     "name": "stdout",
     "output_type": "stream",
     "text": [
      "This plot does not show a relationship pattern between latitude and cloudiness\n"
     ]
    }
   ],
   "source": [
    "#labeling\n",
    "x_lab = 'Latitude'\n",
    "y_lab = 'Cloudiness (%)'\n",
    "title = f'City Latitude vs. Cloudiness ({time.strftime(\"%m-%d-%Y\")})'\n",
    "\n",
    "#saving\n",
    "savename = 'fig 3 - Latitude_V_Cloudiness'\n",
    "\n",
    "#function\n",
    "plotting_data(weather_df['Lat'], weather_df['Cloudiness'], x_lab, y_lab, title, savename)\n",
    "\n",
    "print('This plot does not show a relationship pattern between latitude and cloudiness')"
   ]
  },
  {
   "cell_type": "markdown",
   "metadata": {},
   "source": [
    "## Latitude vs. Wind Speed Plot"
   ]
  },
  {
   "cell_type": "code",
   "execution_count": 15,
   "metadata": {},
   "outputs": [
    {
     "data": {
      "image/png": "[encoded data removed]",
      "text/plain": [
       "<Figure size 432x288 with 1 Axes>"
      ]
     },
     "metadata": {
      "needs_background": "light"
     },
     "output_type": "display_data"
    },
    {
     "name": "stdout",
     "output_type": "stream",
     "text": [
      "This plot does not show a relationship pattern between latitude and cloudiness\n"
     ]
    }
   ],
   "source": [
    "#labeling\n",
    "x_lab = 'Latitude'\n",
    "y_lab = 'wind Speed (mph)'\n",
    "title = f'City Latitude vs. Wind Speed ({time.strftime(\"%m-%d-%Y\")})'\n",
    "\n",
    "#saving\n",
    "savename = 'fig 4 - Latitude_V_Wind_speed'\n",
    "\n",
    "#function\n",
    "plotting_data(weather_df['Lat'], weather_df['Wind Speed'], x_lab, y_lab, title, savename)\n",
    "\n",
    "print('This plot does not show a relationship pattern between latitude and cloudiness')"
   ]
  },
  {
   "cell_type": "markdown",
   "metadata": {},
   "source": [
    "## Linear Regression"
   ]
  },
  {
   "cell_type": "code",
   "execution_count": 16,
   "metadata": {},
   "outputs": [],
   "source": [
    "#finding Northern and southern cities based on Latitude\n",
    "northern_cities = weather_df.loc[weather_df['Lat'] > 0.00]\n",
    "southern_cities = weather_df.loc[weather_df['Lat'] < 0.00]\n",
    "\n",
    "#resetting their indexes\n",
    "northern_cities.reset_index(inplace = True)\n",
    "southern_cities.reset_index(inplace = True)\n"
   ]
  },
  {
   "cell_type": "markdown",
   "metadata": {},
   "source": [
    "####  Northern Hemisphere - Max Temp vs. Latitude Linear Regression"
   ]
  },
  {
   "cell_type": "code",
   "execution_count": 17,
   "metadata": {},
   "outputs": [
    {
     "name": "stdout",
     "output_type": "stream",
     "text": [
      "The r-Value is: -0.880191617138102\n"
     ]
    },
    {
     "data": {
      "image/png": "[encoded data removed]",
      "text/plain": [
       "<Figure size 432x288 with 1 Axes>"
      ]
     },
     "metadata": {
      "needs_background": "light"
     },
     "output_type": "display_data"
    },
    {
     "name": "stdout",
     "output_type": "stream",
     "text": [
      "Linear Regression = Negative Correlation\n",
      "As you move away from the Equator (Lat:0), the Temperature drops in the northern hemisphere cities.\n"
     ]
    }
   ],
   "source": [
    "#Scatterplot\n",
    "plt.scatter(northern_cities['Lat'], northern_cities['Max Temp'], marker = \"o\")\n",
    "\n",
    "#labeling\n",
    "plt.title(f'City Latitude vs. Max Temperature ({time.strftime(\"%m-%d-%Y\")})')\n",
    "plt.xlabel('Latitude')\n",
    "plt.ylabel('Max Temperature (F)')\n",
    "\n",
    "#linear Regression\n",
    "(slope, intercept, rvalue, pvalue, std_err) = linregress(northern_cities['Lat'], northern_cities['Max Temp'])\n",
    "\n",
    "#line formula --> y=mx+b\n",
    "reg_val = northern_cities['Lat'] * slope + intercept\n",
    "lineeq = f'y = {round(slope,2)}x + {round(intercept,2)}'\n",
    "\n",
    "#line plotting\n",
    "plt.plot(northern_cities['Lat'], reg_val, color='r')\n",
    "plt.annotate(lineeq, (5,20), color='red', fontsize=16)\n",
    "\n",
    "#exporting plot as png\n",
    "plt.savefig(\"output_data/weatherpy/fig 5 - LinearREG-Lat_V_Temp - North.png\")\n",
    "\n",
    "#printing\n",
    "print(f'The r-Value is: {rvalue}')\n",
    "plt.show()\n",
    "\n",
    "#conclusions\n",
    "print('Linear Regression = Negative Correlation')\n",
    "print('As you move away from the Equator (Lat:0), the Temperature drops in the northern hemisphere cities.')"
   ]
  },
  {
   "cell_type": "markdown",
   "metadata": {},
   "source": [
    "# Using a function to plot remaining plots"
   ]
  },
  {
   "cell_type": "code",
   "execution_count": 18,
   "metadata": {},
   "outputs": [],
   "source": [
    "#using a function to plot scatter plots with linear regression\n",
    "\n",
    "def line_reg_plotting(x_axis, y_axis, x_lab, y_lab, title, savename,linepos):\n",
    "    \n",
    "    #linear Regression\n",
    "    (slope, intercept, rvalue, pvalue, std_err) = linregress(x_axis, y_axis)\n",
    "    \n",
    "    #line formula --> y=mx+b\n",
    "    reg_val = x_axis * slope + intercept\n",
    "    lineeq = f'y = {round(slope,2)}x + {round(intercept,2)}'\n",
    "    \n",
    "    #scatterplot and lineplot\n",
    "    plt.scatter(x_axis, y_axis, marker = \"o\")\n",
    "    plt.plot(x_axis, reg_val, color='r')\n",
    "    plt.annotate(lineeq, linepos, color='red',fontsize = 16)\n",
    "    \n",
    "    \n",
    "    #labeling\n",
    "    plt.title(title)\n",
    "    plt.xlabel(x_lab)\n",
    "    plt.ylabel(y_lab)\n",
    "    \n",
    "    #exporting plot as png\n",
    "    plt.savefig(f\"output_data/weatherpy/{savename}.png\")\n",
    "    \n",
    "    #printing\n",
    "    print(f'The r-Value is: {rvalue}')\n",
    "    plt.show()  \n",
    "    \n"
   ]
  },
  {
   "cell_type": "markdown",
   "metadata": {},
   "source": [
    "####  Southern Hemisphere - Max Temp vs. Latitude Linear Regression"
   ]
  },
  {
   "cell_type": "code",
   "execution_count": 19,
   "metadata": {},
   "outputs": [
    {
     "name": "stdout",
     "output_type": "stream",
     "text": [
      "The r-Value is: 0.7371860270173846\n"
     ]
    },
    {
     "data": {
      "image/png": "[encoded data removed]",
      "text/plain": [
       "<Figure size 432x288 with 1 Axes>"
      ]
     },
     "metadata": {
      "needs_background": "light"
     },
     "output_type": "display_data"
    },
    {
     "name": "stdout",
     "output_type": "stream",
     "text": [
      "Linear Regression = Positive Correlation\n",
      "As you move towards the Equator (Lat:0), the temperature rises in the southern hemisphere cities.\n"
     ]
    }
   ],
   "source": [
    "#labeling\n",
    "x_lab = 'Latitude'\n",
    "y_lab = 'Max Temperature (F)'\n",
    "title = f'City Latitude vs. Max Temperature ({time.strftime(\"%m-%d-%Y\")})'\n",
    "\n",
    "#saving\n",
    "savename = 'fig 6 - LinearREG-Lat_V_Temp - South.png'\n",
    "\n",
    "#line equation position\n",
    "linepos = (-55,90)\n",
    "\n",
    "#function\n",
    "line_reg_plotting(southern_cities['Lat'], southern_cities['Max Temp'], x_lab, y_lab, title, savename,linepos)  \n",
    "\n",
    "#conclusions\n",
    "print('Linear Regression = Positive Correlation')\n",
    "print('As you move towards the Equator (Lat:0), the temperature rises in the southern hemisphere cities.')\n"
   ]
  },
  {
   "cell_type": "markdown",
   "metadata": {},
   "source": [
    "####  Northern Hemisphere - Humidity (%) vs. Latitude Linear Regression"
   ]
  },
  {
   "cell_type": "code",
   "execution_count": 20,
   "metadata": {},
   "outputs": [
    {
     "name": "stdout",
     "output_type": "stream",
     "text": [
      "The r-Value is: 0.20296456485434294\n"
     ]
    },
    {
     "data": {
      "image/png": "[encoded data removed]",
      "text/plain": [
       "<Figure size 432x288 with 1 Axes>"
      ]
     },
     "metadata": {
      "needs_background": "light"
     },
     "output_type": "display_data"
    },
    {
     "name": "stdout",
     "output_type": "stream",
     "text": [
      "Linear Regression = slightly positive Correlation\n",
      "No real correlation relationship can be inferred from this dataset\n"
     ]
    }
   ],
   "source": [
    "#labeling\n",
    "x_lab = 'Latitude'\n",
    "y_lab = 'Humidity'\n",
    "title = f'City Latitude vs. Humidity ({time.strftime(\"%m-%d-%Y\")})'\n",
    "\n",
    "#saving\n",
    "savename = 'fig 7 - LinearREG-Lat_V_Humid - North.png'\n",
    "\n",
    "#line equation position\n",
    "linepos = (40,10)\n",
    "\n",
    "#labeling #saving #line equation position #function\n",
    "line_reg_plotting(northern_cities['Lat'], northern_cities['Humidity'], x_lab, y_lab, title, savename, linepos)  \n",
    "    \n",
    "#conclusions\n",
    "print('Linear Regression = slightly positive Correlation')\n",
    "print('No real correlation relationship can be inferred from this dataset')"
   ]
  },
  {
   "cell_type": "markdown",
   "metadata": {},
   "source": [
    "####  Southern Hemisphere - Humidity (%) vs. Latitude Linear Regression"
   ]
  },
  {
   "cell_type": "code",
   "execution_count": 21,
   "metadata": {},
   "outputs": [
    {
     "name": "stdout",
     "output_type": "stream",
     "text": [
      "The r-Value is: 0.2690275801098612\n"
     ]
    },
    {
     "data": {
      "image/png": "[encoded data removed]",
      "text/plain": [
       "<Figure size 432x288 with 1 Axes>"
      ]
     },
     "metadata": {
      "needs_background": "light"
     },
     "output_type": "display_data"
    },
    {
     "name": "stdout",
     "output_type": "stream",
     "text": [
      "Linear Regression = slightly negative Correlation\n",
      "No real correlation relationship can be inferred from this dataset\n"
     ]
    }
   ],
   "source": [
    "#labeling\n",
    "x_lab = 'Latitude'\n",
    "y_lab = 'Humidity'\n",
    "title = f'City Latitude vs. Humidity ({time.strftime(\"%m-%d-%Y\")})'\n",
    "\n",
    "#saving\n",
    "savename = 'fig 8 - LinearREG-Lat_V_Humid - South.png'\n",
    "\n",
    "#line equation position\n",
    "linepos = (-55,10)\n",
    "\n",
    "#function\n",
    "line_reg_plotting(southern_cities['Lat'], southern_cities['Humidity'], x_lab, y_lab, title, savename, linepos)  \n",
    "\n",
    "#conclusions\n",
    "print('Linear Regression = slightly negative Correlation')\n",
    "print('No real correlation relationship can be inferred from this dataset')"
   ]
  },
  {
   "cell_type": "markdown",
   "metadata": {},
   "source": [
    "####  Northern Hemisphere - Cloudiness (%) vs. Latitude Linear Regression"
   ]
  },
  {
   "cell_type": "code",
   "execution_count": 22,
   "metadata": {},
   "outputs": [
    {
     "name": "stdout",
     "output_type": "stream",
     "text": [
      "The r-Value is: 0.06031532555286316\n"
     ]
    },
    {
     "data": {
      "image/png": "[encoded data removed]",
      "text/plain": [
       "<Figure size 432x288 with 1 Axes>"
      ]
     },
     "metadata": {
      "needs_background": "light"
     },
     "output_type": "display_data"
    },
    {
     "name": "stdout",
     "output_type": "stream",
     "text": [
      "Linear Regression = slightly positive Correlation\n",
      "No real correlation relationship can be inferred from this dataset\n"
     ]
    }
   ],
   "source": [
    "#labeling\n",
    "x_lab = 'Latitude'\n",
    "y_lab = 'Cloudiness'\n",
    "title = f'City Latitude vs. Cloudiness ({time.strftime(\"%m-%d-%Y\")})'\n",
    "\n",
    "#saving\n",
    "savename = 'fig 9 - LinearREG-Lat_V_Cloud - North.png'\n",
    "\n",
    "#line equation position\n",
    "linepos = (15,30)\n",
    "\n",
    "#function\n",
    "line_reg_plotting(northern_cities['Lat'], northern_cities['Cloudiness'], x_lab, y_lab, title, savename, linepos)  \n",
    "\n",
    "#conclusions\n",
    "print('Linear Regression = slightly positive Correlation')\n",
    "print('No real correlation relationship can be inferred from this dataset')"
   ]
  },
  {
   "cell_type": "markdown",
   "metadata": {},
   "source": [
    "####  Southern Hemisphere - Cloudiness (%) vs. Latitude Linear Regression"
   ]
  },
  {
   "cell_type": "code",
   "execution_count": 23,
   "metadata": {},
   "outputs": [
    {
     "name": "stdout",
     "output_type": "stream",
     "text": [
      "The r-Value is: 0.11272151260279882\n"
     ]
    },
    {
     "data": {
      "image/png": "[encoded data removed]",
      "text/plain": [
       "<Figure size 432x288 with 1 Axes>"
      ]
     },
     "metadata": {
      "needs_background": "light"
     },
     "output_type": "display_data"
    },
    {
     "name": "stdout",
     "output_type": "stream",
     "text": [
      "Linear Regression = slightly positive Correlation\n",
      "No real correlation relationship can be inferred from this dataset\n"
     ]
    }
   ],
   "source": [
    "#labeling\n",
    "x_lab = 'Latitude'\n",
    "y_lab = 'Cloudiness'\n",
    "title = f'City Latitude vs. Cloudiness ({time.strftime(\"%m-%d-%Y\")})'\n",
    "\n",
    "#saving\n",
    "savename = 'fig 10 - LinearREG-Lat_V_Cloud - South.png'\n",
    "\n",
    "#line equation position\n",
    "linepos = (-55,30)\n",
    "\n",
    "#function\n",
    "line_reg_plotting(southern_cities['Lat'], southern_cities['Cloudiness'], x_lab, y_lab, title, savename, linepos)  \n",
    "\n",
    "#conclusions\n",
    "print('Linear Regression = slightly positive Correlation')\n",
    "print('No real correlation relationship can be inferred from this dataset')"
   ]
  },
  {
   "cell_type": "markdown",
   "metadata": {},
   "source": [
    "####  Northern Hemisphere - Wind Speed (mph) vs. Latitude Linear Regression"
   ]
  },
  {
   "cell_type": "code",
   "execution_count": 24,
   "metadata": {},
   "outputs": [
    {
     "name": "stdout",
     "output_type": "stream",
     "text": [
      "The r-Value is: 0.11777769931603001\n"
     ]
    },
    {
     "data": {
      "image/png": "[encoded data removed]",
      "text/plain": [
       "<Figure size 432x288 with 1 Axes>"
      ]
     },
     "metadata": {
      "needs_background": "light"
     },
     "output_type": "display_data"
    },
    {
     "name": "stdout",
     "output_type": "stream",
     "text": [
      "Linear Regression = slightly positive Correlation\n",
      "No real correlation relationship can be inferred from this dataset\n"
     ]
    }
   ],
   "source": [
    "#labeling\n",
    "x_lab = 'Latitude'\n",
    "y_lab = 'Wind Speed'\n",
    "title = f'City Latitude vs. Wind Speed ({time.strftime(\"%m-%d-%Y\")})'\n",
    "\n",
    "#saving\n",
    "savename = 'fig 11 - LinearREG-Lat_V_Wind - North.png'\n",
    "\n",
    "#line equation position\n",
    "linepos = (15,30)\n",
    "\n",
    "#function\n",
    "line_reg_plotting(northern_cities['Lat'], northern_cities['Wind Speed'], x_lab, y_lab, title, savename, linepos)  \n",
    "\n",
    "#conclusions\n",
    "print('Linear Regression = slightly positive Correlation')\n",
    "print('No real correlation relationship can be inferred from this dataset')"
   ]
  },
  {
   "cell_type": "markdown",
   "metadata": {},
   "source": [
    "####  Southern Hemisphere - Wind Speed (mph) vs. Latitude Linear Regression"
   ]
  },
  {
   "cell_type": "code",
   "execution_count": 25,
   "metadata": {},
   "outputs": [
    {
     "name": "stdout",
     "output_type": "stream",
     "text": [
      "The r-Value is: -0.23042327885728942\n"
     ]
    },
    {
     "data": {
      "image/png": "[encoded data removed]",
      "text/plain": [
       "<Figure size 432x288 with 1 Axes>"
      ]
     },
     "metadata": {
      "needs_background": "light"
     },
     "output_type": "display_data"
    },
    {
     "name": "stdout",
     "output_type": "stream",
     "text": [
      "Linear Regression = slightly negative Correlation\n",
      "No real correlation relationship can be inferred from this dataset\n"
     ]
    }
   ],
   "source": [
    "#labeling\n",
    "x_lab = 'Latitude'\n",
    "y_lab = 'Wind Speed'\n",
    "title = f'City Latitude vs. Wind Speed ({time.strftime(\"%m-%d-%Y\")})'\n",
    "\n",
    "#saving\n",
    "savename = 'fig 12 - LinearREG-Lat_V_Wind - North.png'\n",
    "\n",
    "#line equation position\n",
    "linepos = (-55,15)\n",
    "\n",
    "#function\n",
    "line_reg_plotting(southern_cities['Lat'], southern_cities['Wind Speed'], x_lab, y_lab, title, savename, linepos)  \n",
    "\n",
    "#conclusions\n",
    "print('Linear Regression = slightly negative Correlation')\n",
    "print('No real correlation relationship can be inferred from this dataset')"
   ]
  },
  {
   "cell_type": "markdown",
   "metadata": {},
   "source": [
    "#### Oservations:\n",
    "\n",
    "1. As you move away from the equator (Lat:0), temperature drops\n",
    "\n",
    "2. Wind Speeds increase slightly as you move away from the equator\n",
    "\n",
    "3. Almost little to no correlation between Latitude and Humidity/Cloudiness"
   ]
  },
  {
   "cell_type": "code",
   "execution_count": null,
   "metadata": {},
   "outputs": [],
   "source": []
  }
 ],
 "metadata": {
  "anaconda-cloud": {},
  "kernel_info": {
   "name": "python3"
  },
  "kernelspec": {
   "display_name": "Python 3",
   "language": "python",
   "name": "python3"
  },
  "language_info": {
   "codemirror_mode": {
    "name": "ipython",
    "version": 3
   },
   "file_extension": ".py",
   "mimetype": "text/x-python",
   "name": "python",
   "nbconvert_exporter": "python",
   "pygments_lexer": "ipython3",
   "version": "3.8.3"
  },
  "latex_envs": {
   "LaTeX_envs_menu_present": true,
   "autoclose": false,
   "autocomplete": true,
   "bibliofile": "biblio.bib",
   "cite_by": "apalike",
   "current_citInitial": 1,
   "eqLabelWithNumbers": true,
   "eqNumInitial": 1,
   "hotkeys": {
    "equation": "Ctrl-E",
    "itemize": "Ctrl-I"
   },
   "labels_anchors": false,
   "latex_user_defs": false,
   "report_style_numbering": false,
   "user_envs_cfg": false
  },
  "nteract": {
   "version": "0.12.3"
  }
 },
 "nbformat": 4,
 "nbformat_minor": 2
}
