{
 "cells": [
  {
   "cell_type": "markdown",
   "metadata": {},
   "source": [
    "# WeatherPy\n",
    "----\n",
    "\n",
    "#### Oservations:\n",
    "*  include a written description of three observable trends based on the data"
   ]
  },
  {
   "cell_type": "code",
   "execution_count": 1,
   "metadata": {
    "scrolled": true
   },
   "outputs": [],
   "source": [
    "# Dependencies\n",
    "\n",
    "import matplotlib.pyplot as plt\n",
    "import pandas as pd\n",
    "import numpy as np\n",
    "import requests\n",
    "import json\n",
    "import time\n",
    "from scipy.stats import linregress\n",
    "import scipy.stats as st\n",
    "import os\n",
    "\n",
    "\n",
    "# Incorporated citipy to determine city based on latitude and longitude\n",
    "from citipy import citipy\n",
    "\n",
    "\n",
    "# Range of latitudes and longitudes\n",
    "lat_range = (-90, 90)\n",
    "lng_range = (-180, 180)"
   ]
  },
  {
   "cell_type": "markdown",
   "metadata": {},
   "source": [
    "## Generate Cities List"
   ]
  },
  {
   "cell_type": "code",
   "execution_count": 2,
   "metadata": {},
   "outputs": [
    {
     "data": {
      "text/plain": [
       "622"
      ]
     },
     "execution_count": 2,
     "metadata": {},
     "output_type": "execute_result"
    }
   ],
   "source": [
    "################### NOTE #########################\n",
    "#####code provided by professor in this block\n",
    "##################################################\n",
    "\n",
    "# List for holding lat_lngs and cities values\n",
    "lat_lngs = []\n",
    "cities = []\n",
    "\n",
    "# Create a set of random lat and lng combinations\n",
    "lats = np.random.uniform(lat_range[0], lat_range[1], size=1500)\n",
    "lngs = np.random.uniform(lng_range[0], lng_range[1], size=1500)\n",
    "lat_lngs = zip(lats, lngs)\n",
    "\n",
    "# Identify nearest city for each lat, lng combination\n",
    "for lat_lng in lat_lngs:\n",
    "    city = citipy.nearest_city(lat_lng[0], lat_lng[1]).city_name\n",
    "    \n",
    "    # If the city is unique, then add it to a our cities list\n",
    "    if city not in cities:\n",
    "        cities.append(city)\n",
    "\n",
    "# Print the city count to confirm sufficient count\n",
    "len(cities)\n",
    "\n",
    "################### END BLOCK ####################\n",
    "##################################################"
   ]
  },
  {
   "cell_type": "code",
   "execution_count": 3,
   "metadata": {},
   "outputs": [
    {
     "data": {
      "text/html": [
       "<div>\n",
       "<style scoped>\n",
       "    .dataframe tbody tr th:only-of-type {\n",
       "        vertical-align: middle;\n",
       "    }\n",
       "\n",
       "    .dataframe tbody tr th {\n",
       "        vertical-align: top;\n",
       "    }\n",
       "\n",
       "    .dataframe thead th {\n",
       "        text-align: right;\n",
       "    }\n",
       "</style>\n",
       "<table border=\"1\" class=\"dataframe\">\n",
       "  <thead>\n",
       "    <tr style=\"text-align: right;\">\n",
       "      <th></th>\n",
       "      <th>City</th>\n",
       "    </tr>\n",
       "  </thead>\n",
       "  <tbody>\n",
       "    <tr>\n",
       "      <th>0</th>\n",
       "      <td>abadan</td>\n",
       "    </tr>\n",
       "    <tr>\n",
       "      <th>1</th>\n",
       "      <td>saint-philippe</td>\n",
       "    </tr>\n",
       "    <tr>\n",
       "      <th>2</th>\n",
       "      <td>hasaki</td>\n",
       "    </tr>\n",
       "    <tr>\n",
       "      <th>3</th>\n",
       "      <td>vaitupu</td>\n",
       "    </tr>\n",
       "    <tr>\n",
       "      <th>4</th>\n",
       "      <td>georgetown</td>\n",
       "    </tr>\n",
       "    <tr>\n",
       "      <th>...</th>\n",
       "      <td>...</td>\n",
       "    </tr>\n",
       "    <tr>\n",
       "      <th>617</th>\n",
       "      <td>yangambi</td>\n",
       "    </tr>\n",
       "    <tr>\n",
       "      <th>618</th>\n",
       "      <td>pacific grove</td>\n",
       "    </tr>\n",
       "    <tr>\n",
       "      <th>619</th>\n",
       "      <td>nanakuli</td>\n",
       "    </tr>\n",
       "    <tr>\n",
       "      <th>620</th>\n",
       "      <td>halalo</td>\n",
       "    </tr>\n",
       "    <tr>\n",
       "      <th>621</th>\n",
       "      <td>turbat</td>\n",
       "    </tr>\n",
       "  </tbody>\n",
       "</table>\n",
       "<p>622 rows × 1 columns</p>\n",
       "</div>"
      ],
      "text/plain": [
       "               City\n",
       "0            abadan\n",
       "1    saint-philippe\n",
       "2            hasaki\n",
       "3           vaitupu\n",
       "4        georgetown\n",
       "..              ...\n",
       "617        yangambi\n",
       "618   pacific grove\n",
       "619        nanakuli\n",
       "620          halalo\n",
       "621          turbat\n",
       "\n",
       "[622 rows x 1 columns]"
      ]
     },
     "execution_count": 3,
     "metadata": {},
     "output_type": "execute_result"
    }
   ],
   "source": [
    "#putting the cities from the api into a dataframe\n",
    "\n",
    "city_df = pd.DataFrame({'City' : cities})\n",
    "city_df"
   ]
  },
  {
   "cell_type": "markdown",
   "metadata": {},
   "source": [
    "### API Calls"
   ]
  },
  {
   "cell_type": "code",
   "execution_count": 4,
   "metadata": {},
   "outputs": [],
   "source": [
    "# API key\n",
    "from api_keys import weather_api_key\n",
    "\n",
    "#url\n",
    "base_url = 'https://api.openweathermap.org/data/2.5/weather?'"
   ]
  },
  {
   "cell_type": "code",
   "execution_count": 5,
   "metadata": {},
   "outputs": [
    {
     "name": "stdout",
     "output_type": "stream",
     "text": [
      "Beginning Data Retrieval\n",
      "-----------------------------\n",
      "Processing Record 1 of Set 1 | abadan\n",
      "Processing Record 2 of Set 1 | saint-philippe\n",
      "Processing Record 3 of Set 1 | hasaki\n",
      "City not found. Skipping..\n",
      "Processing Record 5 of Set 1 | georgetown\n",
      "Processing Record 6 of Set 1 | chuy\n",
      "Processing Record 7 of Set 1 | hamilton\n",
      "Processing Record 8 of Set 1 | madimba\n",
      "Processing Record 9 of Set 1 | clyde river\n",
      "Processing Record 10 of Set 1 | esperance\n",
      "Processing Record 11 of Set 1 | rikitea\n",
      "Processing Record 12 of Set 1 | busselton\n",
      "Processing Record 13 of Set 1 | torbay\n",
      "City not found. Skipping..\n",
      "Processing Record 15 of Set 1 | sedlcany\n",
      "Processing Record 16 of Set 1 | castro\n",
      "Processing Record 17 of Set 1 | san cristobal\n",
      "Processing Record 18 of Set 1 | hithadhoo\n",
      "Processing Record 19 of Set 1 | udachnyy\n",
      "Processing Record 20 of Set 1 | mandurah\n",
      "City not found. Skipping..\n",
      "Processing Record 22 of Set 1 | chimbote\n",
      "Processing Record 23 of Set 1 | mataura\n",
      "City not found. Skipping..\n",
      "City not found. Skipping..\n",
      "Processing Record 26 of Set 1 | victoria\n",
      "Processing Record 27 of Set 1 | kapaa\n",
      "Processing Record 28 of Set 1 | bluff\n",
      "Processing Record 29 of Set 1 | barrow\n",
      "Processing Record 30 of Set 1 | hovd\n",
      "Processing Record 31 of Set 1 | tharad\n",
      "Processing Record 32 of Set 1 | ulladulla\n",
      "Processing Record 33 of Set 1 | new norfolk\n",
      "Processing Record 34 of Set 1 | caazapa\n",
      "Processing Record 35 of Set 1 | ushuaia\n",
      "Processing Record 36 of Set 1 | husavik\n",
      "Processing Record 37 of Set 1 | albany\n",
      "Processing Record 38 of Set 1 | plettenberg bay\n",
      "Processing Record 39 of Set 1 | dikson\n",
      "Processing Record 40 of Set 1 | olafsvik\n",
      "Processing Record 41 of Set 1 | souillac\n",
      "Processing Record 42 of Set 1 | houston\n",
      "Processing Record 43 of Set 1 | millau\n",
      "Processing Record 44 of Set 1 | mar del plata\n",
      "Processing Record 45 of Set 1 | elko\n",
      "City not found. Skipping..\n",
      "Processing Record 47 of Set 1 | kodiak\n",
      "Processing Record 48 of Set 1 | hofn\n",
      "Processing Record 49 of Set 1 | punta arenas\n",
      "Processing Record 50 of Set 1 | patos\n",
      "Processing Record 2 of Set 2 | cidreira\n",
      "Processing Record 3 of Set 2 | tasiilaq\n",
      "Processing Record 4 of Set 2 | yellowknife\n",
      "Processing Record 5 of Set 2 | longyearbyen\n",
      "Processing Record 6 of Set 2 | atuona\n",
      "Processing Record 7 of Set 2 | kandrian\n",
      "Processing Record 8 of Set 2 | nikolskoye\n",
      "Processing Record 9 of Set 2 | itupiranga\n",
      "Processing Record 10 of Set 2 | pangnirtung\n",
      "Processing Record 11 of Set 2 | baruun-urt\n",
      "Processing Record 12 of Set 2 | port alfred\n",
      "Processing Record 13 of Set 2 | vao\n",
      "Processing Record 14 of Set 2 | acatlan\n",
      "Processing Record 15 of Set 2 | honiara\n",
      "Processing Record 16 of Set 2 | kayes\n",
      "Processing Record 17 of Set 2 | hobart\n",
      "Processing Record 18 of Set 2 | paita\n",
      "Processing Record 19 of Set 2 | eitorf\n",
      "Processing Record 20 of Set 2 | hermanus\n",
      "Processing Record 21 of Set 2 | umm kaddadah\n",
      "Processing Record 22 of Set 2 | catalina\n",
      "Processing Record 23 of Set 2 | ribeira grande\n",
      "City not found. Skipping..\n",
      "City not found. Skipping..\n",
      "Processing Record 26 of Set 2 | papetoai\n",
      "Processing Record 27 of Set 2 | ust-maya\n",
      "Processing Record 28 of Set 2 | ilulissat\n",
      "City not found. Skipping..\n",
      "Processing Record 30 of Set 2 | lalitpur\n",
      "Processing Record 31 of Set 2 | mildura\n",
      "Processing Record 32 of Set 2 | bethel\n",
      "Processing Record 33 of Set 2 | tiksi\n",
      "Processing Record 34 of Set 2 | humaita\n",
      "City not found. Skipping..\n",
      "Processing Record 36 of Set 2 | kaitangata\n",
      "Processing Record 37 of Set 2 | nantucket\n",
      "Processing Record 38 of Set 2 | thompson\n",
      "Processing Record 39 of Set 2 | ambilobe\n",
      "Processing Record 40 of Set 2 | noumea\n",
      "Processing Record 41 of Set 2 | tateyama\n",
      "Processing Record 42 of Set 2 | muriwai beach\n",
      "City not found. Skipping..\n",
      "Processing Record 44 of Set 2 | general roca\n",
      "City not found. Skipping..\n",
      "Processing Record 46 of Set 2 | gamboma\n",
      "Processing Record 47 of Set 2 | ugoofaaru\n",
      "City not found. Skipping..\n",
      "Processing Record 49 of Set 2 | pevek\n",
      "Processing Record 50 of Set 2 | mount isa\n",
      "Processing Record 2 of Set 3 | hilo\n",
      "Processing Record 3 of Set 3 | dillon\n",
      "Processing Record 4 of Set 3 | isla mujeres\n",
      "Processing Record 5 of Set 3 | norman wells\n",
      "Processing Record 6 of Set 3 | ivanava\n",
      "Processing Record 7 of Set 3 | sri aman\n",
      "Processing Record 8 of Set 3 | port elizabeth\n",
      "Processing Record 9 of Set 3 | belton\n",
      "Processing Record 10 of Set 3 | coihaique\n",
      "Processing Record 11 of Set 3 | flinders\n",
      "Processing Record 12 of Set 3 | copiapo\n",
      "Processing Record 13 of Set 3 | hutchinson\n",
      "Processing Record 14 of Set 3 | gazanjyk\n",
      "Processing Record 15 of Set 3 | lebu\n",
      "Processing Record 16 of Set 3 | guerrero negro\n",
      "Processing Record 17 of Set 3 | hambantota\n",
      "Processing Record 18 of Set 3 | junagadh\n",
      "City not found. Skipping..\n",
      "Processing Record 20 of Set 3 | saint george\n",
      "Processing Record 21 of Set 3 | khatanga\n",
      "Processing Record 22 of Set 3 | sistranda\n",
      "Processing Record 23 of Set 3 | airai\n",
      "Processing Record 24 of Set 3 | vostok\n",
      "Processing Record 25 of Set 3 | floro\n",
      "Processing Record 26 of Set 3 | dickinson\n",
      "Processing Record 27 of Set 3 | cape town\n",
      "City not found. Skipping..\n",
      "Processing Record 29 of Set 3 | qaanaaq\n",
      "Processing Record 30 of Set 3 | urumqi\n",
      "Processing Record 31 of Set 3 | sioux lookout\n",
      "Processing Record 32 of Set 3 | skjervoy\n",
      "Processing Record 33 of Set 3 | padang\n",
      "Processing Record 34 of Set 3 | byron bay\n",
      "Processing Record 35 of Set 3 | jamestown\n",
      "Processing Record 36 of Set 3 | toamasina\n",
      "Processing Record 37 of Set 3 | mogwase\n",
      "Processing Record 38 of Set 3 | nioro\n",
      "Processing Record 39 of Set 3 | nome\n",
      "Processing Record 40 of Set 3 | clarence town\n",
      "Processing Record 41 of Set 3 | jalu\n",
      "Processing Record 42 of Set 3 | glendive\n",
      "Processing Record 43 of Set 3 | marawi\n",
      "Processing Record 44 of Set 3 | lata\n",
      "Processing Record 45 of Set 3 | mahebourg\n",
      "Processing Record 46 of Set 3 | salaverry\n",
      "Processing Record 47 of Set 3 | talnakh\n",
      "Processing Record 48 of Set 3 | sorocaba\n",
      "Processing Record 49 of Set 3 | chokurdakh\n",
      "Processing Record 50 of Set 3 | plouzane\n",
      "Processing Record 2 of Set 4 | vaitape\n",
      "Processing Record 3 of Set 4 | carballo\n",
      "Processing Record 4 of Set 4 | kalanchak\n",
      "Processing Record 5 of Set 4 | khandbari\n",
      "Processing Record 6 of Set 4 | severo-kurilsk\n",
      "Processing Record 7 of Set 4 | port moresby\n",
      "Processing Record 8 of Set 4 | cayenne\n",
      "Processing Record 9 of Set 4 | lavrentiya\n",
      "Processing Record 10 of Set 4 | broome\n",
      "Processing Record 11 of Set 4 | avarua\n",
      "Processing Record 12 of Set 4 | saint-francois\n",
      "Processing Record 13 of Set 4 | terrace\n",
      "City not found. Skipping..\n",
      "Processing Record 15 of Set 4 | yabassi\n",
      "Processing Record 16 of Set 4 | erenhot\n",
      "Processing Record 17 of Set 4 | yulara\n",
      "Processing Record 18 of Set 4 | oktyabrskiy\n",
      "Processing Record 19 of Set 4 | comodoro rivadavia\n",
      "Processing Record 20 of Set 4 | svolvaer\n",
      "Processing Record 21 of Set 4 | majagual\n",
      "Processing Record 22 of Set 4 | butaritari\n",
      "Processing Record 23 of Set 4 | machico\n",
      "Processing Record 24 of Set 4 | yuci\n",
      "Processing Record 25 of Set 4 | abu zabad\n",
      "Processing Record 26 of Set 4 | tuktoyaktuk\n",
      "Processing Record 27 of Set 4 | warrnambool\n",
      "Processing Record 28 of Set 4 | coolum beach\n",
      "Processing Record 29 of Set 4 | ponta delgada\n",
      "Processing Record 30 of Set 4 | krasnogvardeyskiy\n",
      "Processing Record 31 of Set 4 | port hardy\n",
      "Processing Record 32 of Set 4 | sao filipe\n",
      "Processing Record 33 of Set 4 | kavaratti\n",
      "City not found. Skipping..\n",
      "Processing Record 35 of Set 4 | emerald\n",
      "Processing Record 36 of Set 4 | carnarvon\n",
      "Processing Record 37 of Set 4 | corrales\n",
      "Processing Record 38 of Set 4 | mosquera\n",
      "Processing Record 39 of Set 4 | katangli\n",
      "Processing Record 40 of Set 4 | wanaka\n",
      "Processing Record 41 of Set 4 | buraydah\n",
      "Processing Record 42 of Set 4 | piet retief\n",
      "Processing Record 43 of Set 4 | pasni\n",
      "Processing Record 44 of Set 4 | mumford\n",
      "Processing Record 45 of Set 4 | semey\n",
      "Processing Record 46 of Set 4 | codrington\n",
      "Processing Record 47 of Set 4 | santiago de cuba\n",
      "Processing Record 48 of Set 4 | blitar\n",
      "Processing Record 49 of Set 4 | yagodnoye\n",
      "City not found. Skipping..\n",
      "Processing Record 2 of Set 5 | fortuna\n",
      "Processing Record 3 of Set 5 | muros\n",
      "Processing Record 4 of Set 5 | huilong\n",
      "City not found. Skipping..\n",
      "Processing Record 6 of Set 5 | biltine\n",
      "Processing Record 7 of Set 5 | auki\n",
      "Processing Record 8 of Set 5 | along\n",
      "Processing Record 9 of Set 5 | hay river\n"
     ]
    },
    {
     "name": "stdout",
     "output_type": "stream",
     "text": [
      "Processing Record 10 of Set 5 | jaitaran\n",
      "Processing Record 11 of Set 5 | siuna\n",
      "Processing Record 12 of Set 5 | hatfield\n",
      "City not found. Skipping..\n",
      "Processing Record 14 of Set 5 | hami\n",
      "Processing Record 15 of Set 5 | bathsheba\n",
      "Processing Record 16 of Set 5 | tacna\n",
      "Processing Record 17 of Set 5 | ko samui\n",
      "Processing Record 18 of Set 5 | ornskoldsvik\n",
      "Processing Record 19 of Set 5 | ust-kut\n",
      "Processing Record 20 of Set 5 | keetmanshoop\n",
      "Processing Record 21 of Set 5 | tuatapere\n",
      "Processing Record 22 of Set 5 | fairbanks\n",
      "City not found. Skipping..\n",
      "Processing Record 24 of Set 5 | batagay-alyta\n",
      "Processing Record 25 of Set 5 | margate\n",
      "Processing Record 26 of Set 5 | opuwo\n",
      "Processing Record 27 of Set 5 | namibe\n",
      "Processing Record 28 of Set 5 | alofi\n",
      "Processing Record 29 of Set 5 | omsukchan\n",
      "Processing Record 30 of Set 5 | arraial do cabo\n",
      "Processing Record 31 of Set 5 | vila franca do campo\n",
      "City not found. Skipping..\n",
      "Processing Record 33 of Set 5 | kahului\n",
      "Processing Record 34 of Set 5 | pampierstad\n",
      "Processing Record 35 of Set 5 | katsuura\n",
      "Processing Record 36 of Set 5 | mecca\n",
      "Processing Record 37 of Set 5 | east london\n",
      "Processing Record 38 of Set 5 | necochea\n",
      "Processing Record 39 of Set 5 | payo\n",
      "Processing Record 40 of Set 5 | atar\n",
      "Processing Record 41 of Set 5 | krasnoselkup\n",
      "Processing Record 42 of Set 5 | svarstad\n",
      "Processing Record 43 of Set 5 | pandan\n",
      "Processing Record 44 of Set 5 | alice springs\n",
      "Processing Record 45 of Set 5 | yerbogachen\n",
      "Processing Record 46 of Set 5 | garowe\n",
      "Processing Record 47 of Set 5 | nahrin\n",
      "Processing Record 48 of Set 5 | banjarmasin\n",
      "City not found. Skipping..\n",
      "Processing Record 50 of Set 5 | saskylakh\n",
      "City not found. Skipping..\n",
      "Processing Record 3 of Set 6 | aksarka\n",
      "Processing Record 4 of Set 6 | presidencia roque saenz pena\n",
      "Processing Record 5 of Set 6 | jiuquan\n",
      "Processing Record 6 of Set 6 | bambanglipuro\n",
      "Processing Record 7 of Set 6 | zaqatala\n",
      "Processing Record 8 of Set 6 | puerto ayora\n",
      "Processing Record 9 of Set 6 | ponta do sol\n",
      "Processing Record 10 of Set 6 | chingirlau\n",
      "Processing Record 11 of Set 6 | san patricio\n",
      "Processing Record 12 of Set 6 | edd\n",
      "Processing Record 13 of Set 6 | jaunjelgava\n",
      "Processing Record 14 of Set 6 | mayumba\n",
      "Processing Record 15 of Set 6 | roebourne\n",
      "Processing Record 16 of Set 6 | nampula\n",
      "Processing Record 17 of Set 6 | hirado\n",
      "Processing Record 18 of Set 6 | yelizovo\n",
      "Processing Record 19 of Set 6 | surovikino\n",
      "Processing Record 20 of Set 6 | bonthe\n",
      "Processing Record 21 of Set 6 | tromso\n",
      "Processing Record 22 of Set 6 | pontes e lacerda\n",
      "City not found. Skipping..\n",
      "Processing Record 24 of Set 6 | bambous virieux\n",
      "Processing Record 25 of Set 6 | sabha\n",
      "Processing Record 26 of Set 6 | dingle\n",
      "Processing Record 27 of Set 6 | kruisfontein\n",
      "Processing Record 28 of Set 6 | dunedin\n",
      "City not found. Skipping..\n",
      "Processing Record 30 of Set 6 | upernavik\n",
      "Processing Record 31 of Set 6 | gualeguay\n",
      "Processing Record 32 of Set 6 | camacha\n",
      "Processing Record 33 of Set 6 | altay\n",
      "Processing Record 34 of Set 6 | pingliang\n",
      "Processing Record 35 of Set 6 | vaini\n",
      "Processing Record 36 of Set 6 | gumdag\n",
      "Processing Record 37 of Set 6 | amarwara\n",
      "City not found. Skipping..\n",
      "City not found. Skipping..\n",
      "Processing Record 40 of Set 6 | mwanza\n",
      "Processing Record 41 of Set 6 | caravelas\n",
      "Processing Record 42 of Set 6 | oranjemund\n",
      "Processing Record 43 of Set 6 | yeppoon\n",
      "Processing Record 44 of Set 6 | namatanai\n",
      "Processing Record 45 of Set 6 | revelstoke\n",
      "Processing Record 46 of Set 6 | andenes\n",
      "Processing Record 47 of Set 6 | khislavichi\n",
      "Processing Record 48 of Set 6 | tulun\n",
      "Processing Record 49 of Set 6 | penzance\n",
      "Processing Record 50 of Set 6 | smithers\n",
      "Processing Record 2 of Set 7 | ambon\n",
      "Processing Record 3 of Set 7 | uray\n",
      "Processing Record 4 of Set 7 | binga\n",
      "Processing Record 5 of Set 7 | bredasdorp\n",
      "Processing Record 6 of Set 7 | wuwei\n",
      "Processing Record 7 of Set 7 | calabozo\n",
      "City not found. Skipping..\n",
      "Processing Record 9 of Set 7 | karangasem\n",
      "Processing Record 10 of Set 7 | bilibino\n",
      "Processing Record 11 of Set 7 | ismailia\n",
      "Processing Record 12 of Set 7 | klimovo\n",
      "Processing Record 13 of Set 7 | denpasar\n",
      "Processing Record 14 of Set 7 | san jose de sisa\n",
      "Processing Record 15 of Set 7 | pisco\n",
      "Processing Record 16 of Set 7 | korla\n",
      "Processing Record 17 of Set 7 | muncar\n",
      "Processing Record 18 of Set 7 | marigot\n",
      "Processing Record 19 of Set 7 | itoman\n",
      "Processing Record 20 of Set 7 | iqaluit\n",
      "Processing Record 21 of Set 7 | salalah\n",
      "Processing Record 22 of Set 7 | puerto madryn\n",
      "Processing Record 23 of Set 7 | los llanos de aridane\n",
      "Processing Record 24 of Set 7 | lagoa\n",
      "Processing Record 25 of Set 7 | remanso\n",
      "Processing Record 26 of Set 7 | pumiao\n",
      "Processing Record 27 of Set 7 | saurimo\n",
      "Processing Record 28 of Set 7 | mount gambier\n",
      "Processing Record 29 of Set 7 | machaneng\n",
      "Processing Record 30 of Set 7 | teya\n",
      "Processing Record 31 of Set 7 | megion\n",
      "Processing Record 32 of Set 7 | port augusta\n",
      "Processing Record 33 of Set 7 | sitka\n",
      "Processing Record 34 of Set 7 | havre-saint-pierre\n",
      "Processing Record 35 of Set 7 | bardiyah\n",
      "City not found. Skipping..\n",
      "Processing Record 37 of Set 7 | abu samrah\n",
      "Processing Record 38 of Set 7 | port lincoln\n",
      "Processing Record 39 of Set 7 | bose\n",
      "Processing Record 40 of Set 7 | bairiki\n",
      "Processing Record 41 of Set 7 | logrono\n",
      "City not found. Skipping..\n",
      "Processing Record 43 of Set 7 | kencong\n",
      "Processing Record 44 of Set 7 | aswan\n",
      "Processing Record 45 of Set 7 | karasjok\n",
      "Processing Record 46 of Set 7 | santa maria del oro\n",
      "Processing Record 47 of Set 7 | santa maria\n",
      "Processing Record 48 of Set 7 | isangel\n",
      "Processing Record 49 of Set 7 | gniezno\n",
      "Processing Record 50 of Set 7 | russell\n",
      "Processing Record 2 of Set 8 | rochdale\n",
      "Processing Record 3 of Set 8 | tambopata\n",
      "Processing Record 4 of Set 8 | tambo\n",
      "Processing Record 5 of Set 8 | puerto barrios\n",
      "Processing Record 6 of Set 8 | ixtapa\n",
      "Processing Record 7 of Set 8 | gao\n",
      "Processing Record 8 of Set 8 | matay\n",
      "Processing Record 9 of Set 8 | kensington\n",
      "Processing Record 10 of Set 8 | soloneshnoye\n",
      "Processing Record 11 of Set 8 | clarksburg\n",
      "Processing Record 12 of Set 8 | lucapa\n",
      "Processing Record 13 of Set 8 | mangrol\n",
      "Processing Record 14 of Set 8 | sambava\n",
      "Processing Record 15 of Set 8 | okhotsk\n",
      "City not found. Skipping..\n",
      "Processing Record 17 of Set 8 | carbondale\n",
      "Processing Record 18 of Set 8 | antalaha\n",
      "Processing Record 19 of Set 8 | maryville\n",
      "City not found. Skipping..\n",
      "Processing Record 21 of Set 8 | cuamba\n",
      "Processing Record 22 of Set 8 | puerto narino\n",
      "Processing Record 23 of Set 8 | alta floresta\n",
      "Processing Record 24 of Set 8 | quelimane\n",
      "Processing Record 25 of Set 8 | altagracia de orituco\n",
      "City not found. Skipping..\n",
      "Processing Record 27 of Set 8 | penzberg\n",
      "Processing Record 28 of Set 8 | vardo\n",
      "Processing Record 29 of Set 8 | cherskiy\n",
      "Processing Record 30 of Set 8 | kitui\n",
      "Processing Record 31 of Set 8 | roald\n",
      "Processing Record 32 of Set 8 | taltal\n",
      "Processing Record 33 of Set 8 | takoradi\n",
      "Processing Record 34 of Set 8 | lorengau\n",
      "Processing Record 35 of Set 8 | sisimiut\n",
      "Processing Record 36 of Set 8 | kilindoni\n",
      "Processing Record 37 of Set 8 | kavieng\n",
      "Processing Record 38 of Set 8 | poddorye\n",
      "Processing Record 39 of Set 8 | te anau\n",
      "Processing Record 40 of Set 8 | faanui\n",
      "Processing Record 41 of Set 8 | qianguo\n",
      "Processing Record 42 of Set 8 | wad madani\n",
      "City not found. Skipping..\n",
      "Processing Record 44 of Set 8 | geilo\n",
      "Processing Record 45 of Set 8 | nishihara\n",
      "Processing Record 46 of Set 8 | kilcullen\n",
      "Processing Record 47 of Set 8 | mayor pablo lagerenza\n",
      "Processing Record 48 of Set 8 | kulu\n",
      "Processing Record 49 of Set 8 | ust-kuyga\n",
      "Processing Record 50 of Set 8 | el alto\n",
      "Processing Record 2 of Set 9 | rawson\n",
      "Processing Record 3 of Set 9 | mehamn\n",
      "Processing Record 4 of Set 9 | shellbrook\n",
      "Processing Record 5 of Set 9 | kudahuvadhoo\n",
      "Processing Record 6 of Set 9 | visby\n",
      "Processing Record 7 of Set 9 | constitucion\n",
      "Processing Record 8 of Set 9 | allapalli\n",
      "Processing Record 9 of Set 9 | leningradskiy\n",
      "Processing Record 10 of Set 9 | westport\n",
      "Processing Record 11 of Set 9 | zlitan\n",
      "Processing Record 12 of Set 9 | mut\n",
      "Processing Record 13 of Set 9 | provideniya\n",
      "Processing Record 14 of Set 9 | madinat sittah uktubar\n",
      "Processing Record 15 of Set 9 | dzhebariki-khaya\n",
      "Processing Record 16 of Set 9 | guangyuan\n",
      "Processing Record 17 of Set 9 | dingolfing\n",
      "Processing Record 18 of Set 9 | pemba\n"
     ]
    },
    {
     "name": "stdout",
     "output_type": "stream",
     "text": [
      "Processing Record 19 of Set 9 | bukama\n",
      "Processing Record 20 of Set 9 | xinxiang\n",
      "Processing Record 21 of Set 9 | safaga\n",
      "Processing Record 22 of Set 9 | yayva\n",
      "Processing Record 23 of Set 9 | aklavik\n",
      "Processing Record 24 of Set 9 | gwadar\n",
      "Processing Record 25 of Set 9 | eyl\n",
      "Processing Record 26 of Set 9 | marsaxlokk\n",
      "Processing Record 27 of Set 9 | jinchang\n",
      "City not found. Skipping..\n",
      "Processing Record 29 of Set 9 | kasempa\n",
      "Processing Record 30 of Set 9 | cabo san lucas\n",
      "Processing Record 31 of Set 9 | waddan\n",
      "Processing Record 32 of Set 9 | salekhard\n",
      "Processing Record 33 of Set 9 | remedios\n",
      "Processing Record 34 of Set 9 | seymchan\n",
      "Processing Record 35 of Set 9 | palembang\n",
      "Processing Record 36 of Set 9 | kathmandu\n",
      "Processing Record 37 of Set 9 | svetogorsk\n",
      "Processing Record 38 of Set 9 | gorontalo\n",
      "Processing Record 39 of Set 9 | laguna\n",
      "Processing Record 40 of Set 9 | llodio\n",
      "Processing Record 41 of Set 9 | solwezi\n",
      "Processing Record 42 of Set 9 | kijang\n",
      "Processing Record 43 of Set 9 | yellapur\n",
      "Processing Record 44 of Set 9 | talcahuano\n",
      "Processing Record 45 of Set 9 | severo-yeniseyskiy\n",
      "City not found. Skipping..\n",
      "Processing Record 47 of Set 9 | karratha\n",
      "Processing Record 48 of Set 9 | velyka lepetykha\n",
      "Processing Record 49 of Set 9 | det udom\n",
      "Processing Record 50 of Set 9 | hualmay\n",
      "Processing Record 2 of Set 10 | ormara\n",
      "Processing Record 3 of Set 10 | half moon bay\n",
      "Processing Record 4 of Set 10 | fukue\n",
      "Processing Record 5 of Set 10 | khorixas\n",
      "Processing Record 6 of Set 10 | bolshaya dzhalga\n",
      "Processing Record 7 of Set 10 | istisu\n",
      "Processing Record 8 of Set 10 | klaksvik\n",
      "Processing Record 9 of Set 10 | luderitz\n",
      "Processing Record 10 of Set 10 | svetlyy\n",
      "Processing Record 11 of Set 10 | phuket\n",
      "Processing Record 12 of Set 10 | adrar\n",
      "Processing Record 13 of Set 10 | mayo\n",
      "Processing Record 14 of Set 10 | mitsamiouli\n",
      "Processing Record 15 of Set 10 | san pedro\n",
      "Processing Record 16 of Set 10 | ahipara\n",
      "Processing Record 17 of Set 10 | dukat\n",
      "Processing Record 18 of Set 10 | geraldton\n",
      "Processing Record 19 of Set 10 | vagur\n",
      "Processing Record 20 of Set 10 | kaeo\n",
      "Processing Record 21 of Set 10 | saldanha\n",
      "Processing Record 22 of Set 10 | gua musang\n",
      "Processing Record 23 of Set 10 | biryusinsk\n",
      "Processing Record 24 of Set 10 | boa vista\n",
      "Processing Record 25 of Set 10 | donnacona\n",
      "Processing Record 26 of Set 10 | sao joao da barra\n",
      "Processing Record 27 of Set 10 | boguchany\n",
      "Processing Record 28 of Set 10 | kashi\n",
      "Processing Record 29 of Set 10 | northam\n",
      "Processing Record 30 of Set 10 | praia da vitoria\n",
      "Processing Record 31 of Set 10 | loanda\n",
      "Processing Record 32 of Set 10 | richards bay\n",
      "City not found. Skipping..\n",
      "Processing Record 34 of Set 10 | zheleznodorozhnyy\n",
      "Processing Record 35 of Set 10 | sampit\n",
      "Processing Record 36 of Set 10 | inirida\n",
      "Processing Record 37 of Set 10 | saint-pierre\n",
      "Processing Record 38 of Set 10 | ballina\n",
      "Processing Record 39 of Set 10 | nyagan\n",
      "Processing Record 40 of Set 10 | begun\n",
      "Processing Record 41 of Set 10 | acapulco\n",
      "Processing Record 42 of Set 10 | mimongo\n",
      "City not found. Skipping..\n",
      "Processing Record 44 of Set 10 | haines junction\n",
      "Processing Record 45 of Set 10 | mattru\n",
      "Processing Record 46 of Set 10 | tenenkou\n",
      "Processing Record 47 of Set 10 | hualahuises\n",
      "Processing Record 48 of Set 10 | murdochville\n",
      "Processing Record 49 of Set 10 | vestmanna\n",
      "City not found. Skipping..\n",
      "Processing Record 2 of Set 11 | pedro ii\n",
      "Processing Record 3 of Set 11 | itarema\n",
      "Processing Record 4 of Set 11 | cabanas\n",
      "Processing Record 5 of Set 11 | rocha\n",
      "Processing Record 6 of Set 11 | svetlogorsk\n",
      "Processing Record 7 of Set 11 | poum\n",
      "Processing Record 8 of Set 11 | tezu\n",
      "Processing Record 9 of Set 11 | moustheni\n",
      "Processing Record 10 of Set 11 | zhuhai\n",
      "Processing Record 11 of Set 11 | koslan\n",
      "Processing Record 12 of Set 11 | palu\n",
      "Processing Record 13 of Set 11 | sterling\n",
      "Processing Record 14 of Set 11 | trincomalee\n",
      "Processing Record 15 of Set 11 | goderich\n",
      "Processing Record 16 of Set 11 | lokosovo\n",
      "Processing Record 17 of Set 11 | santa rosa\n",
      "City not found. Skipping..\n",
      "Processing Record 19 of Set 11 | coquimbo\n",
      "Processing Record 20 of Set 11 | tilichiki\n",
      "City not found. Skipping..\n",
      "Processing Record 22 of Set 11 | valparaiso\n",
      "Processing Record 23 of Set 11 | naze\n",
      "Processing Record 24 of Set 11 | port macquarie\n",
      "Processing Record 25 of Set 11 | staryy nadym\n",
      "Processing Record 26 of Set 11 | neryungri\n",
      "Processing Record 27 of Set 11 | inta\n",
      "Processing Record 28 of Set 11 | bandarbeyla\n",
      "Processing Record 29 of Set 11 | wahpeton\n",
      "Processing Record 30 of Set 11 | linfen\n",
      "Processing Record 31 of Set 11 | narsaq\n",
      "Processing Record 32 of Set 11 | bodden town\n",
      "Processing Record 33 of Set 11 | najran\n",
      "Processing Record 34 of Set 11 | tautira\n",
      "Processing Record 35 of Set 11 | deyang\n",
      "Processing Record 36 of Set 11 | bereda\n",
      "Processing Record 37 of Set 11 | carutapera\n",
      "Processing Record 38 of Set 11 | price\n",
      "Processing Record 39 of Set 11 | bonavista\n",
      "Processing Record 40 of Set 11 | isla vista\n",
      "Processing Record 41 of Set 11 | ozernovskiy\n",
      "Processing Record 42 of Set 11 | luna\n",
      "Processing Record 43 of Set 11 | tommot\n",
      "Processing Record 44 of Set 11 | matveyevka\n",
      "Processing Record 45 of Set 11 | agirish\n",
      "City not found. Skipping..\n",
      "Processing Record 47 of Set 11 | kungurtug\n",
      "Processing Record 48 of Set 11 | san angelo\n",
      "Processing Record 49 of Set 11 | jacareacanga\n",
      "Processing Record 50 of Set 11 | bani\n",
      "Processing Record 2 of Set 12 | vila velha\n",
      "Processing Record 3 of Set 12 | hammerfest\n",
      "Processing Record 4 of Set 12 | wuda\n",
      "Processing Record 5 of Set 12 | hervey bay\n",
      "Processing Record 6 of Set 12 | aldan\n",
      "Processing Record 7 of Set 12 | nanortalik\n",
      "Processing Record 8 of Set 12 | capesterre-belle-eau\n",
      "City not found. Skipping..\n",
      "Processing Record 10 of Set 12 | malartic\n",
      "Processing Record 11 of Set 12 | sorland\n",
      "Processing Record 12 of Set 12 | iberia\n",
      "Processing Record 13 of Set 12 | don sak\n",
      "Processing Record 14 of Set 12 | la tuque\n",
      "Processing Record 15 of Set 12 | chenzhou\n",
      "Processing Record 16 of Set 12 | lompoc\n",
      "Processing Record 17 of Set 12 | brae\n",
      "Processing Record 18 of Set 12 | khani\n",
      "Processing Record 19 of Set 12 | willowmore\n",
      "Processing Record 20 of Set 12 | tricase\n",
      "Processing Record 21 of Set 12 | san juan\n",
      "Processing Record 22 of Set 12 | shahreza\n",
      "Processing Record 23 of Set 12 | mbandaka\n",
      "City not found. Skipping..\n",
      "Processing Record 25 of Set 12 | koutsouras\n",
      "Processing Record 26 of Set 12 | todos santos\n",
      "City not found. Skipping..\n",
      "Processing Record 28 of Set 12 | peniche\n",
      "Processing Record 29 of Set 12 | nove mesto na morave\n",
      "Processing Record 30 of Set 12 | tianpeng\n",
      "Processing Record 31 of Set 12 | merauke\n",
      "Processing Record 32 of Set 12 | sokoni\n",
      "Processing Record 33 of Set 12 | chornoliztsi\n",
      "Processing Record 34 of Set 12 | luganville\n",
      "Processing Record 35 of Set 12 | payyannur\n",
      "Processing Record 36 of Set 12 | liverpool\n",
      "Processing Record 37 of Set 12 | ausa\n",
      "Processing Record 38 of Set 12 | dongsheng\n",
      "Processing Record 39 of Set 12 | marovoay\n",
      "Processing Record 40 of Set 12 | mgachi\n",
      "City not found. Skipping..\n",
      "City not found. Skipping..\n",
      "Processing Record 43 of Set 12 | zhigansk\n",
      "Processing Record 44 of Set 12 | mikhaylovskoye\n",
      "City not found. Skipping..\n",
      "Processing Record 46 of Set 12 | tupanatinga\n",
      "Processing Record 47 of Set 12 | boralday\n",
      "Processing Record 48 of Set 12 | viedma\n",
      "Processing Record 49 of Set 12 | catole do rocha\n",
      "Processing Record 50 of Set 12 | maniitsoq\n",
      "City not found. Skipping..\n",
      "Processing Record 3 of Set 13 | susehri\n",
      "Processing Record 4 of Set 13 | tura\n",
      "Processing Record 5 of Set 13 | nador\n",
      "Processing Record 6 of Set 13 | cascais\n",
      "Processing Record 7 of Set 13 | saint anthony\n",
      "Processing Record 8 of Set 13 | srandakan\n",
      "Processing Record 9 of Set 13 | yar-sale\n",
      "Processing Record 10 of Set 13 | ambulu\n",
      "Processing Record 11 of Set 13 | praia\n",
      "City not found. Skipping..\n",
      "Processing Record 13 of Set 13 | santa cruz cabralia\n",
      "Processing Record 14 of Set 13 | ketchikan\n",
      "Processing Record 15 of Set 13 | melville\n",
      "City not found. Skipping..\n",
      "Processing Record 17 of Set 13 | rapar\n",
      "Processing Record 18 of Set 13 | komsomolskiy\n",
      "Processing Record 19 of Set 13 | norrtalje\n",
      "Processing Record 20 of Set 13 | erzin\n",
      "Processing Record 21 of Set 13 | tongchuan\n",
      "Processing Record 22 of Set 13 | pokhara\n",
      "Processing Record 23 of Set 13 | kikwit\n",
      "Processing Record 24 of Set 13 | cleveland\n"
     ]
    },
    {
     "name": "stdout",
     "output_type": "stream",
     "text": [
      "Processing Record 25 of Set 13 | acarau\n",
      "Processing Record 26 of Set 13 | huittinen\n",
      "Processing Record 27 of Set 13 | pierre\n",
      "Processing Record 28 of Set 13 | jhargram\n",
      "Processing Record 29 of Set 13 | ellisras\n",
      "Processing Record 30 of Set 13 | yangambi\n",
      "Processing Record 31 of Set 13 | pacific grove\n",
      "Processing Record 32 of Set 13 | nanakuli\n",
      "City not found. Skipping..\n",
      "Processing Record 34 of Set 13 | turbat\n",
      "End of Data Retrieval\n",
      "-----------------------------\n"
     ]
    }
   ],
   "source": [
    "city_name_list = []\n",
    "lng_list = []\n",
    "lat_list = []\n",
    "temp_list = []\n",
    "humidity_list = []\n",
    "cloud_list = []\n",
    "wind_list = []\n",
    "country_list = []\n",
    "date_list = []\n",
    "\n",
    "\n",
    "\n",
    "#record and set number initilization\n",
    "record_num = 1\n",
    "set_num = 1\n",
    "\n",
    "\n",
    "print('Beginning Data Retrieval')\n",
    "print('-----------------------------')\n",
    "\n",
    "\n",
    "for city in cities:\n",
    "   \n",
    "    #parameters\n",
    "    params ={'location': 'en', \n",
    "             'units' : 'imperial',\n",
    "             'q' : city,\n",
    "             'APPID': weather_api_key}\n",
    "      \n",
    "    #try statement to test for each city --> appending city values if found\n",
    "    try:\n",
    "        \n",
    "        # run a request using our params dictionary\n",
    "        response = requests.get(base_url, params=params)\n",
    "        data = response.json()     \n",
    "        \n",
    "        #appending city values ti\n",
    "        lng_list.append(data['coord']['lon'])\n",
    "        lat_list.append(data['coord']['lat'])\n",
    "        temp_list.append(data['main']['temp'])\n",
    "        humidity_list.append(data['main']['humidity'])\n",
    "        cloud_list.append(data['clouds']['all'])\n",
    "        wind_list.append(data['wind']['speed'])\n",
    "        city_name_list.append(data['name'])\n",
    "        date_list.append(data['dt']) \n",
    "        country_list.append(data['sys']['country']) \n",
    "        \n",
    "        print(f'Processing Record {record_num} of Set {set_num} | {city}')  \n",
    "    \n",
    "    except KeyError:\n",
    "        print(\"City not found. Skipping..\")\n",
    "    \n",
    "    # Setting Api call limt to 50 per set\n",
    "    if record_num == 50:\n",
    "            set_num += 1\n",
    "            record_num = 1\n",
    "    \n",
    "    record_num += 1\n",
    "        \n",
    "print('End of Data Retrieval')\n",
    "print('-----------------------------')\n",
    "    "
   ]
  },
  {
   "cell_type": "markdown",
   "metadata": {},
   "source": [
    "### Convert Raw Data to DataFrame\n"
   ]
  },
  {
   "cell_type": "code",
   "execution_count": 6,
   "metadata": {},
   "outputs": [
    {
     "data": {
      "text/html": [
       "<div>\n",
       "<style scoped>\n",
       "    .dataframe tbody tr th:only-of-type {\n",
       "        vertical-align: middle;\n",
       "    }\n",
       "\n",
       "    .dataframe tbody tr th {\n",
       "        vertical-align: top;\n",
       "    }\n",
       "\n",
       "    .dataframe thead th {\n",
       "        text-align: right;\n",
       "    }\n",
       "</style>\n",
       "<table border=\"1\" class=\"dataframe\">\n",
       "  <thead>\n",
       "    <tr style=\"text-align: right;\">\n",
       "      <th></th>\n",
       "      <th>City</th>\n",
       "      <th>Lat</th>\n",
       "      <th>Lng</th>\n",
       "      <th>Max Temp</th>\n",
       "      <th>Humidity</th>\n",
       "      <th>Cloudiness</th>\n",
       "      <th>Wind Speed</th>\n",
       "      <th>Country</th>\n",
       "      <th>Date</th>\n",
       "    </tr>\n",
       "  </thead>\n",
       "  <tbody>\n",
       "    <tr>\n",
       "      <th>0</th>\n",
       "      <td>Ābādān</td>\n",
       "      <td>30.34</td>\n",
       "      <td>48.30</td>\n",
       "      <td>80.60</td>\n",
       "      <td>24</td>\n",
       "      <td>0</td>\n",
       "      <td>5.41</td>\n",
       "      <td>IR</td>\n",
       "      <td>1603382779</td>\n",
       "    </tr>\n",
       "    <tr>\n",
       "      <th>1</th>\n",
       "      <td>Saint-Philippe</td>\n",
       "      <td>-21.36</td>\n",
       "      <td>55.77</td>\n",
       "      <td>74.35</td>\n",
       "      <td>73</td>\n",
       "      <td>0</td>\n",
       "      <td>20.80</td>\n",
       "      <td>RE</td>\n",
       "      <td>1603382399</td>\n",
       "    </tr>\n",
       "    <tr>\n",
       "      <th>2</th>\n",
       "      <td>Hasaki</td>\n",
       "      <td>35.73</td>\n",
       "      <td>140.83</td>\n",
       "      <td>61.66</td>\n",
       "      <td>100</td>\n",
       "      <td>75</td>\n",
       "      <td>5.82</td>\n",
       "      <td>JP</td>\n",
       "      <td>1603382121</td>\n",
       "    </tr>\n",
       "    <tr>\n",
       "      <th>3</th>\n",
       "      <td>George Town</td>\n",
       "      <td>5.41</td>\n",
       "      <td>100.34</td>\n",
       "      <td>77.63</td>\n",
       "      <td>83</td>\n",
       "      <td>20</td>\n",
       "      <td>3.36</td>\n",
       "      <td>MY</td>\n",
       "      <td>1603382300</td>\n",
       "    </tr>\n",
       "    <tr>\n",
       "      <th>4</th>\n",
       "      <td>Chui</td>\n",
       "      <td>-33.70</td>\n",
       "      <td>-53.46</td>\n",
       "      <td>61.43</td>\n",
       "      <td>81</td>\n",
       "      <td>100</td>\n",
       "      <td>15.32</td>\n",
       "      <td>UY</td>\n",
       "      <td>1603382424</td>\n",
       "    </tr>\n",
       "    <tr>\n",
       "      <th>...</th>\n",
       "      <td>...</td>\n",
       "      <td>...</td>\n",
       "      <td>...</td>\n",
       "      <td>...</td>\n",
       "      <td>...</td>\n",
       "      <td>...</td>\n",
       "      <td>...</td>\n",
       "      <td>...</td>\n",
       "      <td>...</td>\n",
       "    </tr>\n",
       "    <tr>\n",
       "      <th>564</th>\n",
       "      <td>Ellisras</td>\n",
       "      <td>-23.66</td>\n",
       "      <td>27.74</td>\n",
       "      <td>86.56</td>\n",
       "      <td>23</td>\n",
       "      <td>0</td>\n",
       "      <td>6.67</td>\n",
       "      <td>ZA</td>\n",
       "      <td>1603382903</td>\n",
       "    </tr>\n",
       "    <tr>\n",
       "      <th>565</th>\n",
       "      <td>Yangambi</td>\n",
       "      <td>0.81</td>\n",
       "      <td>24.43</td>\n",
       "      <td>74.64</td>\n",
       "      <td>95</td>\n",
       "      <td>99</td>\n",
       "      <td>1.66</td>\n",
       "      <td>CD</td>\n",
       "      <td>1603382904</td>\n",
       "    </tr>\n",
       "    <tr>\n",
       "      <th>566</th>\n",
       "      <td>Pacific Grove</td>\n",
       "      <td>36.62</td>\n",
       "      <td>-121.92</td>\n",
       "      <td>55.38</td>\n",
       "      <td>100</td>\n",
       "      <td>90</td>\n",
       "      <td>5.82</td>\n",
       "      <td>US</td>\n",
       "      <td>1603382231</td>\n",
       "    </tr>\n",
       "    <tr>\n",
       "      <th>567</th>\n",
       "      <td>Nānākuli</td>\n",
       "      <td>21.39</td>\n",
       "      <td>-158.15</td>\n",
       "      <td>72.09</td>\n",
       "      <td>94</td>\n",
       "      <td>1</td>\n",
       "      <td>1.50</td>\n",
       "      <td>US</td>\n",
       "      <td>1603382904</td>\n",
       "    </tr>\n",
       "    <tr>\n",
       "      <th>568</th>\n",
       "      <td>Turbat</td>\n",
       "      <td>26.00</td>\n",
       "      <td>63.04</td>\n",
       "      <td>78.46</td>\n",
       "      <td>15</td>\n",
       "      <td>0</td>\n",
       "      <td>13.94</td>\n",
       "      <td>PK</td>\n",
       "      <td>1603382904</td>\n",
       "    </tr>\n",
       "  </tbody>\n",
       "</table>\n",
       "<p>569 rows × 9 columns</p>\n",
       "</div>"
      ],
      "text/plain": [
       "               City    Lat     Lng  Max Temp  Humidity  Cloudiness  \\\n",
       "0            Ābādān  30.34   48.30     80.60        24           0   \n",
       "1    Saint-Philippe -21.36   55.77     74.35        73           0   \n",
       "2            Hasaki  35.73  140.83     61.66       100          75   \n",
       "3       George Town   5.41  100.34     77.63        83          20   \n",
       "4              Chui -33.70  -53.46     61.43        81         100   \n",
       "..              ...    ...     ...       ...       ...         ...   \n",
       "564        Ellisras -23.66   27.74     86.56        23           0   \n",
       "565        Yangambi   0.81   24.43     74.64        95          99   \n",
       "566   Pacific Grove  36.62 -121.92     55.38       100          90   \n",
       "567        Nānākuli  21.39 -158.15     72.09        94           1   \n",
       "568          Turbat  26.00   63.04     78.46        15           0   \n",
       "\n",
       "     Wind Speed Country        Date  \n",
       "0          5.41      IR  1603382779  \n",
       "1         20.80      RE  1603382399  \n",
       "2          5.82      JP  1603382121  \n",
       "3          3.36      MY  1603382300  \n",
       "4         15.32      UY  1603382424  \n",
       "..          ...     ...         ...  \n",
       "564        6.67      ZA  1603382903  \n",
       "565        1.66      CD  1603382904  \n",
       "566        5.82      US  1603382231  \n",
       "567        1.50      US  1603382904  \n",
       "568       13.94      PK  1603382904  \n",
       "\n",
       "[569 rows x 9 columns]"
      ]
     },
     "execution_count": 6,
     "metadata": {},
     "output_type": "execute_result"
    }
   ],
   "source": [
    "# set up additional columns to hold information\n",
    "weather_df = pd.DataFrame({'City' : city_name_list,\n",
    "                           'Lat' : lat_list,\n",
    "                           'Lng' : lng_list,\n",
    "                           'Max Temp' : temp_list,\n",
    "                           'Humidity' : humidity_list,\n",
    "                           'Cloudiness' : cloud_list,\n",
    "                           'Wind Speed' : wind_list,\n",
    "                           'Country' : country_list,\n",
    "                           'Date' : date_list})\n",
    "\n",
    "weather_df"
   ]
  },
  {
   "cell_type": "markdown",
   "metadata": {},
   "source": [
    "## Exporting to CSV File"
   ]
  },
  {
   "cell_type": "code",
   "execution_count": 7,
   "metadata": {},
   "outputs": [],
   "source": [
    "# Output File (CSV)\n",
    "weather_df.to_csv(\"output_data/weatherpy/cities.csv\", index=False, encoding='utf-8')"
   ]
  },
  {
   "cell_type": "markdown",
   "metadata": {},
   "source": [
    "## Inspect the data and remove the cities where the humidity > 100%.\n",
    "     Skip this step if there are no cities that have humidity > 100%. "
   ]
  },
  {
   "cell_type": "code",
   "execution_count": 8,
   "metadata": {},
   "outputs": [
    {
     "data": {
      "text/plain": [
       "City          569\n",
       "Lat           569\n",
       "Lng           569\n",
       "Max Temp      569\n",
       "Humidity      569\n",
       "Cloudiness    569\n",
       "Wind Speed    569\n",
       "Country       569\n",
       "Date          569\n",
       "dtype: int64"
      ]
     },
     "execution_count": 8,
     "metadata": {},
     "output_type": "execute_result"
    }
   ],
   "source": [
    "weather_df.count()"
   ]
  },
  {
   "cell_type": "code",
   "execution_count": 9,
   "metadata": {},
   "outputs": [
    {
     "name": "stdout",
     "output_type": "stream",
     "text": [
      "[0      False\n",
      "1      False\n",
      "2      False\n",
      "3      False\n",
      "4      False\n",
      "       ...  \n",
      "564    False\n",
      "565    False\n",
      "566    False\n",
      "567    False\n",
      "568    False\n",
      "Name: Humidity, Length: 569, dtype: bool]\n"
     ]
    }
   ],
   "source": [
    "print([weather_df['Humidity'] > 100])"
   ]
  },
  {
   "cell_type": "markdown",
   "metadata": {},
   "source": [
    "--> step skipped since no cities over 100% humidity"
   ]
  },
  {
   "cell_type": "code",
   "execution_count": 10,
   "metadata": {},
   "outputs": [
    {
     "data": {
      "text/html": [
       "<div>\n",
       "<style scoped>\n",
       "    .dataframe tbody tr th:only-of-type {\n",
       "        vertical-align: middle;\n",
       "    }\n",
       "\n",
       "    .dataframe tbody tr th {\n",
       "        vertical-align: top;\n",
       "    }\n",
       "\n",
       "    .dataframe thead th {\n",
       "        text-align: right;\n",
       "    }\n",
       "</style>\n",
       "<table border=\"1\" class=\"dataframe\">\n",
       "  <thead>\n",
       "    <tr style=\"text-align: right;\">\n",
       "      <th></th>\n",
       "      <th>Lat</th>\n",
       "      <th>Lng</th>\n",
       "      <th>Max Temp</th>\n",
       "      <th>Humidity</th>\n",
       "      <th>Cloudiness</th>\n",
       "      <th>Wind Speed</th>\n",
       "      <th>Date</th>\n",
       "    </tr>\n",
       "  </thead>\n",
       "  <tbody>\n",
       "    <tr>\n",
       "      <th>count</th>\n",
       "      <td>569.000000</td>\n",
       "      <td>569.000000</td>\n",
       "      <td>569.000000</td>\n",
       "      <td>569.000000</td>\n",
       "      <td>569.000000</td>\n",
       "      <td>569.000000</td>\n",
       "      <td>5.690000e+02</td>\n",
       "    </tr>\n",
       "    <tr>\n",
       "      <th>mean</th>\n",
       "      <td>19.916520</td>\n",
       "      <td>21.915132</td>\n",
       "      <td>61.661072</td>\n",
       "      <td>70.896309</td>\n",
       "      <td>49.910369</td>\n",
       "      <td>7.970000</td>\n",
       "      <td>1.603383e+09</td>\n",
       "    </tr>\n",
       "    <tr>\n",
       "      <th>std</th>\n",
       "      <td>33.905279</td>\n",
       "      <td>88.565245</td>\n",
       "      <td>21.889571</td>\n",
       "      <td>22.094423</td>\n",
       "      <td>38.925001</td>\n",
       "      <td>5.597358</td>\n",
       "      <td>2.587743e+02</td>\n",
       "    </tr>\n",
       "    <tr>\n",
       "      <th>min</th>\n",
       "      <td>-54.800000</td>\n",
       "      <td>-175.200000</td>\n",
       "      <td>2.350000</td>\n",
       "      <td>1.000000</td>\n",
       "      <td>0.000000</td>\n",
       "      <td>0.380000</td>\n",
       "      <td>1.603382e+09</td>\n",
       "    </tr>\n",
       "    <tr>\n",
       "      <th>25%</th>\n",
       "      <td>-8.770000</td>\n",
       "      <td>-57.750000</td>\n",
       "      <td>47.980000</td>\n",
       "      <td>60.000000</td>\n",
       "      <td>5.000000</td>\n",
       "      <td>3.360000</td>\n",
       "      <td>1.603382e+09</td>\n",
       "    </tr>\n",
       "    <tr>\n",
       "      <th>50%</th>\n",
       "      <td>25.930000</td>\n",
       "      <td>25.540000</td>\n",
       "      <td>66.430000</td>\n",
       "      <td>77.000000</td>\n",
       "      <td>53.000000</td>\n",
       "      <td>6.930000</td>\n",
       "      <td>1.603383e+09</td>\n",
       "    </tr>\n",
       "    <tr>\n",
       "      <th>75%</th>\n",
       "      <td>48.610000</td>\n",
       "      <td>99.940000</td>\n",
       "      <td>78.390000</td>\n",
       "      <td>87.000000</td>\n",
       "      <td>90.000000</td>\n",
       "      <td>11.010000</td>\n",
       "      <td>1.603383e+09</td>\n",
       "    </tr>\n",
       "    <tr>\n",
       "      <th>max</th>\n",
       "      <td>78.220000</td>\n",
       "      <td>178.420000</td>\n",
       "      <td>106.340000</td>\n",
       "      <td>100.000000</td>\n",
       "      <td>100.000000</td>\n",
       "      <td>36.820000</td>\n",
       "      <td>1.603383e+09</td>\n",
       "    </tr>\n",
       "  </tbody>\n",
       "</table>\n",
       "</div>"
      ],
      "text/plain": [
       "              Lat         Lng    Max Temp    Humidity  Cloudiness  Wind Speed  \\\n",
       "count  569.000000  569.000000  569.000000  569.000000  569.000000  569.000000   \n",
       "mean    19.916520   21.915132   61.661072   70.896309   49.910369    7.970000   \n",
       "std     33.905279   88.565245   21.889571   22.094423   38.925001    5.597358   \n",
       "min    -54.800000 -175.200000    2.350000    1.000000    0.000000    0.380000   \n",
       "25%     -8.770000  -57.750000   47.980000   60.000000    5.000000    3.360000   \n",
       "50%     25.930000   25.540000   66.430000   77.000000   53.000000    6.930000   \n",
       "75%     48.610000   99.940000   78.390000   87.000000   90.000000   11.010000   \n",
       "max     78.220000  178.420000  106.340000  100.000000  100.000000   36.820000   \n",
       "\n",
       "               Date  \n",
       "count  5.690000e+02  \n",
       "mean   1.603383e+09  \n",
       "std    2.587743e+02  \n",
       "min    1.603382e+09  \n",
       "25%    1.603382e+09  \n",
       "50%    1.603383e+09  \n",
       "75%    1.603383e+09  \n",
       "max    1.603383e+09  "
      ]
     },
     "execution_count": 10,
     "metadata": {},
     "output_type": "execute_result"
    }
   ],
   "source": [
    "weather_df[['Lat', 'Lng', 'Max Temp', 'Humidity', 'Cloudiness', 'Wind Speed', 'Country', 'Date']].describe()"
   ]
  },
  {
   "cell_type": "markdown",
   "metadata": {},
   "source": [
    "## Plotting the Data\n"
   ]
  },
  {
   "cell_type": "markdown",
   "metadata": {},
   "source": [
    "## Latitude vs. Temperature Plot"
   ]
  },
  {
   "cell_type": "code",
   "execution_count": 11,
   "metadata": {},
   "outputs": [
    {
     "data": {
      "image/png": "[encoded data removed]",
      "text/plain": [
       "<Figure size 432x288 with 1 Axes>"
      ]
     },
     "metadata": {
      "needs_background": "light"
     },
     "output_type": "display_data"
    }
   ],
   "source": [
    "#Scatterplot\n",
    "plt.scatter(weather_df['Lat'], weather_df['Max Temp'], marker = \"o\")\n",
    "\n",
    "#labeling\n",
    "plt.title(f'City Latitude vs. Max Temperature ({time.strftime(\"%m-%d-%Y\")})')\n",
    "plt.xlabel('Latitude')\n",
    "plt.ylabel('Max Temperature (F)')\n",
    "plt.grid(True)\n",
    "\n",
    "#exporting plot as png\n",
    "plt.savefig(\"output_data/weatherpy/ fig 1 - Latitude_V_Temperature.png\")\n",
    "\n",
    "#printing\n",
    "plt.show()"
   ]
  },
  {
   "cell_type": "markdown",
   "metadata": {},
   "source": [
    "# Using a function to plot remaining plots"
   ]
  },
  {
   "cell_type": "code",
   "execution_count": 12,
   "metadata": {},
   "outputs": [],
   "source": [
    "#using a function to plot scatter plots\n",
    "\n",
    "def plotting_data(x_axis, y_axis, x_lab, y_lab, title, savename):\n",
    "    \n",
    "    #scatterplot\n",
    "    plt.scatter(x_axis, y_axis, marker = \"o\")\n",
    "    plt.grid(True)\n",
    "\n",
    "    #labeling\n",
    "    plt.title(title)\n",
    "    plt.xlabel(x_lab)\n",
    "    plt.ylabel(y_lab)\n",
    "    \n",
    "    #sizing\n",
    "    plt.tight_layout\n",
    "    \n",
    "    \n",
    "    #exporting plot as png\n",
    "    plt.savefig(f\"output_data/weatherpy/{savename}.png\")\n",
    "    \n",
    "    #printing\n",
    "    plt.show()  \n",
    "    "
   ]
  },
  {
   "cell_type": "markdown",
   "metadata": {},
   "source": [
    "## Latitude vs. Humidity Plot"
   ]
  },
  {
   "cell_type": "code",
   "execution_count": 13,
   "metadata": {},
   "outputs": [
    {
     "data": {
      "image/png": "[encoded data removed]",
      "text/plain": [
       "<Figure size 432x288 with 1 Axes>"
      ]
     },
     "metadata": {
      "needs_background": "light"
     },
     "output_type": "display_data"
    }
   ],
   "source": [
    "#labeling\n",
    "x_lab = 'Latitude'\n",
    "y_lab = 'Humidity (%)'\n",
    "title = f'City Latitude vs. Humidity ({time.strftime(\"%m-%d-%Y\")})'\n",
    "\n",
    "#saving\n",
    "savename = 'fig 2 - Latitude_V_Humidity'\n",
    "\n",
    "#function\n",
    "plotting_data(weather_df['Lat'], weather_df['Humidity'], x_lab, y_lab, title, savename)"
   ]
  },
  {
   "cell_type": "markdown",
   "metadata": {},
   "source": [
    "## Latitude vs. Cloudiness Plot"
   ]
  },
  {
   "cell_type": "code",
   "execution_count": 14,
   "metadata": {},
   "outputs": [
    {
     "data": {
      "image/png": "[encoded data removed]",
      "text/plain": [
       "<Figure size 432x288 with 1 Axes>"
      ]
     },
     "metadata": {
      "needs_background": "light"
     },
     "output_type": "display_data"
    }
   ],
   "source": [
    "#labeling\n",
    "x_lab = 'Latitude'\n",
    "y_lab = 'Cloudiness (%)'\n",
    "title = f'City Latitude vs. Cloudiness ({time.strftime(\"%m-%d-%Y\")})'\n",
    "\n",
    "#saving\n",
    "savename = 'fig 3 - Latitude_V_Cloudiness'\n",
    "\n",
    "#function\n",
    "plotting_data(weather_df['Lat'], weather_df['Cloudiness'], x_lab, y_lab, title, savename)"
   ]
  },
  {
   "cell_type": "markdown",
   "metadata": {},
   "source": [
    "## Latitude vs. Wind Speed Plot"
   ]
  },
  {
   "cell_type": "code",
   "execution_count": 15,
   "metadata": {},
   "outputs": [
    {
     "data": {
      "image/png": "[encoded data removed]",
      "text/plain": [
       "<Figure size 432x288 with 1 Axes>"
      ]
     },
     "metadata": {
      "needs_background": "light"
     },
     "output_type": "display_data"
    }
   ],
   "source": [
    "#labeling\n",
    "x_lab = 'Latitude'\n",
    "y_lab = 'wind Speed (mph)'\n",
    "title = f'City Latitude vs. Wind Speed ({time.strftime(\"%m-%d-%Y\")})'\n",
    "\n",
    "#saving\n",
    "savename = 'fig 4 - Latitude_V_Wind_speed'\n",
    "\n",
    "#function\n",
    "plotting_data(weather_df['Lat'], weather_df['Wind Speed'], x_lab, y_lab, title, savename)"
   ]
  },
  {
   "cell_type": "markdown",
   "metadata": {},
   "source": [
    "## Linear Regression"
   ]
  },
  {
   "cell_type": "code",
   "execution_count": 16,
   "metadata": {},
   "outputs": [],
   "source": [
    "#finding Northern and southern cities based on Latitude\n",
    "northern_cities = weather_df.loc[weather_df['Lat'] > 0.00]\n",
    "southern_cities = weather_df.loc[weather_df['Lat'] < 0.00]\n",
    "\n",
    "#resetting their indexes\n",
    "northern_cities.reset_index(inplace = True)\n",
    "southern_cities.reset_index(inplace = True)\n"
   ]
  },
  {
   "cell_type": "markdown",
   "metadata": {},
   "source": [
    "####  Northern Hemisphere - Max Temp vs. Latitude Linear Regression"
   ]
  },
  {
   "cell_type": "code",
   "execution_count": 17,
   "metadata": {},
   "outputs": [
    {
     "name": "stdout",
     "output_type": "stream",
     "text": [
      "The r-Value is: -0.8813425434825226\n"
     ]
    },
    {
     "data": {
      "image/png": "[encoded data removed]",
      "text/plain": [
       "<Figure size 432x288 with 1 Axes>"
      ]
     },
     "metadata": {
      "needs_background": "light"
     },
     "output_type": "display_data"
    }
   ],
   "source": [
    "#Scatterplot\n",
    "plt.scatter(northern_cities['Lat'], northern_cities['Max Temp'], marker = \"o\")\n",
    "\n",
    "#labeling\n",
    "plt.title(f'City Latitude vs. Max Temperature ({time.strftime(\"%m-%d-%Y\")})')\n",
    "plt.xlabel('Latitude')\n",
    "plt.ylabel('Max Temperature (F)')\n",
    "\n",
    "#linear Regression\n",
    "(slope, intercept, rvalue, pvalue, std_err) = linregress(northern_cities['Lat'], northern_cities['Max Temp'])\n",
    "\n",
    "#line formula --> y=mx+b\n",
    "reg_val = northern_cities['Lat'] * slope + intercept\n",
    "lineeq = f'y = {round(slope,2)}x + {round(intercept,2)}'\n",
    "\n",
    "#line plotting\n",
    "plt.plot(northern_cities['Lat'], reg_val, color='r')\n",
    "plt.annotate(lineeq, (5,20), color='red', fontsize=16)\n",
    "\n",
    "#exporting plot as png\n",
    "plt.savefig(\"output_data/weatherpy/fig 5 - LinearREG-Lat_V_Temp - North.png\")\n",
    "\n",
    "#printing\n",
    "print(f'The r-Value is: {rvalue}')\n",
    "plt.show()\n"
   ]
  },
  {
   "cell_type": "markdown",
   "metadata": {},
   "source": [
    "# Using a function to plot remaining plots"
   ]
  },
  {
   "cell_type": "code",
   "execution_count": 18,
   "metadata": {},
   "outputs": [],
   "source": [
    "#using a function to plot scatter plots with linear regression\n",
    "\n",
    "def line_reg_plotting(x_axis, y_axis, x_lab, y_lab, title, savename,linepos):\n",
    "    \n",
    "    #linear Regression\n",
    "    (slope, intercept, rvalue, pvalue, std_err) = linregress(x_axis, y_axis)\n",
    "    \n",
    "    #line formula --> y=mx+b\n",
    "    reg_val = x_axis * slope + intercept\n",
    "    lineeq = f'y = {round(slope,2)}x + {round(intercept,2)}'\n",
    "    \n",
    "    #scatterplot and lineplot\n",
    "    plt.scatter(x_axis, y_axis, marker = \"o\")\n",
    "    plt.plot(x_axis, reg_val, color='r')\n",
    "    plt.annotate(lineeq, linepos, color='red',fontsize = 16)\n",
    "    \n",
    "    \n",
    "    #labeling\n",
    "    plt.title(title)\n",
    "    plt.xlabel(x_lab)\n",
    "    plt.ylabel(y_lab)\n",
    "    \n",
    "    #exporting plot as png\n",
    "    plt.savefig(f\"output_data/weatherpy/{savename}.png\")\n",
    "    \n",
    "    #printing\n",
    "    print(f'The r-Value is: {rvalue}')\n",
    "    plt.show()  \n",
    "    \n"
   ]
  },
  {
   "cell_type": "markdown",
   "metadata": {},
   "source": [
    "####  Southern Hemisphere - Max Temp vs. Latitude Linear Regression"
   ]
  },
  {
   "cell_type": "code",
   "execution_count": 19,
   "metadata": {},
   "outputs": [
    {
     "name": "stdout",
     "output_type": "stream",
     "text": [
      "The r-Value is: 0.6705773334408188\n"
     ]
    },
    {
     "data": {
      "image/png": "[encoded data removed]",
      "text/plain": [
       "<Figure size 432x288 with 1 Axes>"
      ]
     },
     "metadata": {
      "needs_background": "light"
     },
     "output_type": "display_data"
    }
   ],
   "source": [
    "#labeling\n",
    "x_lab = 'Latitude'\n",
    "y_lab = 'Max Temperature (F)'\n",
    "title = f'City Latitude vs. Max Temperature ({time.strftime(\"%m-%d-%Y\")})'\n",
    "\n",
    "#saving\n",
    "savename = 'fig 6 - LinearREG-Lat_V_Temp - South.png'\n",
    "\n",
    "#line equation position\n",
    "linepos = (-55,90)\n",
    "\n",
    "#function\n",
    "line_reg_plotting(southern_cities['Lat'], southern_cities['Max Temp'], x_lab, y_lab, title, savename,linepos)  \n"
   ]
  },
  {
   "cell_type": "markdown",
   "metadata": {},
   "source": [
    "####  Northern Hemisphere - Humidity (%) vs. Latitude Linear Regression"
   ]
  },
  {
   "cell_type": "code",
   "execution_count": 20,
   "metadata": {},
   "outputs": [
    {
     "name": "stdout",
     "output_type": "stream",
     "text": [
      "The r-Value is: 0.3721735280401036\n"
     ]
    },
    {
     "data": {
      "image/png": "[encoded data removed]",
      "text/plain": [
       "<Figure size 432x288 with 1 Axes>"
      ]
     },
     "metadata": {
      "needs_background": "light"
     },
     "output_type": "display_data"
    }
   ],
   "source": [
    "#labeling\n",
    "x_lab = 'Latitude'\n",
    "y_lab = 'Humidity'\n",
    "title = f'City Latitude vs. Humidity ({time.strftime(\"%m-%d-%Y\")})'\n",
    "\n",
    "#saving\n",
    "savename = 'fig 7 - LinearREG-Lat_V_Humid - North.png'\n",
    "\n",
    "#line equation position\n",
    "linepos = (40,10)\n",
    "\n",
    "#labeling #saving #line equation position #function\n",
    "line_reg_plotting(northern_cities['Lat'], northern_cities['Humidity'], x_lab, y_lab, title, savename, linepos)  \n",
    "    \n",
    "    "
   ]
  },
  {
   "cell_type": "markdown",
   "metadata": {},
   "source": [
    "####  Southern Hemisphere - Humidity (%) vs. Latitude Linear Regression"
   ]
  },
  {
   "cell_type": "code",
   "execution_count": 21,
   "metadata": {},
   "outputs": [
    {
     "name": "stdout",
     "output_type": "stream",
     "text": [
      "The r-Value is: -0.022360068204776373\n"
     ]
    },
    {
     "data": {
      "image/png": "[encoded data removed]",
      "text/plain": [
       "<Figure size 432x288 with 1 Axes>"
      ]
     },
     "metadata": {
      "needs_background": "light"
     },
     "output_type": "display_data"
    }
   ],
   "source": [
    "#labeling\n",
    "x_lab = 'Latitude'\n",
    "y_lab = 'Humidity'\n",
    "title = f'City Latitude vs. Humidity ({time.strftime(\"%m-%d-%Y\")})'\n",
    "\n",
    "#saving\n",
    "savename = 'fig 8 - LinearREG-Lat_V_Humid - South.png'\n",
    "\n",
    "#line equation position\n",
    "linepos = (-55,10)\n",
    "\n",
    "#function\n",
    "line_reg_plotting(southern_cities['Lat'], southern_cities['Humidity'], x_lab, y_lab, title, savename, linepos)  \n",
    "    "
   ]
  },
  {
   "cell_type": "markdown",
   "metadata": {},
   "source": [
    "####  Northern Hemisphere - Cloudiness (%) vs. Latitude Linear Regression"
   ]
  },
  {
   "cell_type": "code",
   "execution_count": 22,
   "metadata": {},
   "outputs": [
    {
     "name": "stdout",
     "output_type": "stream",
     "text": [
      "The r-Value is: 0.1948220347049943\n"
     ]
    },
    {
     "data": {
      "image/png": "[encoded data removed]",
      "text/plain": [
       "<Figure size 432x288 with 1 Axes>"
      ]
     },
     "metadata": {
      "needs_background": "light"
     },
     "output_type": "display_data"
    }
   ],
   "source": [
    "#labeling\n",
    "x_lab = 'Latitude'\n",
    "y_lab = 'Cloudiness'\n",
    "title = f'City Latitude vs. Cloudiness ({time.strftime(\"%m-%d-%Y\")})'\n",
    "\n",
    "#saving\n",
    "savename = 'fig 9 - LinearREG-Lat_V_Cloud - North.png'\n",
    "\n",
    "#line equation position\n",
    "linepos = (15,30)\n",
    "\n",
    "#function\n",
    "line_reg_plotting(northern_cities['Lat'], northern_cities['Cloudiness'], x_lab, y_lab, title, savename, linepos)  \n",
    "    "
   ]
  },
  {
   "cell_type": "markdown",
   "metadata": {},
   "source": [
    "####  Southern Hemisphere - Cloudiness (%) vs. Latitude Linear Regression"
   ]
  },
  {
   "cell_type": "code",
   "execution_count": 23,
   "metadata": {},
   "outputs": [
    {
     "name": "stdout",
     "output_type": "stream",
     "text": [
      "The r-Value is: -0.029700340055436748\n"
     ]
    },
    {
     "data": {
      "image/png": "[encoded data removed]",
      "text/plain": [
       "<Figure size 432x288 with 1 Axes>"
      ]
     },
     "metadata": {
      "needs_background": "light"
     },
     "output_type": "display_data"
    }
   ],
   "source": [
    "#labeling\n",
    "x_lab = 'Latitude'\n",
    "y_lab = 'Cloudiness'\n",
    "title = f'City Latitude vs. Cloudiness ({time.strftime(\"%m-%d-%Y\")})'\n",
    "\n",
    "#saving\n",
    "savename = 'fig 10 - LinearREG-Lat_V_Cloud - South.png'\n",
    "\n",
    "#line equation position\n",
    "linepos = (-55,30)\n",
    "\n",
    "#function\n",
    "line_reg_plotting(southern_cities['Lat'], southern_cities['Cloudiness'], x_lab, y_lab, title, savename, linepos)  \n",
    "    "
   ]
  },
  {
   "cell_type": "markdown",
   "metadata": {},
   "source": [
    "####  Northern Hemisphere - Wind Speed (mph) vs. Latitude Linear Regression"
   ]
  },
  {
   "cell_type": "code",
   "execution_count": 24,
   "metadata": {},
   "outputs": [
    {
     "name": "stdout",
     "output_type": "stream",
     "text": [
      "The r-Value is: 0.16215188690252916\n"
     ]
    },
    {
     "data": {
      "image/png": "[encoded data removed]",
      "text/plain": [
       "<Figure size 432x288 with 1 Axes>"
      ]
     },
     "metadata": {
      "needs_background": "light"
     },
     "output_type": "display_data"
    }
   ],
   "source": [
    "#labeling\n",
    "x_lab = 'Latitude'\n",
    "y_lab = 'Wind Speed'\n",
    "title = f'City Latitude vs. Wind Speed ({time.strftime(\"%m-%d-%Y\")})'\n",
    "\n",
    "#saving\n",
    "savename = 'fig 11 - LinearREG-Lat_V_Wind - North.png'\n",
    "\n",
    "#line equation position\n",
    "linepos = (15,30)\n",
    "\n",
    "#function\n",
    "line_reg_plotting(northern_cities['Lat'], northern_cities['Wind Speed'], x_lab, y_lab, title, savename, linepos)  \n",
    "    "
   ]
  },
  {
   "cell_type": "markdown",
   "metadata": {},
   "source": [
    "####  Southern Hemisphere - Wind Speed (mph) vs. Latitude Linear Regression"
   ]
  },
  {
   "cell_type": "code",
   "execution_count": 26,
   "metadata": {},
   "outputs": [
    {
     "name": "stdout",
     "output_type": "stream",
     "text": [
      "The r-Value is: -0.0944369005734259\n"
     ]
    },
    {
     "data": {
      "image/png": "[encoded data removed]",
      "text/plain": [
       "<Figure size 432x288 with 1 Axes>"
      ]
     },
     "metadata": {
      "needs_background": "light"
     },
     "output_type": "display_data"
    }
   ],
   "source": [
    "#labeling\n",
    "x_lab = 'Latitude'\n",
    "y_lab = 'Wind Speed'\n",
    "title = f'City Latitude vs. Wind Speed ({time.strftime(\"%m-%d-%Y\")})'\n",
    "\n",
    "#saving\n",
    "savename = 'fig 12 - LinearREG-Lat_V_Wind - North.png'\n",
    "\n",
    "#line equation position\n",
    "linepos = (-55,15)\n",
    "\n",
    "#function\n",
    "line_reg_plotting(southern_cities['Lat'], southern_cities['Wind Speed'], x_lab, y_lab, title, savename, linepos)  \n",
    "    "
   ]
  },
  {
   "cell_type": "code",
   "execution_count": null,
   "metadata": {},
   "outputs": [],
   "source": []
  }
 ],
 "metadata": {
  "anaconda-cloud": {},
  "kernel_info": {
   "name": "python3"
  },
  "kernelspec": {
   "display_name": "Python 3",
   "language": "python",
   "name": "python3"
  },
  "language_info": {
   "codemirror_mode": {
    "name": "ipython",
    "version": 3
   },
   "file_extension": ".py",
   "mimetype": "text/x-python",
   "name": "python",
   "nbconvert_exporter": "python",
   "pygments_lexer": "ipython3",
   "version": "3.8.3"
  },
  "latex_envs": {
   "LaTeX_envs_menu_present": true,
   "autoclose": false,
   "autocomplete": true,
   "bibliofile": "biblio.bib",
   "cite_by": "apalike",
   "current_citInitial": 1,
   "eqLabelWithNumbers": true,
   "eqNumInitial": 1,
   "hotkeys": {
    "equation": "Ctrl-E",
    "itemize": "Ctrl-I"
   },
   "labels_anchors": false,
   "latex_user_defs": false,
   "report_style_numbering": false,
   "user_envs_cfg": false
  },
  "nteract": {
   "version": "0.12.3"
  }
 },
 "nbformat": 4,
 "nbformat_minor": 2
}
